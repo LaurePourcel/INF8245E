{
 "cells": [
  {
   "cell_type": "markdown",
   "metadata": {},
   "source": [
    "# Import"
   ]
  },
  {
   "cell_type": "code",
   "execution_count": 4,
   "metadata": {},
   "outputs": [],
   "source": [
    "import numpy as np\n",
    "import pandas as pd\n",
    "import matplotlib.pyplot as plt\n",
    "from sklearn.model_selection import train_test_split\n",
    "from sklearn.preprocessing import LabelEncoder\n",
    "from sklearn.ensemble import RandomForestClassifier\n",
    "from sklearn.metrics import f1_score, recall_score, accuracy_score, classification_report, confusion_matrix\n"
   ]
  },
  {
   "cell_type": "markdown",
   "metadata": {},
   "source": [
    "# Download"
   ]
  },
  {
   "cell_type": "code",
   "execution_count": 7,
   "metadata": {},
   "outputs": [],
   "source": [
    "data_train= pd.read_csv(r'C:\\Users\\loulo\\OneDrive\\Bureau\\cours\\INF8245E\\competi\\train.csv', na_values=['Insert Band Name', 'Insert Band Genre', 'Insert Band Country of Origin'])\n",
    "data_test = pd.read_csv(r'C:\\Users\\loulo\\OneDrive\\Bureau\\cours\\INF8245E\\competi\\test.csv', na_values=['Insert Band Name', 'Insert Band Genre', 'Insert Band Country of Origin'])\n",
    "X_train = data_train.drop(columns=['Concert Enjoyment', 'Id'])\n",
    "y_train = data_train['Concert Enjoyment']\n",
    "X_test = data_test.drop(columns=['Id'])"
   ]
  },
  {
   "cell_type": "markdown",
   "metadata": {},
   "source": [
    "# Pre processing"
   ]
  },
  {
   "cell_type": "markdown",
   "metadata": {},
   "source": [
    "## encodage"
   ]
  },
  {
   "cell_type": "code",
   "execution_count": 37,
   "metadata": {},
   "outputs": [],
   "source": [
    "enc = LabelEncoder()\n",
    "enc.fit(X_train['Concert Goer Country of Origin'])\n",
    "X_train['Band Country of Origin'],X_train['Concert Goer Country of Origin'] = enc.transform(X_train['Band Country of Origin']),enc.transform(X_train['Concert Goer Country of Origin'])\n",
    "X_test['Band Country of Origin'], X_test['Concert Goer Country of Origin'] = enc.transform(X_test['Band Country of Origin']),enc.transform(X_test['Concert Goer Country of Origin'])\n",
    "enc.fit(X_train['Band Name'])\n",
    "X_train['Band Name'],X_test['Band Name'] = enc.transform(X_train['Band Name']),enc.transform(X_test['Band Name'])\n",
    "enc.fit(X_train['Band Genre'])\n",
    "X_train['Band Genre'],X_test['Band Genre']  = enc.transform(X_train['Band Genre']),enc.transform(X_test['Band Genre'])\n",
    "enc.fit(X_train['Concert Goer ID'])\n",
    "X_train['Concert Goer ID'],X_test['Concert Goer ID'] = enc.transform(X_train['Concert Goer ID']),enc.transform(X_test['Concert Goer ID'])"
   ]
  },
  {
   "cell_type": "markdown",
   "metadata": {},
   "source": [
    "## Colonne "
   ]
  },
  {
   "cell_type": "markdown",
   "metadata": {},
   "source": [
    "On vient remplir les valeurs Nan des colonnes dans le dataset d'entrainement et de test quand cela est possible. "
   ]
  },
  {
   "cell_type": "code",
   "execution_count": 38,
   "metadata": {},
   "outputs": [],
   "source": [
    "new_df = pd.concat([X_train,X_test])\n",
    "colonnes = new_df.columns"
   ]
  },
  {
   "cell_type": "markdown",
   "metadata": {},
   "source": [
    "#### Colonne 0, 1 et 2 : Band Name, Band Genre et Band country of Origin "
   ]
  },
  {
   "cell_type": "code",
   "execution_count": 39,
   "metadata": {},
   "outputs": [
    {
     "name": "stdout",
     "output_type": "stream",
     "text": [
      "pour Band Name on a 200000 entrées\n",
      "pour Band Genre on a 200000 entrées\n",
      "pour Band Country of Origin on a 200000 entrées\n"
     ]
    }
   ],
   "source": [
    "results = list(new_df[colonnes[0]].value_counts())\n",
    "somme =0\n",
    "for k in range(len (results)): \n",
    "    somme += results[k]\n",
    "print('pour', colonnes[0], 'on a', somme, 'entrées')\n",
    "\n",
    "results = list(new_df[colonnes[1]].value_counts())\n",
    "somme =0\n",
    "for k in range(len (results)): \n",
    "    somme += results[k]\n",
    "print('pour', colonnes[1], 'on a', somme, 'entrées')\n",
    "results = list(new_df[colonnes[2]].value_counts())\n",
    "somme =0\n",
    "for k in range(len (results)): \n",
    "    somme += results[k]\n",
    "print('pour', colonnes[2], 'on a', somme, 'entrées')\n"
   ]
  },
  {
   "cell_type": "markdown",
   "metadata": {},
   "source": [
    "#### Colonne 3 : Band Debut"
   ]
  },
  {
   "cell_type": "markdown",
   "metadata": {},
   "source": [
    "Il manque certaines années de début pour certains groupes. On peut les retrouver en prenant la valeur indiquées pour le même groupe et d'autres concerts "
   ]
  },
  {
   "cell_type": "code",
   "execution_count": 40,
   "metadata": {},
   "outputs": [
    {
     "name": "stdout",
     "output_type": "stream",
     "text": [
      "pour Band Debut on a 198986 entrées\n"
     ]
    }
   ],
   "source": [
    "results = list(new_df[colonnes[3]].value_counts())\n",
    "somme =0\n",
    "for k in range(len (results)): \n",
    "    somme += results[k]\n",
    "print('pour', colonnes[3], 'on a', somme, 'entrées')"
   ]
  },
  {
   "cell_type": "code",
   "execution_count": 41,
   "metadata": {},
   "outputs": [],
   "source": [
    "#2 secondes\n",
    "for l in range (21):\n",
    "    liste_des_bandes_sans_debut = new_df[new_df['Band Debut'].isna()]['Band Name'].unique()\n",
    "    liste_des_bandes_sans_debut_index = new_df[new_df['Band Debut'].isna()].index\n",
    "    for k in range (len(liste_des_bandes_sans_debut)): \n",
    "        val = (new_df[new_df['Band Name']==liste_des_bandes_sans_debut[k]]['Band Debut'].value_counts()).index[0]\n",
    "        new_df.loc[liste_des_bandes_sans_debut_index[k], 'Band Debut'] = val"
   ]
  },
  {
   "cell_type": "code",
   "execution_count": 42,
   "metadata": {},
   "outputs": [
    {
     "name": "stdout",
     "output_type": "stream",
     "text": [
      "pour Band Debut on a maitenant 200000 entrées\n"
     ]
    }
   ],
   "source": [
    "results = list(new_df[colonnes[3]].value_counts())\n",
    "somme =0\n",
    "for k in range(len (results)): \n",
    "    somme += results[k]\n",
    "print('pour', colonnes[3], 'on a maitenant', somme, 'entrées')"
   ]
  },
  {
   "cell_type": "markdown",
   "metadata": {},
   "source": [
    "#### Colonne 4 : Concert ID"
   ]
  },
  {
   "cell_type": "markdown",
   "metadata": {},
   "source": [
    "Il manque certains concert id. On remplit les manquants en considérant que c'est le même ID que d'autres concerts \n",
    "- du même groupe \n",
    "- du même genre \n",
    "- même nombre de spectateurs\n",
    "- même condition de pluie et venue en intérieur\n",
    "- différent goer id"
   ]
  },
  {
   "cell_type": "code",
   "execution_count": 43,
   "metadata": {},
   "outputs": [
    {
     "name": "stdout",
     "output_type": "stream",
     "text": [
      "pour Concert ID on a 198972 entrées\n"
     ]
    }
   ],
   "source": [
    "results = list(new_df[colonnes[4]].value_counts())\n",
    "somme =0\n",
    "for k in range(len (results)): \n",
    "    somme += results[k]\n",
    "print('pour', colonnes[4], 'on a', somme, 'entrées')"
   ]
  },
  {
   "cell_type": "code",
   "execution_count": 44,
   "metadata": {},
   "outputs": [],
   "source": [
    "#31 secondes\n",
    "list_csi_index = new_df[new_df['Concert ID'].isna()].index\n",
    "for k in range (len(list_csi_index)):\n",
    "    if len((new_df[(new_df['Band Name'] == new_df.iloc[list_csi_index[k]]['Band Name']) & (new_df['Band Genre'] == new_df.iloc[list_csi_index[k]]['Band Genre']) & (new_df['Inside Venue'] == new_df.iloc[list_csi_index[k]]['Inside Venue']) & (new_df['Rain'] == new_df.iloc[list_csi_index[k]]['Rain']) & (new_df['Concert Attendance'] == new_df.iloc[list_csi_index[k]]['Concert Attendance']) & (new_df['Concert Goer ID'] != new_df.iloc[list_csi_index[k]]['Concert Goer ID'])])) > 0 : \n",
    "        val = (new_df[(new_df['Band Name'] == new_df.iloc[list_csi_index[k]]['Band Name']) & (new_df['Band Genre'] == new_df.iloc[list_csi_index[k]]['Band Genre']) & (new_df['Inside Venue'] == new_df.iloc[list_csi_index[k]]['Inside Venue']) & (new_df['Rain'] == new_df.iloc[list_csi_index[k]]['Rain']) & (new_df['Concert Attendance'] == new_df.iloc[list_csi_index[k]]['Concert Attendance']) & (new_df['Concert Goer ID'] != new_df.iloc[list_csi_index[k]]['Concert Goer ID'])]['Concert ID'].value_counts()).index[0]\n",
    "        new_df.loc[list_csi_index[k], 'Concert ID']=val"
   ]
  },
  {
   "cell_type": "code",
   "execution_count": 45,
   "metadata": {},
   "outputs": [
    {
     "name": "stdout",
     "output_type": "stream",
     "text": [
      "pour Concert ID on a maintenant 199977 entrées\n"
     ]
    }
   ],
   "source": [
    "results = list(new_df[colonnes[4]].value_counts())\n",
    "somme =0\n",
    "for k in range(len (results)): \n",
    "    somme += results[k]\n",
    "print('pour', colonnes[4], 'on a maintenant', somme, 'entrées')"
   ]
  },
  {
   "cell_type": "markdown",
   "metadata": {},
   "source": [
    "Il reste 23 entrées sans concert ID, toute dans le train set. On peut décider de retirer ses lignes ou non. Voici la commande pour les retirer"
   ]
  },
  {
   "cell_type": "code",
   "execution_count": 46,
   "metadata": {},
   "outputs": [],
   "source": [
    "\n",
    "#new_df = new_df[~new_df['Concert ID'].isna()]"
   ]
  },
  {
   "cell_type": "markdown",
   "metadata": {},
   "source": [
    "#### Colonne 5 : Concert Attendance"
   ]
  },
  {
   "cell_type": "code",
   "execution_count": 47,
   "metadata": {},
   "outputs": [
    {
     "name": "stdout",
     "output_type": "stream",
     "text": [
      "pour Concert Attendance on a 198953 entrées\n"
     ]
    }
   ],
   "source": [
    "results = list(new_df[colonnes[5]].value_counts())\n",
    "somme =0\n",
    "for k in range(len (results)): \n",
    "    somme += results[k]\n",
    "print('pour', colonnes[5], 'on a', somme, 'entrées')"
   ]
  },
  {
   "cell_type": "code",
   "execution_count": 48,
   "metadata": {},
   "outputs": [],
   "source": [
    "liste_csa = list(new_df[new_df['Concert Attendance'].isna()]['Concert ID'])\n",
    "liste_csa_index = new_df[new_df['Concert Attendance'].isna()].index\n",
    "for k in range (len(liste_csa)):\n",
    "    if len(new_df[new_df['Concert ID']==liste_csa[k]]['Concert Attendance']) >0 :\n",
    "        val = (new_df[new_df['Concert ID']==liste_csa[k]]['Concert Attendance'].value_counts()).index[0]\n",
    "        new_df.loc[liste_csa_index[k], 'Concert Attendance'] = val"
   ]
  },
  {
   "cell_type": "code",
   "execution_count": 49,
   "metadata": {},
   "outputs": [
    {
     "name": "stdout",
     "output_type": "stream",
     "text": [
      "pour Concert Attendance on a maintenant 199995 entrées\n"
     ]
    }
   ],
   "source": [
    "results = list(new_df[colonnes[5]].value_counts())\n",
    "somme =0\n",
    "for k in range(len (results)): \n",
    "    somme += results[k]\n",
    "print('pour', colonnes[5], 'on a maintenant', somme, 'entrées')"
   ]
  },
  {
   "cell_type": "code",
   "execution_count": 50,
   "metadata": {},
   "outputs": [],
   "source": [
    "for name in ['Concert ID',\t'Concert Attendance']:\n",
    "  new_df[name].fillna(-1, inplace = True)"
   ]
  },
  {
   "cell_type": "markdown",
   "metadata": {},
   "source": [
    "#### Colonne 6 : Inside Venue "
   ]
  },
  {
   "cell_type": "code",
   "execution_count": 51,
   "metadata": {},
   "outputs": [
    {
     "name": "stdout",
     "output_type": "stream",
     "text": [
      "pour Inside Venue on a 198996 entrées\n"
     ]
    }
   ],
   "source": [
    "results = list(new_df[colonnes[6]].value_counts())\n",
    "somme =0\n",
    "for k in range(len (results)): \n",
    "    somme += results[k]\n",
    "print('pour', colonnes[6], 'on a', somme, 'entrées')"
   ]
  },
  {
   "cell_type": "code",
   "execution_count": 52,
   "metadata": {},
   "outputs": [],
   "source": [
    "liste_iv = list(new_df[new_df['Inside Venue'].isna()]['Concert ID'])\n",
    "liste_iv_index = new_df[new_df['Inside Venue'].isna()].index\n",
    "for k in range (len(liste_iv)):\n",
    "    if len(new_df[new_df['Concert ID']==liste_iv[k]]['Inside Venue'])>0:\n",
    "        val = (new_df[new_df['Concert ID']==liste_iv[k]]['Inside Venue'].value_counts()).index[0]\n",
    "        new_df.loc[liste_iv_index[k], 'Inside Venue'] = val"
   ]
  },
  {
   "cell_type": "code",
   "execution_count": 53,
   "metadata": {},
   "outputs": [
    {
     "name": "stdout",
     "output_type": "stream",
     "text": [
      "pour Inside Venue on a 200000 entrées\n"
     ]
    }
   ],
   "source": [
    "results = list(new_df[colonnes[6]].value_counts())\n",
    "somme =0\n",
    "for k in range(len (results)): \n",
    "    somme += results[k]\n",
    "print('pour', colonnes[6], 'on a', somme, 'entrées')"
   ]
  },
  {
   "cell_type": "markdown",
   "metadata": {},
   "source": [
    "#### Colonne 7 : Rain"
   ]
  },
  {
   "cell_type": "code",
   "execution_count": 54,
   "metadata": {},
   "outputs": [
    {
     "name": "stdout",
     "output_type": "stream",
     "text": [
      "pour Rain on a 198996 entrées\n"
     ]
    }
   ],
   "source": [
    "results = list(new_df[colonnes[7]].value_counts())\n",
    "somme =0\n",
    "for k in range(len (results)): \n",
    "    somme += results[k]\n",
    "print('pour', colonnes[7], 'on a', somme, 'entrées')"
   ]
  },
  {
   "cell_type": "code",
   "execution_count": 55,
   "metadata": {},
   "outputs": [],
   "source": [
    "liste_r = list(new_df[new_df['Rain'].isna()]['Concert ID'])\n",
    "liste_r_index = new_df[new_df['Rain'].isna()].index\n",
    "for k in range (len(liste_r)):\n",
    "    val = (new_df[new_df['Concert ID']==liste_r[k]]['Rain'].value_counts()).index[0]\n",
    "    new_df.loc[liste_r_index[k], 'Rain'] = val"
   ]
  },
  {
   "cell_type": "code",
   "execution_count": 56,
   "metadata": {},
   "outputs": [
    {
     "name": "stdout",
     "output_type": "stream",
     "text": [
      "pour Rain on a maintenant 200000 entrées\n"
     ]
    }
   ],
   "source": [
    "results = list(new_df[colonnes[7]].value_counts())\n",
    "somme =0\n",
    "for k in range(len (results)): \n",
    "    somme += results[k]\n",
    "print('pour', colonnes[7], 'on a maintenant' , somme, 'entrées')"
   ]
  },
  {
   "cell_type": "markdown",
   "metadata": {},
   "source": [
    "#### Colonne 8 : Seated\n",
    "Au sein d'un même concert les spectateurs ne sont pas tous assis, on ne peut aps deviner cette information quand elle est manquante"
   ]
  },
  {
   "cell_type": "code",
   "execution_count": 57,
   "metadata": {},
   "outputs": [],
   "source": [
    "for name in ['Seated']:\n",
    "  new_df[name].fillna(0, inplace = True)"
   ]
  },
  {
   "cell_type": "markdown",
   "metadata": {},
   "source": [
    "#### Colonne 9,10,11,12 : Personnality traits"
   ]
  },
  {
   "cell_type": "code",
   "execution_count": 58,
   "metadata": {},
   "outputs": [],
   "source": [
    "Lscp = list(new_df[new_df['Personnality Trait 1'].isna()].index)\n",
    "for m in range (len(Lscp)): \n",
    "    inter_1 = new_df.iloc[Lscp[m]]['Concert Goer ID']\n",
    "    inter_2 = (new_df[new_df['Concert Goer ID'] == inter_1]['Personnality Trait 1'].value_counts()).index[0]\n",
    "    new_df.loc[Lscp[m], 'Personnality Trait 1']= inter_2\n",
    "\n",
    "Lscp2 = list(new_df[new_df['Personnality Trait 2'].isna()].index)\n",
    "for n in range (len(Lscp2)): \n",
    "    inter_3 = new_df.iloc[Lscp2[n]]['Concert Goer ID']\n",
    "    inter_4 = (new_df[new_df['Concert Goer ID'] == inter_3]['Personnality Trait 2'].value_counts()).index[0]\n",
    "    new_df.loc[Lscp2[n], 'Personnality Trait 2']= inter_4\n",
    "\n",
    "Lscp3 = list(new_df[new_df['Personnality Trait 3'].isna()].index)\n",
    "for o in range (len(Lscp3)): \n",
    "    inter_5 = new_df.iloc[Lscp3[o]]['Concert Goer ID']\n",
    "    inter_6 = (new_df[new_df['Concert Goer ID'] == inter_5]['Personnality Trait 3'].value_counts()).index[0]\n",
    "    new_df.loc[Lscp3[o], 'Personnality Trait 3']= inter_6\n",
    "\n",
    "Lscp4 = list(new_df[new_df['Personnality Trait 4'].isna()].index)\n",
    "for p in range (len(Lscp4)): \n",
    "    inter_7 = new_df.iloc[Lscp4[p]]['Concert Goer ID']\n",
    "    inter_8 = (new_df[new_df['Concert Goer ID'] == inter_7]['Personnality Trait 4'].value_counts()).index[0]\n",
    "    new_df.loc[Lscp4[p], 'Personnality Trait 4']= inter_8"
   ]
  },
  {
   "cell_type": "markdown",
   "metadata": {},
   "source": [
    "#### Colonne 13 : Concert Goer Age "
   ]
  },
  {
   "cell_type": "code",
   "execution_count": 59,
   "metadata": {},
   "outputs": [
    {
     "name": "stdout",
     "output_type": "stream",
     "text": [
      "pour Concert Goer Age on a 199021 entrées\n"
     ]
    }
   ],
   "source": [
    "results = list(new_df[colonnes[13]].value_counts())\n",
    "somme =0\n",
    "for k in range(len (results)): \n",
    "    somme += results[k]\n",
    "print('pour', colonnes[13], 'on a' , somme, 'entrées')"
   ]
  },
  {
   "cell_type": "code",
   "execution_count": 60,
   "metadata": {},
   "outputs": [],
   "source": [
    "liste_r = list(new_df[new_df['Concert Goer Age'].isna()]['Concert Goer ID'])\n",
    "liste_r_index = new_df[new_df['Concert Goer Age'].isna()].index\n",
    "for k in range (len(liste_r)):\n",
    "    val = (new_df[new_df['Concert Goer ID']==liste_r[k]]['Concert Goer Age'].value_counts()).index[0]\n",
    "    new_df.loc[liste_r_index[k], 'Concert Goer Age'] = val"
   ]
  },
  {
   "cell_type": "code",
   "execution_count": 61,
   "metadata": {},
   "outputs": [
    {
     "name": "stdout",
     "output_type": "stream",
     "text": [
      "pour Concert Goer Age on a maintenant 200000 entrées\n"
     ]
    }
   ],
   "source": [
    "results = list(new_df[colonnes[13]].value_counts())\n",
    "somme =0\n",
    "for k in range(len (results)): \n",
    "    somme += results[k]\n",
    "print('pour', colonnes[13], 'on a maintenant' , somme, 'entrées')"
   ]
  },
  {
   "cell_type": "markdown",
   "metadata": {},
   "source": [
    "#### Colonne 14 : Concert Goer ID"
   ]
  },
  {
   "cell_type": "code",
   "execution_count": 62,
   "metadata": {},
   "outputs": [
    {
     "name": "stdout",
     "output_type": "stream",
     "text": [
      "pour Concert Goer ID on a 200000 entrées\n"
     ]
    }
   ],
   "source": [
    "results = list(new_df[colonnes[14]].value_counts())\n",
    "somme =0\n",
    "for k in range(len (results)): \n",
    "    somme += results[k]\n",
    "print('pour', colonnes[14], 'on a' , somme, 'entrées')"
   ]
  },
  {
   "cell_type": "markdown",
   "metadata": {},
   "source": [
    "#### Colonne 15 : Height (cm)"
   ]
  },
  {
   "cell_type": "code",
   "execution_count": 63,
   "metadata": {},
   "outputs": [
    {
     "name": "stdout",
     "output_type": "stream",
     "text": [
      "pour Height (cm) on a 199013 entrées\n"
     ]
    }
   ],
   "source": [
    "results = list(new_df[colonnes[15]].value_counts())\n",
    "somme =0\n",
    "for k in range(len (results)): \n",
    "    somme += results[k]\n",
    "print('pour', colonnes[15], 'on a' , somme, 'entrées')"
   ]
  },
  {
   "cell_type": "code",
   "execution_count": 64,
   "metadata": {},
   "outputs": [],
   "source": [
    "liste_r = list(new_df[new_df['Height (cm)'].isna()]['Concert Goer ID'])\n",
    "liste_r_index = new_df[new_df['Height (cm)'].isna()].index\n",
    "for k in range (len(liste_r)):\n",
    "    val = (new_df[new_df['Concert Goer ID']==liste_r[k]]['Height (cm)'].value_counts()).index[0]\n",
    "    new_df.loc[liste_r_index[k], 'Height (cm)'] = val"
   ]
  },
  {
   "cell_type": "code",
   "execution_count": 65,
   "metadata": {},
   "outputs": [
    {
     "name": "stdout",
     "output_type": "stream",
     "text": [
      "pour Height (cm) on a maintenant 200000 entrées\n"
     ]
    }
   ],
   "source": [
    "results = list(new_df[colonnes[15]].value_counts())\n",
    "somme =0\n",
    "for k in range(len (results)): \n",
    "    somme += results[k]\n",
    "print('pour', colonnes[15], 'on a maintenant' , somme, 'entrées')"
   ]
  },
  {
   "cell_type": "markdown",
   "metadata": {},
   "source": [
    "## Exportation"
   ]
  },
  {
   "cell_type": "code",
   "execution_count": 5,
   "metadata": {},
   "outputs": [
    {
     "ename": "NameError",
     "evalue": "name 'new_df' is not defined",
     "output_type": "error",
     "traceback": [
      "\u001b[1;31m---------------------------------------------------------------------------\u001b[0m",
      "\u001b[1;31mNameError\u001b[0m                                 Traceback (most recent call last)",
      "\u001b[1;32mc:\\Users\\loulo\\OneDrive\\Bureau\\cours\\INF8245E\\competi\\code\\new_df.ipynb Cellule 53\u001b[0m in \u001b[0;36m<cell line: 1>\u001b[1;34m()\u001b[0m\n\u001b[1;32m----> <a href='vscode-notebook-cell:/c%3A/Users/loulo/OneDrive/Bureau/cours/INF8245E/competi/code/new_df.ipynb#Y103sZmlsZQ%3D%3D?line=0'>1</a>\u001b[0m new_df\u001b[39m.\u001b[39mto_csv(\u001b[39m'\u001b[39m\u001b[39mprepro.csv\u001b[39m\u001b[39m'\u001b[39m)\n",
      "\u001b[1;31mNameError\u001b[0m: name 'new_df' is not defined"
     ]
    }
   ],
   "source": [
    "new_df.to_csv('prepro.csv')"
   ]
  },
  {
   "cell_type": "code",
   "execution_count": 9,
   "metadata": {},
   "outputs": [],
   "source": [
    "new_df = pd.read_csv(r'prepro.csv')"
   ]
  },
  {
   "cell_type": "code",
   "execution_count": 11,
   "metadata": {},
   "outputs": [
    {
     "data": {
      "text/html": [
       "<div>\n",
       "<style scoped>\n",
       "    .dataframe tbody tr th:only-of-type {\n",
       "        vertical-align: middle;\n",
       "    }\n",
       "\n",
       "    .dataframe tbody tr th {\n",
       "        vertical-align: top;\n",
       "    }\n",
       "\n",
       "    .dataframe thead th {\n",
       "        text-align: right;\n",
       "    }\n",
       "</style>\n",
       "<table border=\"1\" class=\"dataframe\">\n",
       "  <thead>\n",
       "    <tr style=\"text-align: right;\">\n",
       "      <th></th>\n",
       "      <th>Unnamed: 0</th>\n",
       "      <th>Band Name</th>\n",
       "      <th>Band Genre</th>\n",
       "      <th>Band Country of Origin</th>\n",
       "      <th>Band Debut</th>\n",
       "      <th>Concert ID</th>\n",
       "      <th>Concert Attendance</th>\n",
       "      <th>Inside Venue</th>\n",
       "      <th>Rain</th>\n",
       "      <th>Seated</th>\n",
       "      <th>Personnality Trait 1</th>\n",
       "      <th>Personnality Trait 2</th>\n",
       "      <th>Personnality Trait 3</th>\n",
       "      <th>Personnality Trait 4</th>\n",
       "      <th>Concert Goer Age</th>\n",
       "      <th>Concert Goer ID</th>\n",
       "      <th>Height (cm)</th>\n",
       "      <th>Concert Goer Country of Origin</th>\n",
       "    </tr>\n",
       "  </thead>\n",
       "  <tbody>\n",
       "    <tr>\n",
       "      <th>3349</th>\n",
       "      <td>3349</td>\n",
       "      <td>19</td>\n",
       "      <td>6</td>\n",
       "      <td>144</td>\n",
       "      <td>1983.0</td>\n",
       "      <td>943.0</td>\n",
       "      <td>1.096000e+07</td>\n",
       "      <td>True</td>\n",
       "      <td>False</td>\n",
       "      <td>True</td>\n",
       "      <td>-0.330953</td>\n",
       "      <td>-0.035585</td>\n",
       "      <td>0.680300</td>\n",
       "      <td>0.644960</td>\n",
       "      <td>57.0</td>\n",
       "      <td>1722</td>\n",
       "      <td>173.0</td>\n",
       "      <td>135</td>\n",
       "    </tr>\n",
       "    <tr>\n",
       "      <th>5166</th>\n",
       "      <td>5166</td>\n",
       "      <td>24</td>\n",
       "      <td>2</td>\n",
       "      <td>144</td>\n",
       "      <td>1979.0</td>\n",
       "      <td>411.0</td>\n",
       "      <td>2.980000e+07</td>\n",
       "      <td>True</td>\n",
       "      <td>False</td>\n",
       "      <td>True</td>\n",
       "      <td>-0.095859</td>\n",
       "      <td>-0.787721</td>\n",
       "      <td>0.794274</td>\n",
       "      <td>0.583554</td>\n",
       "      <td>41.0</td>\n",
       "      <td>1294</td>\n",
       "      <td>172.0</td>\n",
       "      <td>144</td>\n",
       "    </tr>\n",
       "    <tr>\n",
       "      <th>5418</th>\n",
       "      <td>5418</td>\n",
       "      <td>51</td>\n",
       "      <td>5</td>\n",
       "      <td>144</td>\n",
       "      <td>1976.0</td>\n",
       "      <td>573.0</td>\n",
       "      <td>5.987400e+08</td>\n",
       "      <td>False</td>\n",
       "      <td>False</td>\n",
       "      <td>False</td>\n",
       "      <td>-0.362725</td>\n",
       "      <td>-0.504123</td>\n",
       "      <td>0.153142</td>\n",
       "      <td>0.821562</td>\n",
       "      <td>35.0</td>\n",
       "      <td>404</td>\n",
       "      <td>164.0</td>\n",
       "      <td>144</td>\n",
       "    </tr>\n",
       "    <tr>\n",
       "      <th>5653</th>\n",
       "      <td>5653</td>\n",
       "      <td>43</td>\n",
       "      <td>3</td>\n",
       "      <td>144</td>\n",
       "      <td>1976.0</td>\n",
       "      <td>658.0</td>\n",
       "      <td>5.987400e+08</td>\n",
       "      <td>True</td>\n",
       "      <td>False</td>\n",
       "      <td>True</td>\n",
       "      <td>0.040520</td>\n",
       "      <td>1.891511</td>\n",
       "      <td>0.160245</td>\n",
       "      <td>-0.805622</td>\n",
       "      <td>23.0</td>\n",
       "      <td>503</td>\n",
       "      <td>175.0</td>\n",
       "      <td>24</td>\n",
       "    </tr>\n",
       "    <tr>\n",
       "      <th>6248</th>\n",
       "      <td>6248</td>\n",
       "      <td>34</td>\n",
       "      <td>6</td>\n",
       "      <td>144</td>\n",
       "      <td>1980.0</td>\n",
       "      <td>427.0</td>\n",
       "      <td>4.030000e+06</td>\n",
       "      <td>False</td>\n",
       "      <td>False</td>\n",
       "      <td>True</td>\n",
       "      <td>0.668493</td>\n",
       "      <td>0.051597</td>\n",
       "      <td>-2.105785</td>\n",
       "      <td>0.388392</td>\n",
       "      <td>66.0</td>\n",
       "      <td>1127</td>\n",
       "      <td>180.0</td>\n",
       "      <td>24</td>\n",
       "    </tr>\n",
       "    <tr>\n",
       "      <th>...</th>\n",
       "      <td>...</td>\n",
       "      <td>...</td>\n",
       "      <td>...</td>\n",
       "      <td>...</td>\n",
       "      <td>...</td>\n",
       "      <td>...</td>\n",
       "      <td>...</td>\n",
       "      <td>...</td>\n",
       "      <td>...</td>\n",
       "      <td>...</td>\n",
       "      <td>...</td>\n",
       "      <td>...</td>\n",
       "      <td>...</td>\n",
       "      <td>...</td>\n",
       "      <td>...</td>\n",
       "      <td>...</td>\n",
       "      <td>...</td>\n",
       "      <td>...</td>\n",
       "    </tr>\n",
       "    <tr>\n",
       "      <th>192399</th>\n",
       "      <td>22399</td>\n",
       "      <td>48</td>\n",
       "      <td>3</td>\n",
       "      <td>144</td>\n",
       "      <td>1979.0</td>\n",
       "      <td>317.0</td>\n",
       "      <td>8.103000e+07</td>\n",
       "      <td>True</td>\n",
       "      <td>False</td>\n",
       "      <td>True</td>\n",
       "      <td>-0.029212</td>\n",
       "      <td>-1.741027</td>\n",
       "      <td>0.788522</td>\n",
       "      <td>-0.201446</td>\n",
       "      <td>37.0</td>\n",
       "      <td>477</td>\n",
       "      <td>175.0</td>\n",
       "      <td>24</td>\n",
       "    </tr>\n",
       "    <tr>\n",
       "      <th>193971</th>\n",
       "      <td>23971</td>\n",
       "      <td>37</td>\n",
       "      <td>2</td>\n",
       "      <td>144</td>\n",
       "      <td>2000.0</td>\n",
       "      <td>23.0</td>\n",
       "      <td>4.030000e+06</td>\n",
       "      <td>True</td>\n",
       "      <td>False</td>\n",
       "      <td>False</td>\n",
       "      <td>-0.371054</td>\n",
       "      <td>-1.231813</td>\n",
       "      <td>-0.535272</td>\n",
       "      <td>2.036258</td>\n",
       "      <td>64.0</td>\n",
       "      <td>1504</td>\n",
       "      <td>158.0</td>\n",
       "      <td>24</td>\n",
       "    </tr>\n",
       "    <tr>\n",
       "      <th>194580</th>\n",
       "      <td>24580</td>\n",
       "      <td>34</td>\n",
       "      <td>6</td>\n",
       "      <td>144</td>\n",
       "      <td>1980.0</td>\n",
       "      <td>692.0</td>\n",
       "      <td>1.627540e+09</td>\n",
       "      <td>True</td>\n",
       "      <td>False</td>\n",
       "      <td>True</td>\n",
       "      <td>-0.133532</td>\n",
       "      <td>0.658807</td>\n",
       "      <td>0.887363</td>\n",
       "      <td>1.044550</td>\n",
       "      <td>25.0</td>\n",
       "      <td>815</td>\n",
       "      <td>158.0</td>\n",
       "      <td>47</td>\n",
       "    </tr>\n",
       "    <tr>\n",
       "      <th>194626</th>\n",
       "      <td>24626</td>\n",
       "      <td>29</td>\n",
       "      <td>5</td>\n",
       "      <td>144</td>\n",
       "      <td>1992.0</td>\n",
       "      <td>674.0</td>\n",
       "      <td>4.030000e+06</td>\n",
       "      <td>False</td>\n",
       "      <td>False</td>\n",
       "      <td>True</td>\n",
       "      <td>-0.200633</td>\n",
       "      <td>0.292829</td>\n",
       "      <td>-0.706950</td>\n",
       "      <td>2.170535</td>\n",
       "      <td>61.0</td>\n",
       "      <td>622</td>\n",
       "      <td>151.0</td>\n",
       "      <td>24</td>\n",
       "    </tr>\n",
       "    <tr>\n",
       "      <th>194773</th>\n",
       "      <td>24773</td>\n",
       "      <td>7</td>\n",
       "      <td>4</td>\n",
       "      <td>24</td>\n",
       "      <td>1958.0</td>\n",
       "      <td>591.0</td>\n",
       "      <td>1.480000e+06</td>\n",
       "      <td>False</td>\n",
       "      <td>True</td>\n",
       "      <td>False</td>\n",
       "      <td>0.808210</td>\n",
       "      <td>1.855136</td>\n",
       "      <td>-0.599020</td>\n",
       "      <td>0.005541</td>\n",
       "      <td>17.0</td>\n",
       "      <td>1107</td>\n",
       "      <td>144.0</td>\n",
       "      <td>134</td>\n",
       "    </tr>\n",
       "  </tbody>\n",
       "</table>\n",
       "<p>184 rows × 18 columns</p>\n",
       "</div>"
      ],
      "text/plain": [
       "        Unnamed: 0  Band Name  Band Genre  Band Country of Origin  Band Debut  \\\n",
       "3349          3349         19           6                     144      1983.0   \n",
       "5166          5166         24           2                     144      1979.0   \n",
       "5418          5418         51           5                     144      1976.0   \n",
       "5653          5653         43           3                     144      1976.0   \n",
       "6248          6248         34           6                     144      1980.0   \n",
       "...            ...        ...         ...                     ...         ...   \n",
       "192399       22399         48           3                     144      1979.0   \n",
       "193971       23971         37           2                     144      2000.0   \n",
       "194580       24580         34           6                     144      1980.0   \n",
       "194626       24626         29           5                     144      1992.0   \n",
       "194773       24773          7           4                      24      1958.0   \n",
       "\n",
       "        Concert ID  Concert Attendance  Inside Venue   Rain Seated  \\\n",
       "3349         943.0        1.096000e+07          True  False   True   \n",
       "5166         411.0        2.980000e+07          True  False   True   \n",
       "5418         573.0        5.987400e+08         False  False  False   \n",
       "5653         658.0        5.987400e+08          True  False   True   \n",
       "6248         427.0        4.030000e+06         False  False   True   \n",
       "...            ...                 ...           ...    ...    ...   \n",
       "192399       317.0        8.103000e+07          True  False   True   \n",
       "193971        23.0        4.030000e+06          True  False  False   \n",
       "194580       692.0        1.627540e+09          True  False   True   \n",
       "194626       674.0        4.030000e+06         False  False   True   \n",
       "194773       591.0        1.480000e+06         False   True  False   \n",
       "\n",
       "        Personnality Trait 1  Personnality Trait 2  Personnality Trait 3  \\\n",
       "3349               -0.330953             -0.035585              0.680300   \n",
       "5166               -0.095859             -0.787721              0.794274   \n",
       "5418               -0.362725             -0.504123              0.153142   \n",
       "5653                0.040520              1.891511              0.160245   \n",
       "6248                0.668493              0.051597             -2.105785   \n",
       "...                      ...                   ...                   ...   \n",
       "192399             -0.029212             -1.741027              0.788522   \n",
       "193971             -0.371054             -1.231813             -0.535272   \n",
       "194580             -0.133532              0.658807              0.887363   \n",
       "194626             -0.200633              0.292829             -0.706950   \n",
       "194773              0.808210              1.855136             -0.599020   \n",
       "\n",
       "        Personnality Trait 4  Concert Goer Age  Concert Goer ID  Height (cm)  \\\n",
       "3349                0.644960              57.0             1722        173.0   \n",
       "5166                0.583554              41.0             1294        172.0   \n",
       "5418                0.821562              35.0              404        164.0   \n",
       "5653               -0.805622              23.0              503        175.0   \n",
       "6248                0.388392              66.0             1127        180.0   \n",
       "...                      ...               ...              ...          ...   \n",
       "192399             -0.201446              37.0              477        175.0   \n",
       "193971              2.036258              64.0             1504        158.0   \n",
       "194580              1.044550              25.0              815        158.0   \n",
       "194626              2.170535              61.0              622        151.0   \n",
       "194773              0.005541              17.0             1107        144.0   \n",
       "\n",
       "        Concert Goer Country of Origin  \n",
       "3349                               135  \n",
       "5166                               144  \n",
       "5418                               144  \n",
       "5653                                24  \n",
       "6248                                24  \n",
       "...                                ...  \n",
       "192399                              24  \n",
       "193971                              24  \n",
       "194580                              47  \n",
       "194626                              24  \n",
       "194773                             134  \n",
       "\n",
       "[184 rows x 18 columns]"
      ]
     },
     "execution_count": 11,
     "metadata": {},
     "output_type": "execute_result"
    }
   ],
   "source": [
    "new_df[new_df['Concert Attendance'] > 1000000]"
   ]
  }
 ],
 "metadata": {
  "kernelspec": {
   "display_name": "Python 3.9.12 ('base')",
   "language": "python",
   "name": "python3"
  },
  "language_info": {
   "codemirror_mode": {
    "name": "ipython",
    "version": 3
   },
   "file_extension": ".py",
   "mimetype": "text/x-python",
   "name": "python",
   "nbconvert_exporter": "python",
   "pygments_lexer": "ipython3",
   "version": "3.9.12"
  },
  "orig_nbformat": 4,
  "vscode": {
   "interpreter": {
    "hash": "174c9b7f671336d0b03fb6a4f6fd2215b1a4f0beaa17119d68f2e3366192539c"
   }
  }
 },
 "nbformat": 4,
 "nbformat_minor": 2
}
