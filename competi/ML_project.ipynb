{
  "cells": [
    {
      "cell_type": "markdown",
      "metadata": {
        "id": "2C9VcrpEg_Ze"
      },
      "source": [
        "# **1 . Set up environment**"
      ]
    },
    {
      "cell_type": "markdown",
      "metadata": {
        "id": "npU8rtoysTmJ"
      },
      "source": [
        "First, install all the packages needed"
      ]
    },
    {
      "cell_type": "code",
      "execution_count": null,
      "metadata": {
        "colab": {
          "base_uri": "https://localhost:8080/",
          "height": 93
        },
        "id": "D7pTeA1Gs9qF",
        "outputId": "ef13a02b-3169-4df8-e5cb-b9b6b6a8b292"
      },
      "outputs": [
        {
          "output_type": "stream",
          "name": "stdout",
          "text": [
            "rm: cannot remove 'kaggle.json': No such file or directory\n"
          ]
        },
        {
          "output_type": "display_data",
          "data": {
            "text/plain": [
              "<IPython.core.display.HTML object>"
            ],
            "text/html": [
              "\n",
              "     <input type=\"file\" id=\"files-22a0b060-dcd3-4e39-a2f8-9d48400d1a1e\" name=\"files[]\" multiple disabled\n",
              "        style=\"border:none\" />\n",
              "     <output id=\"result-22a0b060-dcd3-4e39-a2f8-9d48400d1a1e\">\n",
              "      Upload widget is only available when the cell has been executed in the\n",
              "      current browser session. Please rerun this cell to enable.\n",
              "      </output>\n",
              "      <script>// Copyright 2017 Google LLC\n",
              "//\n",
              "// Licensed under the Apache License, Version 2.0 (the \"License\");\n",
              "// you may not use this file except in compliance with the License.\n",
              "// You may obtain a copy of the License at\n",
              "//\n",
              "//      http://www.apache.org/licenses/LICENSE-2.0\n",
              "//\n",
              "// Unless required by applicable law or agreed to in writing, software\n",
              "// distributed under the License is distributed on an \"AS IS\" BASIS,\n",
              "// WITHOUT WARRANTIES OR CONDITIONS OF ANY KIND, either express or implied.\n",
              "// See the License for the specific language governing permissions and\n",
              "// limitations under the License.\n",
              "\n",
              "/**\n",
              " * @fileoverview Helpers for google.colab Python module.\n",
              " */\n",
              "(function(scope) {\n",
              "function span(text, styleAttributes = {}) {\n",
              "  const element = document.createElement('span');\n",
              "  element.textContent = text;\n",
              "  for (const key of Object.keys(styleAttributes)) {\n",
              "    element.style[key] = styleAttributes[key];\n",
              "  }\n",
              "  return element;\n",
              "}\n",
              "\n",
              "// Max number of bytes which will be uploaded at a time.\n",
              "const MAX_PAYLOAD_SIZE = 100 * 1024;\n",
              "\n",
              "function _uploadFiles(inputId, outputId) {\n",
              "  const steps = uploadFilesStep(inputId, outputId);\n",
              "  const outputElement = document.getElementById(outputId);\n",
              "  // Cache steps on the outputElement to make it available for the next call\n",
              "  // to uploadFilesContinue from Python.\n",
              "  outputElement.steps = steps;\n",
              "\n",
              "  return _uploadFilesContinue(outputId);\n",
              "}\n",
              "\n",
              "// This is roughly an async generator (not supported in the browser yet),\n",
              "// where there are multiple asynchronous steps and the Python side is going\n",
              "// to poll for completion of each step.\n",
              "// This uses a Promise to block the python side on completion of each step,\n",
              "// then passes the result of the previous step as the input to the next step.\n",
              "function _uploadFilesContinue(outputId) {\n",
              "  const outputElement = document.getElementById(outputId);\n",
              "  const steps = outputElement.steps;\n",
              "\n",
              "  const next = steps.next(outputElement.lastPromiseValue);\n",
              "  return Promise.resolve(next.value.promise).then((value) => {\n",
              "    // Cache the last promise value to make it available to the next\n",
              "    // step of the generator.\n",
              "    outputElement.lastPromiseValue = value;\n",
              "    return next.value.response;\n",
              "  });\n",
              "}\n",
              "\n",
              "/**\n",
              " * Generator function which is called between each async step of the upload\n",
              " * process.\n",
              " * @param {string} inputId Element ID of the input file picker element.\n",
              " * @param {string} outputId Element ID of the output display.\n",
              " * @return {!Iterable<!Object>} Iterable of next steps.\n",
              " */\n",
              "function* uploadFilesStep(inputId, outputId) {\n",
              "  const inputElement = document.getElementById(inputId);\n",
              "  inputElement.disabled = false;\n",
              "\n",
              "  const outputElement = document.getElementById(outputId);\n",
              "  outputElement.innerHTML = '';\n",
              "\n",
              "  const pickedPromise = new Promise((resolve) => {\n",
              "    inputElement.addEventListener('change', (e) => {\n",
              "      resolve(e.target.files);\n",
              "    });\n",
              "  });\n",
              "\n",
              "  const cancel = document.createElement('button');\n",
              "  inputElement.parentElement.appendChild(cancel);\n",
              "  cancel.textContent = 'Cancel upload';\n",
              "  const cancelPromise = new Promise((resolve) => {\n",
              "    cancel.onclick = () => {\n",
              "      resolve(null);\n",
              "    };\n",
              "  });\n",
              "\n",
              "  // Wait for the user to pick the files.\n",
              "  const files = yield {\n",
              "    promise: Promise.race([pickedPromise, cancelPromise]),\n",
              "    response: {\n",
              "      action: 'starting',\n",
              "    }\n",
              "  };\n",
              "\n",
              "  cancel.remove();\n",
              "\n",
              "  // Disable the input element since further picks are not allowed.\n",
              "  inputElement.disabled = true;\n",
              "\n",
              "  if (!files) {\n",
              "    return {\n",
              "      response: {\n",
              "        action: 'complete',\n",
              "      }\n",
              "    };\n",
              "  }\n",
              "\n",
              "  for (const file of files) {\n",
              "    const li = document.createElement('li');\n",
              "    li.append(span(file.name, {fontWeight: 'bold'}));\n",
              "    li.append(span(\n",
              "        `(${file.type || 'n/a'}) - ${file.size} bytes, ` +\n",
              "        `last modified: ${\n",
              "            file.lastModifiedDate ? file.lastModifiedDate.toLocaleDateString() :\n",
              "                                    'n/a'} - `));\n",
              "    const percent = span('0% done');\n",
              "    li.appendChild(percent);\n",
              "\n",
              "    outputElement.appendChild(li);\n",
              "\n",
              "    const fileDataPromise = new Promise((resolve) => {\n",
              "      const reader = new FileReader();\n",
              "      reader.onload = (e) => {\n",
              "        resolve(e.target.result);\n",
              "      };\n",
              "      reader.readAsArrayBuffer(file);\n",
              "    });\n",
              "    // Wait for the data to be ready.\n",
              "    let fileData = yield {\n",
              "      promise: fileDataPromise,\n",
              "      response: {\n",
              "        action: 'continue',\n",
              "      }\n",
              "    };\n",
              "\n",
              "    // Use a chunked sending to avoid message size limits. See b/62115660.\n",
              "    let position = 0;\n",
              "    do {\n",
              "      const length = Math.min(fileData.byteLength - position, MAX_PAYLOAD_SIZE);\n",
              "      const chunk = new Uint8Array(fileData, position, length);\n",
              "      position += length;\n",
              "\n",
              "      const base64 = btoa(String.fromCharCode.apply(null, chunk));\n",
              "      yield {\n",
              "        response: {\n",
              "          action: 'append',\n",
              "          file: file.name,\n",
              "          data: base64,\n",
              "        },\n",
              "      };\n",
              "\n",
              "      let percentDone = fileData.byteLength === 0 ?\n",
              "          100 :\n",
              "          Math.round((position / fileData.byteLength) * 100);\n",
              "      percent.textContent = `${percentDone}% done`;\n",
              "\n",
              "    } while (position < fileData.byteLength);\n",
              "  }\n",
              "\n",
              "  // All done.\n",
              "  yield {\n",
              "    response: {\n",
              "      action: 'complete',\n",
              "    }\n",
              "  };\n",
              "}\n",
              "\n",
              "scope.google = scope.google || {};\n",
              "scope.google.colab = scope.google.colab || {};\n",
              "scope.google.colab._files = {\n",
              "  _uploadFiles,\n",
              "  _uploadFilesContinue,\n",
              "};\n",
              "})(self);\n",
              "</script> "
            ]
          },
          "metadata": {}
        },
        {
          "output_type": "stream",
          "name": "stdout",
          "text": [
            "cp: cannot stat 'kaggle.json': No such file or directory\n",
            "chmod: cannot access '/root/.kaggle/kaggle.json': No such file or directory\n"
          ]
        }
      ],
      "source": [
        "!pip install -q kaggle\n",
        "from google.colab import files\n",
        "! rm kaggle.json\n",
        "files.upload()\n",
        "! mkdir ~/.kaggle\n",
        "! cp kaggle.json ~/.kaggle/\n",
        "! chmod 600 ~/.kaggle/kaggle.json"
      ]
    },
    {
      "cell_type": "code",
      "execution_count": null,
      "metadata": {
        "id": "eemYlEoZp4iF",
        "colab": {
          "base_uri": "https://localhost:8080/"
        },
        "outputId": "f3c012ed-4c75-4e25-91d5-1112bf9e9607"
      },
      "outputs": [
        {
          "output_type": "stream",
          "name": "stdout",
          "text": [
            "Traceback (most recent call last):\n",
            "  File \"/usr/local/bin/kaggle\", line 5, in <module>\n",
            "    from kaggle.cli import main\n",
            "  File \"/usr/local/lib/python3.8/dist-packages/kaggle/__init__.py\", line 23, in <module>\n",
            "    api.authenticate()\n",
            "  File \"/usr/local/lib/python3.8/dist-packages/kaggle/api/kaggle_api_extended.py\", line 164, in authenticate\n",
            "    raise IOError('Could not find {}. Make sure it\\'s located in'\n",
            "OSError: Could not find kaggle.json. Make sure it's located in /root/.kaggle. Or use the environment method.\n",
            "unzip:  cannot find or open inf8245e-fall-2022.zip, inf8245e-fall-2022.zip.zip or inf8245e-fall-2022.zip.ZIP.\n",
            "sample_data\n"
          ]
        }
      ],
      "source": [
        "!kaggle competitions download -c inf8245e-fall-2022\n",
        "!unzip inf8245e-fall-2022.zip\n",
        "!ls"
      ]
    },
    {
      "cell_type": "markdown",
      "metadata": {
        "id": "8qJg88w_N78_"
      },
      "source": [
        "Import all packages necessary"
      ]
    },
    {
      "cell_type": "code",
      "execution_count": null,
      "metadata": {
        "id": "lJANdiFDugjx"
      },
      "outputs": [],
      "source": [
        "# Global\n",
        "import numpy as np\n",
        "import pandas as pd\n",
        "import matplotlib.pyplot as plt\n",
        "import string\n",
        "from pathlib import Path\n",
        "\n",
        "from sklearn.metrics import f1_score, recall_score, accuracy_score, classification_report, confusion_matrix\n",
        "\n",
        "# Preprocessing\n",
        "from sklearn.preprocessing import StandardScaler, RobustScaler\n",
        "from sklearn.preprocessing import LabelEncoder\n",
        "\n",
        "import imblearn\n",
        "from imblearn.over_sampling import SMOTE\n",
        "\n",
        "from sklearn.model_selection import GridSearchCV,train_test_split\n",
        "\n",
        "from sklearn.decomposition import PCA\n",
        "\n",
        "# Models\n",
        "from sklearn.ensemble import RandomForestClassifier, HistGradientBoostingClassifier, GradientBoostingClassifier\n",
        "from sklearn.tree import DecisionTreeClassifier\n",
        "from sklearn.svm import SVC\n",
        "from sklearn.ensemble import StackingClassifier\n",
        "from sklearn.linear_model import LogisticRegression\n",
        "from sklearn.neighbors import KNeighborsClassifier\n"
      ]
    },
    {
      "cell_type": "markdown",
      "source": [
        "# **2. Load the data**"
      ],
      "metadata": {
        "id": "VsqxUl4lUZVw"
      }
    },
    {
      "cell_type": "markdown",
      "metadata": {
        "id": "OdJFacyKsZK9"
      },
      "source": [
        "Load the train data"
      ]
    },
    {
      "cell_type": "code",
      "execution_count": null,
      "metadata": {
        "id": "oPyoNaSLsYfd"
      },
      "outputs": [],
      "source": [
        "data_train = pd.read_csv('train.csv', na_values=['Insert Band Name', 'Insert Band Genre', 'Insert Band Country of Origin'])"
      ]
    },
    {
      "cell_type": "markdown",
      "metadata": {
        "id": "tc7MUbkW_8SF"
      },
      "source": [
        "Load the test data"
      ]
    },
    {
      "cell_type": "code",
      "execution_count": null,
      "metadata": {
        "id": "hv84ExIi_99E"
      },
      "outputs": [],
      "source": [
        "data_test = pd.read_csv('test.csv', na_values=['Insert Band Name', 'Insert Band Genre', 'Insert Band Country of Origin'])"
      ]
    },
    {
      "cell_type": "markdown",
      "metadata": {
        "id": "XqStjdiOf0ri"
      },
      "source": [
        "**Defining data variables**"
      ]
    },
    {
      "cell_type": "markdown",
      "source": [
        "Simple Dataset"
      ],
      "metadata": {
        "id": "wqWc1WqEd4xH"
      }
    },
    {
      "cell_type": "code",
      "source": [
        "X_train = data_train.drop(columns=['Concert Enjoyment', 'Id']) #add 'Concert Goer Id' if using basic dataset\n",
        "y_train = data_train['Concert Enjoyment']\n",
        "\n",
        "X_test = data_test.drop(columns=['Id'])#add 'Concert Goer Id' if using basic dataset"
      ],
      "metadata": {
        "id": "ixfjHCTkd3HF"
      },
      "execution_count": null,
      "outputs": []
    },
    {
      "cell_type": "markdown",
      "source": [
        "New Dataset from Prepro.csv"
      ],
      "metadata": {
        "id": "Qgcfle_nd9zP"
      }
    },
    {
      "cell_type": "code",
      "execution_count": null,
      "metadata": {
        "id": "_FofbK-2f1CT"
      },
      "outputs": [],
      "source": [
        "#data = pd.read_csv('prepro.csv', na_values=['Insert Band Name', 'Insert Band Genre', 'Insert Band Country of Origin'])\n",
        "#data_train = data.iloc[:170000]\n",
        "#data_test = data.iloc[170000:]\n",
        "\n",
        "#X_train = data_train.drop(columns=['Concert Goer ID','Unnamed: 0'])\n",
        "\n",
        "data_originel = pd.read_csv('train.csv', na_values=['Insert Band Name', 'Insert Band Genre', 'Insert Band Country of Origin'])\n",
        "#y_train = data_originel['Concert Enjoyment']\n",
        "\n",
        "#X_test = data_test.drop(columns=[ 'Concert Goer ID'])"
      ]
    },
    {
      "cell_type": "markdown",
      "source": [
        "Validation split"
      ],
      "metadata": {
        "id": "TQi7mM5w-b7b"
      }
    },
    {
      "cell_type": "code",
      "source": [
        "#X_train, X_test, y_train, y_test = train_test_split(X_train, y_train, test_size=0.2, random_state=42)"
      ],
      "metadata": {
        "id": "cwfu3k7L6ePm"
      },
      "execution_count": null,
      "outputs": []
    },
    {
      "cell_type": "markdown",
      "source": [
        "# **3. Missing values full preprocessing**"
      ],
      "metadata": {
        "id": "KJcXSYtr2JTj"
      }
    },
    {
      "cell_type": "code",
      "source": [
        "enc = LabelEncoder()\n",
        "categ_features = ['Band Name', 'Band Genre', 'Band Country of Origin', 'Concert Goer Country of Origin','Concert Goer ID']\n",
        "for feature in categ_features:\n",
        "\n",
        "  enc.fit(X_train[feature])\n",
        "  le_dict = dict(zip(enc.classes_, enc.transform(enc.classes_)))\n",
        "  le_dict[np.nan] = np.nan\n",
        "  X_train[feature] = X_train[feature].apply(lambda x: le_dict.get(x, le_dict.get(np.nan)))\n",
        "  X_test[feature] = X_test[feature].apply(lambda x: le_dict.get(x, le_dict.get(np.nan)))"
      ],
      "metadata": {
        "id": "2_K432AaV6T3"
      },
      "execution_count": null,
      "outputs": []
    },
    {
      "cell_type": "code",
      "source": [
        "new_df = X_train.append(X_test)\n",
        "# We could apply the bloc below on new_df"
      ],
      "metadata": {
        "id": "YfoTqzVslnAE"
      },
      "execution_count": null,
      "outputs": []
    },
    {
      "cell_type": "code",
      "source": [
        "new_df\n",
        "new_df=new_df.reset_index(drop=True)"
      ],
      "metadata": {
        "id": "HSSeDtloOrfo"
      },
      "execution_count": null,
      "outputs": []
    },
    {
      "cell_type": "code",
      "source": [
        "# Deduct some values for those columns below\n",
        "\n",
        "columns = ['Band Genre', 'Band Country of Origin', 'Band Debut']\n",
        "\n",
        "for column in columns:\n",
        "  print(new_df[column].isna().sum())\n",
        "  indexes = new_df[new_df[column].isna()].index\n",
        "  for e in indexes:\n",
        "    name = new_df.loc[e,'Band Name']\n",
        "\n",
        "    liste = new_df[new_df['Band Name'] == name][column].unique()\n",
        "    if len(liste) != 0:\n",
        "      liste = liste[~np.isnan(liste)]\n",
        "      new_df.at[e, column] = liste[0]\n",
        "\n"
      ],
      "metadata": {
        "id": "vAAxQK48eWLI",
        "colab": {
          "base_uri": "https://localhost:8080/"
        },
        "outputId": "48e8ccd1-7635-46b1-e096-8fe6ac421d90"
      },
      "execution_count": null,
      "outputs": [
        {
          "output_type": "stream",
          "name": "stdout",
          "text": [
            "1122\n",
            "1153\n",
            "1014\n"
          ]
        }
      ]
    },
    {
      "cell_type": "code",
      "source": [
        "# Fill Concert ID nan values\n",
        "print(new_df['Concert ID'].isna().sum())\n",
        "list_csi_index = new_df[new_df['Concert ID'].isna()].index\n",
        "for k in range (len(list_csi_index)):\n",
        "    if len((new_df[(new_df['Band Name'] == new_df.iloc[list_csi_index[k]]['Band Name']) & (new_df['Band Genre'] == new_df.iloc[list_csi_index[k]]['Band Genre']) & \\\n",
        "                    (new_df['Inside Venue'] == new_df.iloc[list_csi_index[k]]['Inside Venue']) & (new_df['Rain'] == new_df.iloc[list_csi_index[k]]['Rain']) & \\\n",
        "                    (new_df['Concert Attendance'] == new_df.iloc[list_csi_index[k]]['Concert Attendance']) & (new_df['Concert Goer ID'] != new_df.iloc[list_csi_index[k]]['Concert Goer ID'])])) > 0 :\n",
        "        val = (new_df[(new_df['Band Name'] == new_df.iloc[list_csi_index[k]]['Band Name']) & (new_df['Band Genre'] == new_df.iloc[list_csi_index[k]]['Band Genre']) & \\\n",
        "            (new_df['Inside Venue'] == new_df.iloc[list_csi_index[k]]['Inside Venue']) & (new_df['Rain'] == new_df.iloc[list_csi_index[k]]['Rain']) & \\\n",
        "                (new_df['Concert Attendance'] == new_df.iloc[list_csi_index[k]]['Concert Attendance']) & (new_df['Concert Goer ID'] != new_df.iloc[list_csi_index[k]]['Concert Goer ID'])]['Concert ID'].value_counts()).index[0]\n",
        "        new_df.loc[list_csi_index[k], 'Concert ID']=val\n",
        "print(new_df['Concert ID'].isna().sum())"
      ],
      "metadata": {
        "id": "_E6iBYOFQQw-",
        "colab": {
          "base_uri": "https://localhost:8080/"
        },
        "outputId": "b313af92-7c4c-4aba-a361-5985cfcdb226"
      },
      "execution_count": null,
      "outputs": [
        {
          "output_type": "stream",
          "name": "stdout",
          "text": [
            "1028\n",
            "24\n"
          ]
        }
      ]
    },
    {
      "cell_type": "code",
      "source": [
        "#Fill Concert Attendance nan values\n",
        "print(new_df['Concert Attendance'].isna().sum())\n",
        "liste_csa = list(new_df[new_df['Concert Attendance'].isna()]['Concert ID'])\n",
        "liste_csa_index = new_df[new_df['Concert Attendance'].isna()].index\n",
        "for k in range (len(liste_csa)):\n",
        "    if len(new_df[new_df['Concert ID']==liste_csa[k]]['Concert Attendance']) >0 :\n",
        "        val = (new_df[new_df['Concert ID']==liste_csa[k]]['Concert Attendance'].value_counts()).index[0]\n",
        "        new_df.loc[liste_csa_index[k], 'Concert Attendance'] = val\n",
        "print(new_df['Concert Attendance'].isna().sum())"
      ],
      "metadata": {
        "id": "Jpljb1ssS2Kn",
        "colab": {
          "base_uri": "https://localhost:8080/"
        },
        "outputId": "f7a15142-02c4-4a9d-e3a8-8062787e9628"
      },
      "execution_count": null,
      "outputs": [
        {
          "output_type": "stream",
          "name": "stdout",
          "text": [
            "1047\n",
            "5\n"
          ]
        }
      ]
    },
    {
      "cell_type": "code",
      "source": [
        "liste = new_df['Concert Attendance'].unique()\n",
        "liste.sort()\n",
        "liste = [x for x in liste if str(x) != 'nan']\n",
        "indexes = new_df[new_df['Concert Attendance'] >= 1000000]['Concert Attendance'].index\n",
        "for i in indexes:\n",
        "  new_df.at[i, 'Concert Attendance'] = liste[(int)(len(liste)/2)]\n",
        "liste = new_df['Concert Attendance'].unique()\n",
        "liste.sort()\n",
        "print(liste)\n"
      ],
      "metadata": {
        "id": "s2q_-5pELBrG",
        "colab": {
          "base_uri": "https://localhost:8080/"
        },
        "outputId": "5e076171-e967-4cc3-fadd-7cacf76e9c7b"
      },
      "execution_count": null,
      "outputs": [
        {
          "output_type": "stream",
          "name": "stdout",
          "text": [
            "[5.40000e+01 1.48000e+02 4.03000e+02 1.09600e+03 2.98000e+03 8.10300e+03\n",
            " 2.20260e+04 5.98740e+04 1.62754e+05 5.40000e+05         nan]\n"
          ]
        }
      ]
    },
    {
      "cell_type": "code",
      "source": [
        "# Handle not replaced nan values\n",
        "for name in ['Concert ID',\t'Concert Attendance']:\n",
        "  new_df[name].fillna(-1, inplace = True)"
      ],
      "metadata": {
        "id": "gSXV26ksTART"
      },
      "execution_count": null,
      "outputs": []
    },
    {
      "cell_type": "code",
      "source": [
        "#Fill Inside Venue nan values\n",
        "print(new_df['Inside Venue'].isna().sum())\n",
        "liste_iv = list(new_df[new_df['Inside Venue'].isna()]['Concert ID'])\n",
        "liste_iv_index = new_df[new_df['Inside Venue'].isna()].index\n",
        "for k in range (len(liste_iv)):\n",
        "    if len(new_df[new_df['Concert ID']==liste_iv[k]]['Inside Venue'])>0:\n",
        "        val = (new_df[new_df['Concert ID']==liste_iv[k]]['Inside Venue'].value_counts()).index[0]\n",
        "        new_df.loc[liste_iv_index[k], 'Inside Venue'] = val\n",
        "print(new_df['Inside Venue'].isna().sum())"
      ],
      "metadata": {
        "id": "vrC8xpomTMHM",
        "colab": {
          "base_uri": "https://localhost:8080/"
        },
        "outputId": "140e956a-d529-4110-d747-efbbb531f41b"
      },
      "execution_count": null,
      "outputs": [
        {
          "output_type": "stream",
          "name": "stdout",
          "text": [
            "1004\n",
            "0\n"
          ]
        }
      ]
    },
    {
      "cell_type": "code",
      "source": [
        "#Fill Rain nan values\n",
        "print(new_df['Rain'].isna().sum())\n",
        "liste_r = list(new_df[new_df['Rain'].isna()]['Concert ID'])\n",
        "liste_r_index = new_df[new_df['Rain'].isna()].index\n",
        "for k in range (len(liste_r)):\n",
        "  if len(new_df[new_df['Concert ID']==liste_r[k]]['Rain'])>0:\n",
        "    val = (new_df[new_df['Concert ID']==liste_r[k]]['Rain'].value_counts()).index[0]\n",
        "    new_df.loc[liste_r_index[k], 'Rain'] = val\n",
        "print(new_df['Rain'].isna().sum())"
      ],
      "metadata": {
        "id": "ZWQDsONyT_U4",
        "colab": {
          "base_uri": "https://localhost:8080/"
        },
        "outputId": "c398043b-af3b-49b1-8111-5cfc8be30255"
      },
      "execution_count": null,
      "outputs": [
        {
          "output_type": "stream",
          "name": "stdout",
          "text": [
            "1004\n",
            "0\n"
          ]
        }
      ]
    },
    {
      "cell_type": "code",
      "source": [
        "#Handle Seated nan values\n",
        "print(new_df[new_df['Concert ID'] == 0]['Seated'].unique())\n",
        "print(new_df['Seated'].isna().sum())\n",
        "for name in ['Seated']:\n",
        "  new_df[name].fillna(-1, inplace = True)\n",
        "print(new_df['Seated'].isna().sum())"
      ],
      "metadata": {
        "id": "l1qslWZcUPF1",
        "colab": {
          "base_uri": "https://localhost:8080/"
        },
        "outputId": "6e5c2c3a-e6ab-4097-dc1d-d9dc3b95ac46"
      },
      "execution_count": null,
      "outputs": [
        {
          "output_type": "stream",
          "name": "stdout",
          "text": [
            "[True False]\n",
            "974\n",
            "0\n"
          ]
        }
      ]
    },
    {
      "cell_type": "code",
      "source": [
        "#Fill personality traits nan values\n",
        "'''for e in new_df['Concert Goer ID'].unique():\n",
        "  print(new_df[new_df['Concert Goer ID'] == e]['Personnality Trait 3'].unique())\n",
        "for e in new_df['Concert Goer ID'].unique():\n",
        "  print(new_df[new_df['Concert Goer ID'] == e]['Personnality Trait 3'].unique())\n",
        "'''\n",
        "\n",
        "print(new_df['Personnality Trait 2'].isna().sum())\n",
        "for e in new_df['Concert Goer ID'].unique():\n",
        "  liste = new_df[new_df['Concert Goer ID'] == e]['Personnality Trait 2'].unique()\n",
        "  indexes = new_df[new_df['Concert Goer ID'] == e].index\n",
        "  liste = liste[~np.isnan(liste)]\n",
        "  if len(liste) > 0:\n",
        "    closest_zero = min(liste, key=lambda x:abs(x))\n",
        "  for i in indexes:\n",
        "    new_df.at[i, 'Personnality Trait 2'] = closest_zero\n",
        "\n",
        "print(new_df['Personnality Trait 2'].isna().sum())\n"
      ],
      "metadata": {
        "id": "RkrgxBocU-O-",
        "colab": {
          "base_uri": "https://localhost:8080/"
        },
        "outputId": "419a5948-e205-4c13-d47f-ac80040126a1"
      },
      "execution_count": null,
      "outputs": [
        {
          "output_type": "stream",
          "name": "stdout",
          "text": [
            "1002\n",
            "8\n"
          ]
        }
      ]
    },
    {
      "cell_type": "code",
      "source": [
        "liste = new_df['Personnality Trait 2'].unique()\n",
        "liste.sort()\n",
        "liste = [x for x in liste if str(x) != 'nan']\n",
        "indexes = new_df[new_df['Personnality Trait 2'] >= 10]['Personnality Trait 2'].index\n",
        "for i in indexes:\n",
        "  new_df.at[i, 'Personnality Trait 2'] = liste[(int)(len(liste)/2)]\n",
        "liste = new_df['Personnality Trait 2'].unique()\n",
        "liste.sort()\n",
        "print(liste)"
      ],
      "metadata": {
        "id": "8qbT-uTnDk1h",
        "colab": {
          "base_uri": "https://localhost:8080/"
        },
        "outputId": "4799761b-abb5-4332-c816-c6a9003b1c4b"
      },
      "execution_count": null,
      "outputs": [
        {
          "output_type": "stream",
          "name": "stdout",
          "text": [
            "[-4.41236188 -3.63038637 -3.12006903 ...  3.34884639  3.85965486\n",
            "         nan]\n"
          ]
        }
      ]
    },
    {
      "cell_type": "code",
      "source": [
        "'''for e in new_df['Concert Goer ID'].unique():\n",
        "  print(new_df[new_df['Concert Goer ID'] == e]['Personnality Trait 4'].unique())'''\n",
        "\n",
        "print(new_df['Personnality Trait 4'].isna().sum())\n",
        "liste_r = list(new_df[new_df['Personnality Trait 4'].isna()]['Concert Goer ID'])\n",
        "liste_r_index = new_df[new_df['Personnality Trait 4'].isna()].index\n",
        "for k in range (len(liste_r)):\n",
        "  if len(new_df[new_df['Concert Goer ID']==liste_r[k]]['Personnality Trait 4'])>0:\n",
        "    val = (new_df[new_df['Concert Goer ID']==liste_r[k]]['Personnality Trait 4'].value_counts()).index[0]\n",
        "    new_df.loc[liste_r_index[k], 'Personnality Trait 4'] = val\n",
        "print(new_df['Personnality Trait 4'].isna().sum())"
      ],
      "metadata": {
        "id": "fj-8kNIgR1BV",
        "colab": {
          "base_uri": "https://localhost:8080/"
        },
        "outputId": "c6517c67-fc4f-497c-e50e-a21ed5304944"
      },
      "execution_count": null,
      "outputs": [
        {
          "output_type": "stream",
          "name": "stdout",
          "text": [
            "1003\n",
            "3\n"
          ]
        }
      ]
    },
    {
      "cell_type": "code",
      "source": [
        "'''for e in new_df['Concert Goer ID'].unique():\n",
        "  print(e, new_df[new_df['Concert Goer ID'] == e]['Concert Goer Age'].unique())\n",
        "\n",
        "'''\n",
        "print(new_df['Concert Goer Age'].isna().sum())\n",
        "liste_r = list(new_df[new_df['Concert Goer Age'].isna()]['Concert Goer ID'])\n",
        "liste_r_index = new_df[new_df['Concert Goer Age'].isna()].index\n",
        "for k in range (len(liste_r)):\n",
        "    if len(new_df[new_df['Concert ID']==liste_r[k]]['Concert Goer Age'])>0:\n",
        "      val = (new_df[new_df['Concert Goer ID']==liste_r[k]]['Concert Goer Age'].value_counts()).index[0]\n",
        "      new_df.loc[liste_r_index[k], 'Concert Goer Age'] = val\n",
        "print(new_df['Concert Goer Age'].isna().sum())"
      ],
      "metadata": {
        "id": "SySq9qSbdIHZ",
        "colab": {
          "base_uri": "https://localhost:8080/"
        },
        "outputId": "e8bc617f-c81d-4385-e341-a0d36279262e"
      },
      "execution_count": null,
      "outputs": [
        {
          "output_type": "stream",
          "name": "stdout",
          "text": [
            "979\n",
            "496\n"
          ]
        }
      ]
    },
    {
      "cell_type": "code",
      "source": [
        "#for e in new_df['Concert Goer ID'].unique():\n",
        "#  print(new_df[new_df['Concert Goer ID'] == e]['Height (cm)'].unique())"
      ],
      "metadata": {
        "id": "tPkAdYd796Ou"
      },
      "execution_count": null,
      "outputs": []
    },
    {
      "cell_type": "code",
      "source": [
        "print(new_df['Height (cm)'].isna().sum())\n",
        "liste_r = list(new_df[new_df['Height (cm)'].isna()]['Concert Goer ID'])\n",
        "liste_r_index = new_df[new_df['Height (cm)'].isna()].index\n",
        "for k in range (len(liste_r)):\n",
        "    if len(new_df[new_df['Concert ID']==liste_r[k]]['Height (cm)'])>0:\n",
        "      val = (new_df[new_df['Concert Goer ID']==liste_r[k]]['Height (cm)'].value_counts()).index[0]\n",
        "      new_df.loc[liste_r_index[k], 'Height (cm)'] = val\n",
        "print(new_df['Height (cm)'].isna().sum())"
      ],
      "metadata": {
        "id": "y9mARxew-cnF",
        "colab": {
          "base_uri": "https://localhost:8080/"
        },
        "outputId": "00323b77-68cd-475a-bb22-235499220209"
      },
      "execution_count": null,
      "outputs": [
        {
          "output_type": "stream",
          "name": "stdout",
          "text": [
            "987\n",
            "506\n"
          ]
        }
      ]
    },
    {
      "cell_type": "code",
      "source": [
        "#for e in new_df['Concert Goer ID'].unique():\n",
        "#  print(new_df[new_df['Concert Goer ID'] == e]['Concert Goer Country of Origin'].unique())"
      ],
      "metadata": {
        "id": "5RiQMVaTBfeI"
      },
      "execution_count": null,
      "outputs": []
    },
    {
      "cell_type": "code",
      "source": [
        "print(new_df['Concert Goer Country of Origin'].isna().sum())\n",
        "liste_r = list(new_df[new_df['Concert Goer Country of Origin'].isna()]['Concert Goer ID'])\n",
        "liste_r_index = new_df[new_df['Concert Goer Country of Origin'].isna()].index\n",
        "for k in range (len(liste_r)):\n",
        "    if len(new_df[new_df['Concert ID']==liste_r[k]]['Concert Goer Country of Origin'])>0:\n",
        "      val = (new_df[new_df['Concert Goer ID']==liste_r[k]]['Concert Goer Country of Origin'].value_counts()).index[0]\n",
        "      new_df.loc[liste_r_index[k], 'Concert Goer Country of Origin'] = val\n",
        "print(new_df['Concert Goer Country of Origin'].isna().sum())"
      ],
      "metadata": {
        "id": "05PiZhpTH33u",
        "colab": {
          "base_uri": "https://localhost:8080/"
        },
        "outputId": "3e99a2f8-537f-44bf-f937-bd12fcbb2f76"
      },
      "execution_count": null,
      "outputs": [
        {
          "output_type": "stream",
          "name": "stdout",
          "text": [
            "1020\n",
            "518\n"
          ]
        }
      ]
    },
    {
      "cell_type": "code",
      "source": [
        "print(new_df.isna().sum().sum())"
      ],
      "metadata": {
        "id": "-x1gUA0aL3XG",
        "colab": {
          "base_uri": "https://localhost:8080/"
        },
        "outputId": "c57c319c-098e-45b1-d586-013b2d8edea0"
      },
      "execution_count": null,
      "outputs": [
        {
          "output_type": "stream",
          "name": "stdout",
          "text": [
            "5740\n"
          ]
        }
      ]
    },
    {
      "cell_type": "code",
      "source": [
        "from matplotlib import pyplot as plt\n",
        "import math\n",
        "i,j=0,0\n",
        "PLOTS_PER_ROW = 4\n",
        "fig, axs = plt.subplots(math.ceil(len(new_df.columns)/PLOTS_PER_ROW),PLOTS_PER_ROW, figsize=(25.0, 18.0))\n",
        "for column in new_df.columns:\n",
        "  liste = new_df[column].unique()\n",
        "  liste.sort()\n",
        "  indexes = [i for i in range(len(liste))]\n",
        "  axs[i][j].plot(liste)\n",
        "  axs[i][j].set_ylabel(column)\n",
        "  j += 1\n",
        "  if j%PLOTS_PER_ROW==0:\n",
        "    i+=1\n",
        "    j=0\n",
        "plt.show()"
      ],
      "metadata": {
        "id": "mkLKYpmtWpF5",
        "colab": {
          "base_uri": "https://localhost:8080/",
          "height": 1000
        },
        "outputId": "50496275-9134-44a4-ff6a-76038d29e522"
      },
      "execution_count": null,
      "outputs": [
        {
          "output_type": "display_data",
          "data": {
            "text/plain": [
              "<Figure size 1800x1296 with 20 Axes>"
            ],
            "image/png": "[encoded data removed]"
          },
          "metadata": {
            "needs_background": "light"
          }
        }
      ]
    },
    {
      "cell_type": "markdown",
      "source": [
        "For validation"
      ],
      "metadata": {
        "id": "SGyqnKNr-xfw"
      }
    },
    {
      "cell_type": "code",
      "source": [
        "new_df[14:16]"
      ],
      "metadata": {
        "id": "HAMpZ3RqbT4G",
        "colab": {
          "base_uri": "https://localhost:8080/",
          "height": 191
        },
        "outputId": "aa47570d-5c12-4a34-d033-20f410dcaab1"
      },
      "execution_count": null,
      "outputs": [
        {
          "output_type": "execute_result",
          "data": {
            "text/plain": [
              "    Band Name  Band Genre  Band Country of Origin  Band Debut  Concert ID  \\\n",
              "14       29.0         5.0                     2.0      1992.0       817.0   \n",
              "15        NaN         1.0                     0.0      2005.0       628.0   \n",
              "\n",
              "    Concert Attendance Inside Venue   Rain Seated  Personnality Trait 1  \\\n",
              "14               403.0        False  False   True                   NaN   \n",
              "15             22026.0         True  False  False             -1.280309   \n",
              "\n",
              "    Personnality Trait 2  Personnality Trait 3  Personnality Trait 4  \\\n",
              "14              0.427680             -0.216587             -0.984782   \n",
              "15              0.901388              0.672355             -0.155070   \n",
              "\n",
              "    Concert Goer Age  Concert Goer ID  Height (cm)  \\\n",
              "14              72.0            703.0        172.0   \n",
              "15              76.0           1550.0        144.0   \n",
              "\n",
              "    Concert Goer Country of Origin  \n",
              "14                            24.0  \n",
              "15                            24.0  "
            ],
            "text/html": [
              "\n",
              "  <div id=\"df-258909f6-0e09-4b8b-8bc9-03ded60f75db\">\n",
              "    <div class=\"colab-df-container\">\n",
              "      <div>\n",
              "<style scoped>\n",
              "    .dataframe tbody tr th:only-of-type {\n",
              "        vertical-align: middle;\n",
              "    }\n",
              "\n",
              "    .dataframe tbody tr th {\n",
              "        vertical-align: top;\n",
              "    }\n",
              "\n",
              "    .dataframe thead th {\n",
              "        text-align: right;\n",
              "    }\n",
              "</style>\n",
              "<table border=\"1\" class=\"dataframe\">\n",
              "  <thead>\n",
              "    <tr style=\"text-align: right;\">\n",
              "      <th></th>\n",
              "      <th>Band Name</th>\n",
              "      <th>Band Genre</th>\n",
              "      <th>Band Country of Origin</th>\n",
              "      <th>Band Debut</th>\n",
              "      <th>Concert ID</th>\n",
              "      <th>Concert Attendance</th>\n",
              "      <th>Inside Venue</th>\n",
              "      <th>Rain</th>\n",
              "      <th>Seated</th>\n",
              "      <th>Personnality Trait 1</th>\n",
              "      <th>Personnality Trait 2</th>\n",
              "      <th>Personnality Trait 3</th>\n",
              "      <th>Personnality Trait 4</th>\n",
              "      <th>Concert Goer Age</th>\n",
              "      <th>Concert Goer ID</th>\n",
              "      <th>Height (cm)</th>\n",
              "      <th>Concert Goer Country of Origin</th>\n",
              "    </tr>\n",
              "  </thead>\n",
              "  <tbody>\n",
              "    <tr>\n",
              "      <th>14</th>\n",
              "      <td>29.0</td>\n",
              "      <td>5.0</td>\n",
              "      <td>2.0</td>\n",
              "      <td>1992.0</td>\n",
              "      <td>817.0</td>\n",
              "      <td>403.0</td>\n",
              "      <td>False</td>\n",
              "      <td>False</td>\n",
              "      <td>True</td>\n",
              "      <td>NaN</td>\n",
              "      <td>0.427680</td>\n",
              "      <td>-0.216587</td>\n",
              "      <td>-0.984782</td>\n",
              "      <td>72.0</td>\n",
              "      <td>703.0</td>\n",
              "      <td>172.0</td>\n",
              "      <td>24.0</td>\n",
              "    </tr>\n",
              "    <tr>\n",
              "      <th>15</th>\n",
              "      <td>NaN</td>\n",
              "      <td>1.0</td>\n",
              "      <td>0.0</td>\n",
              "      <td>2005.0</td>\n",
              "      <td>628.0</td>\n",
              "      <td>22026.0</td>\n",
              "      <td>True</td>\n",
              "      <td>False</td>\n",
              "      <td>False</td>\n",
              "      <td>-1.280309</td>\n",
              "      <td>0.901388</td>\n",
              "      <td>0.672355</td>\n",
              "      <td>-0.155070</td>\n",
              "      <td>76.0</td>\n",
              "      <td>1550.0</td>\n",
              "      <td>144.0</td>\n",
              "      <td>24.0</td>\n",
              "    </tr>\n",
              "  </tbody>\n",
              "</table>\n",
              "</div>\n",
              "      <button class=\"colab-df-convert\" onclick=\"convertToInteractive('df-258909f6-0e09-4b8b-8bc9-03ded60f75db')\"\n",
              "              title=\"Convert this dataframe to an interactive table.\"\n",
              "              style=\"display:none;\">\n",
              "        \n",
              "  <svg xmlns=\"http://www.w3.org/2000/svg\" height=\"24px\"viewBox=\"0 0 24 24\"\n",
              "       width=\"24px\">\n",
              "    <path d=\"M0 0h24v24H0V0z\" fill=\"none\"/>\n",
              "    <path d=\"M18.56 5.44l.94 2.06.94-2.06 2.06-.94-2.06-.94-.94-2.06-.94 2.06-2.06.94zm-11 1L8.5 8.5l.94-2.06 2.06-.94-2.06-.94L8.5 2.5l-.94 2.06-2.06.94zm10 10l.94 2.06.94-2.06 2.06-.94-2.06-.94-.94-2.06-.94 2.06-2.06.94z\"/><path d=\"M17.41 7.96l-1.37-1.37c-.4-.4-.92-.59-1.43-.59-.52 0-1.04.2-1.43.59L10.3 9.45l-7.72 7.72c-.78.78-.78 2.05 0 2.83L4 21.41c.39.39.9.59 1.41.59.51 0 1.02-.2 1.41-.59l7.78-7.78 2.81-2.81c.8-.78.8-2.07 0-2.86zM5.41 20L4 18.59l7.72-7.72 1.47 1.35L5.41 20z\"/>\n",
              "  </svg>\n",
              "      </button>\n",
              "      \n",
              "  <style>\n",
              "    .colab-df-container {\n",
              "      display:flex;\n",
              "      flex-wrap:wrap;\n",
              "      gap: 12px;\n",
              "    }\n",
              "\n",
              "    .colab-df-convert {\n",
              "      background-color: #E8F0FE;\n",
              "      border: none;\n",
              "      border-radius: 50%;\n",
              "      cursor: pointer;\n",
              "      display: none;\n",
              "      fill: #1967D2;\n",
              "      height: 32px;\n",
              "      padding: 0 0 0 0;\n",
              "      width: 32px;\n",
              "    }\n",
              "\n",
              "    .colab-df-convert:hover {\n",
              "      background-color: #E2EBFA;\n",
              "      box-shadow: 0px 1px 2px rgba(60, 64, 67, 0.3), 0px 1px 3px 1px rgba(60, 64, 67, 0.15);\n",
              "      fill: #174EA6;\n",
              "    }\n",
              "\n",
              "    [theme=dark] .colab-df-convert {\n",
              "      background-color: #3B4455;\n",
              "      fill: #D2E3FC;\n",
              "    }\n",
              "\n",
              "    [theme=dark] .colab-df-convert:hover {\n",
              "      background-color: #434B5C;\n",
              "      box-shadow: 0px 1px 3px 1px rgba(0, 0, 0, 0.15);\n",
              "      filter: drop-shadow(0px 1px 2px rgba(0, 0, 0, 0.3));\n",
              "      fill: #FFFFFF;\n",
              "    }\n",
              "  </style>\n",
              "\n",
              "      <script>\n",
              "        const buttonEl =\n",
              "          document.querySelector('#df-258909f6-0e09-4b8b-8bc9-03ded60f75db button.colab-df-convert');\n",
              "        buttonEl.style.display =\n",
              "          google.colab.kernel.accessAllowed ? 'block' : 'none';\n",
              "\n",
              "        async function convertToInteractive(key) {\n",
              "          const element = document.querySelector('#df-258909f6-0e09-4b8b-8bc9-03ded60f75db');\n",
              "          const dataTable =\n",
              "            await google.colab.kernel.invokeFunction('convertToInteractive',\n",
              "                                                     [key], {});\n",
              "          if (!dataTable) return;\n",
              "\n",
              "          const docLinkHtml = 'Like what you see? Visit the ' +\n",
              "            '<a target=\"_blank\" href=https://colab.research.google.com/notebooks/data_table.ipynb>data table notebook</a>'\n",
              "            + ' to learn more about interactive tables.';\n",
              "          element.innerHTML = '';\n",
              "          dataTable['output_type'] = 'display_data';\n",
              "          await google.colab.output.renderOutput(dataTable, element);\n",
              "          const docLink = document.createElement('div');\n",
              "          docLink.innerHTML = docLinkHtml;\n",
              "          element.appendChild(docLink);\n",
              "        }\n",
              "      </script>\n",
              "    </div>\n",
              "  </div>\n",
              "  "
            ]
          },
          "metadata": {},
          "execution_count": 68
        }
      ]
    },
    {
      "cell_type": "code",
      "source": [
        "list(y_train)"
      ],
      "metadata": {
        "id": "O1U_TinDiUG6",
        "colab": {
          "base_uri": "https://localhost:8080/"
        },
        "outputId": "890f9c38-cf78-485f-cbf3-d1f12e2b2437"
      },
      "execution_count": null,
      "outputs": [
        {
          "output_type": "execute_result",
          "data": {
            "text/plain": [
              "['Did Not Enjoy',\n",
              " 'Enjoyed',\n",
              " 'Did Not Enjoy',\n",
              " 'Worst Concert Ever',\n",
              " 'Did Not Enjoy',\n",
              " 'Best Concert Ever',\n",
              " 'Enjoyed',\n",
              " 'Did Not Enjoy',\n",
              " 'Did Not Enjoy',\n",
              " 'Did Not Enjoy',\n",
              " 'Best Concert Ever',\n",
              " 'Did Not Enjoy',\n",
              " 'Worst Concert Ever',\n",
              " 'Enjoyed',\n",
              " 'Worst Concert Ever',\n",
              " 'Worst Concert Ever',\n",
              " 'Enjoyed',\n",
              " 'Enjoyed',\n",
              " 'Best Concert Ever',\n",
              " 'Enjoyed',\n",
              " 'Did Not Enjoy',\n",
              " 'Did Not Enjoy',\n",
              " 'Did Not Enjoy',\n",
              " 'Enjoyed',\n",
              " 'Did Not Enjoy',\n",
              " 'Enjoyed',\n",
              " 'Did Not Enjoy',\n",
              " 'Did Not Enjoy',\n",
              " 'Enjoyed',\n",
              " 'Best Concert Ever',\n",
              " 'Did Not Enjoy',\n",
              " 'Enjoyed',\n",
              " 'Did Not Enjoy',\n",
              " 'Did Not Enjoy',\n",
              " 'Enjoyed',\n",
              " 'Did Not Enjoy',\n",
              " 'Did Not Enjoy',\n",
              " 'Did Not Enjoy',\n",
              " 'Did Not Enjoy',\n",
              " 'Did Not Enjoy',\n",
              " 'Did Not Enjoy',\n",
              " 'Did Not Enjoy',\n",
              " 'Enjoyed',\n",
              " 'Enjoyed',\n",
              " 'Enjoyed',\n",
              " 'Best Concert Ever',\n",
              " 'Did Not Enjoy',\n",
              " 'Enjoyed',\n",
              " 'Enjoyed',\n",
              " 'Best Concert Ever',\n",
              " 'Did Not Enjoy',\n",
              " 'Enjoyed',\n",
              " 'Did Not Enjoy',\n",
              " 'Did Not Enjoy',\n",
              " 'Did Not Enjoy',\n",
              " 'Worst Concert Ever',\n",
              " 'Enjoyed',\n",
              " 'Enjoyed',\n",
              " 'Enjoyed',\n",
              " 'Did Not Enjoy',\n",
              " 'Did Not Enjoy',\n",
              " 'Did Not Enjoy',\n",
              " 'Did Not Enjoy',\n",
              " 'Did Not Enjoy',\n",
              " 'Enjoyed',\n",
              " 'Enjoyed',\n",
              " 'Did Not Enjoy',\n",
              " 'Enjoyed',\n",
              " 'Enjoyed',\n",
              " 'Worst Concert Ever',\n",
              " 'Did Not Enjoy',\n",
              " 'Enjoyed',\n",
              " 'Enjoyed',\n",
              " 'Did Not Enjoy',\n",
              " 'Enjoyed',\n",
              " 'Did Not Enjoy',\n",
              " 'Did Not Enjoy',\n",
              " 'Best Concert Ever',\n",
              " 'Did Not Enjoy',\n",
              " 'Did Not Enjoy',\n",
              " 'Enjoyed',\n",
              " 'Enjoyed',\n",
              " 'Enjoyed',\n",
              " 'Enjoyed',\n",
              " 'Did Not Enjoy',\n",
              " 'Enjoyed',\n",
              " 'Enjoyed',\n",
              " 'Worst Concert Ever',\n",
              " 'Did Not Enjoy',\n",
              " 'Best Concert Ever',\n",
              " 'Enjoyed',\n",
              " 'Worst Concert Ever',\n",
              " 'Enjoyed',\n",
              " 'Did Not Enjoy',\n",
              " 'Worst Concert Ever',\n",
              " 'Enjoyed',\n",
              " 'Enjoyed',\n",
              " 'Did Not Enjoy',\n",
              " 'Enjoyed',\n",
              " 'Best Concert Ever',\n",
              " 'Did Not Enjoy',\n",
              " 'Enjoyed',\n",
              " 'Did Not Enjoy',\n",
              " 'Worst Concert Ever',\n",
              " 'Did Not Enjoy',\n",
              " 'Did Not Enjoy',\n",
              " 'Enjoyed',\n",
              " 'Did Not Enjoy',\n",
              " 'Enjoyed',\n",
              " 'Worst Concert Ever',\n",
              " 'Enjoyed',\n",
              " 'Enjoyed',\n",
              " 'Did Not Enjoy',\n",
              " 'Enjoyed',\n",
              " 'Did Not Enjoy',\n",
              " 'Did Not Enjoy',\n",
              " 'Did Not Enjoy',\n",
              " 'Enjoyed',\n",
              " 'Did Not Enjoy',\n",
              " 'Did Not Enjoy',\n",
              " 'Enjoyed',\n",
              " 'Did Not Enjoy',\n",
              " 'Enjoyed',\n",
              " 'Did Not Enjoy',\n",
              " 'Best Concert Ever',\n",
              " 'Best Concert Ever',\n",
              " 'Enjoyed',\n",
              " 'Enjoyed',\n",
              " 'Best Concert Ever',\n",
              " 'Enjoyed',\n",
              " 'Did Not Enjoy',\n",
              " 'Enjoyed',\n",
              " 'Enjoyed',\n",
              " 'Enjoyed',\n",
              " 'Enjoyed',\n",
              " 'Enjoyed',\n",
              " 'Worst Concert Ever',\n",
              " 'Worst Concert Ever',\n",
              " 'Did Not Enjoy',\n",
              " 'Enjoyed',\n",
              " 'Did Not Enjoy',\n",
              " 'Enjoyed',\n",
              " 'Enjoyed',\n",
              " 'Worst Concert Ever',\n",
              " 'Enjoyed',\n",
              " 'Did Not Enjoy',\n",
              " 'Worst Concert Ever',\n",
              " 'Did Not Enjoy',\n",
              " 'Did Not Enjoy',\n",
              " 'Enjoyed',\n",
              " 'Enjoyed',\n",
              " 'Did Not Enjoy',\n",
              " 'Enjoyed',\n",
              " 'Did Not Enjoy',\n",
              " 'Enjoyed',\n",
              " 'Did Not Enjoy',\n",
              " 'Did Not Enjoy',\n",
              " 'Enjoyed',\n",
              " 'Did Not Enjoy',\n",
              " 'Did Not Enjoy',\n",
              " 'Did Not Enjoy',\n",
              " 'Best Concert Ever',\n",
              " 'Did Not Enjoy',\n",
              " 'Enjoyed',\n",
              " 'Worst Concert Ever',\n",
              " 'Did Not Enjoy',\n",
              " 'Did Not Enjoy',\n",
              " 'Did Not Enjoy',\n",
              " 'Enjoyed',\n",
              " 'Best Concert Ever',\n",
              " 'Enjoyed',\n",
              " 'Worst Concert Ever',\n",
              " 'Enjoyed',\n",
              " 'Did Not Enjoy',\n",
              " 'Enjoyed',\n",
              " 'Did Not Enjoy',\n",
              " 'Did Not Enjoy',\n",
              " 'Enjoyed',\n",
              " 'Enjoyed',\n",
              " 'Enjoyed',\n",
              " 'Did Not Enjoy',\n",
              " 'Did Not Enjoy',\n",
              " 'Did Not Enjoy',\n",
              " 'Did Not Enjoy',\n",
              " 'Best Concert Ever',\n",
              " 'Did Not Enjoy',\n",
              " 'Did Not Enjoy',\n",
              " 'Worst Concert Ever',\n",
              " 'Did Not Enjoy',\n",
              " 'Enjoyed',\n",
              " 'Did Not Enjoy',\n",
              " 'Did Not Enjoy',\n",
              " 'Did Not Enjoy',\n",
              " 'Enjoyed',\n",
              " 'Did Not Enjoy',\n",
              " 'Did Not Enjoy',\n",
              " 'Enjoyed',\n",
              " 'Enjoyed',\n",
              " 'Did Not Enjoy',\n",
              " 'Enjoyed',\n",
              " 'Best Concert Ever',\n",
              " 'Enjoyed',\n",
              " 'Did Not Enjoy',\n",
              " 'Enjoyed',\n",
              " 'Enjoyed',\n",
              " 'Did Not Enjoy',\n",
              " 'Did Not Enjoy',\n",
              " 'Did Not Enjoy',\n",
              " 'Enjoyed',\n",
              " 'Enjoyed',\n",
              " 'Enjoyed',\n",
              " 'Did Not Enjoy',\n",
              " 'Enjoyed',\n",
              " 'Best Concert Ever',\n",
              " 'Enjoyed',\n",
              " 'Did Not Enjoy',\n",
              " 'Did Not Enjoy',\n",
              " 'Enjoyed',\n",
              " 'Did Not Enjoy',\n",
              " 'Enjoyed',\n",
              " 'Enjoyed',\n",
              " 'Best Concert Ever',\n",
              " 'Enjoyed',\n",
              " 'Enjoyed',\n",
              " 'Enjoyed',\n",
              " 'Did Not Enjoy',\n",
              " 'Enjoyed',\n",
              " 'Enjoyed',\n",
              " 'Did Not Enjoy',\n",
              " 'Enjoyed',\n",
              " 'Worst Concert Ever',\n",
              " 'Did Not Enjoy',\n",
              " 'Worst Concert Ever',\n",
              " 'Enjoyed',\n",
              " 'Did Not Enjoy',\n",
              " 'Best Concert Ever',\n",
              " 'Enjoyed',\n",
              " 'Did Not Enjoy',\n",
              " 'Enjoyed',\n",
              " 'Worst Concert Ever',\n",
              " 'Did Not Enjoy',\n",
              " 'Did Not Enjoy',\n",
              " 'Best Concert Ever',\n",
              " 'Enjoyed',\n",
              " 'Worst Concert Ever',\n",
              " 'Did Not Enjoy',\n",
              " 'Enjoyed',\n",
              " 'Enjoyed',\n",
              " 'Did Not Enjoy',\n",
              " 'Worst Concert Ever',\n",
              " 'Best Concert Ever',\n",
              " 'Worst Concert Ever',\n",
              " 'Best Concert Ever',\n",
              " 'Enjoyed',\n",
              " 'Enjoyed',\n",
              " 'Enjoyed',\n",
              " 'Did Not Enjoy',\n",
              " 'Best Concert Ever',\n",
              " 'Did Not Enjoy',\n",
              " 'Did Not Enjoy',\n",
              " 'Enjoyed',\n",
              " 'Did Not Enjoy',\n",
              " 'Enjoyed',\n",
              " 'Worst Concert Ever',\n",
              " 'Did Not Enjoy',\n",
              " 'Did Not Enjoy',\n",
              " 'Worst Concert Ever',\n",
              " 'Did Not Enjoy',\n",
              " 'Worst Concert Ever',\n",
              " 'Enjoyed',\n",
              " 'Enjoyed',\n",
              " 'Enjoyed',\n",
              " 'Enjoyed',\n",
              " 'Enjoyed',\n",
              " 'Enjoyed',\n",
              " 'Did Not Enjoy',\n",
              " 'Enjoyed',\n",
              " 'Best Concert Ever',\n",
              " 'Enjoyed',\n",
              " 'Did Not Enjoy',\n",
              " 'Did Not Enjoy',\n",
              " 'Did Not Enjoy',\n",
              " 'Enjoyed',\n",
              " 'Enjoyed',\n",
              " 'Best Concert Ever',\n",
              " 'Worst Concert Ever',\n",
              " 'Did Not Enjoy',\n",
              " 'Did Not Enjoy',\n",
              " 'Enjoyed',\n",
              " 'Enjoyed',\n",
              " 'Did Not Enjoy',\n",
              " 'Did Not Enjoy',\n",
              " 'Did Not Enjoy',\n",
              " 'Best Concert Ever',\n",
              " 'Enjoyed',\n",
              " 'Enjoyed',\n",
              " 'Best Concert Ever',\n",
              " 'Enjoyed',\n",
              " 'Enjoyed',\n",
              " 'Worst Concert Ever',\n",
              " 'Did Not Enjoy',\n",
              " 'Did Not Enjoy',\n",
              " 'Enjoyed',\n",
              " 'Did Not Enjoy',\n",
              " 'Enjoyed',\n",
              " 'Best Concert Ever',\n",
              " 'Enjoyed',\n",
              " 'Enjoyed',\n",
              " 'Did Not Enjoy',\n",
              " 'Best Concert Ever',\n",
              " 'Did Not Enjoy',\n",
              " 'Enjoyed',\n",
              " 'Did Not Enjoy',\n",
              " 'Enjoyed',\n",
              " 'Did Not Enjoy',\n",
              " 'Worst Concert Ever',\n",
              " 'Did Not Enjoy',\n",
              " 'Did Not Enjoy',\n",
              " 'Did Not Enjoy',\n",
              " 'Did Not Enjoy',\n",
              " 'Did Not Enjoy',\n",
              " 'Best Concert Ever',\n",
              " 'Did Not Enjoy',\n",
              " 'Best Concert Ever',\n",
              " 'Did Not Enjoy',\n",
              " 'Did Not Enjoy',\n",
              " 'Worst Concert Ever',\n",
              " 'Enjoyed',\n",
              " 'Worst Concert Ever',\n",
              " 'Did Not Enjoy',\n",
              " 'Did Not Enjoy',\n",
              " 'Did Not Enjoy',\n",
              " 'Enjoyed',\n",
              " 'Enjoyed',\n",
              " 'Best Concert Ever',\n",
              " 'Enjoyed',\n",
              " 'Enjoyed',\n",
              " 'Enjoyed',\n",
              " 'Did Not Enjoy',\n",
              " 'Enjoyed',\n",
              " 'Did Not Enjoy',\n",
              " 'Did Not Enjoy',\n",
              " 'Did Not Enjoy',\n",
              " 'Best Concert Ever',\n",
              " 'Did Not Enjoy',\n",
              " 'Worst Concert Ever',\n",
              " 'Did Not Enjoy',\n",
              " 'Enjoyed',\n",
              " 'Enjoyed',\n",
              " 'Did Not Enjoy',\n",
              " 'Enjoyed',\n",
              " 'Did Not Enjoy',\n",
              " 'Did Not Enjoy',\n",
              " 'Did Not Enjoy',\n",
              " 'Enjoyed',\n",
              " 'Best Concert Ever',\n",
              " 'Enjoyed',\n",
              " 'Did Not Enjoy',\n",
              " 'Enjoyed',\n",
              " 'Did Not Enjoy',\n",
              " 'Did Not Enjoy',\n",
              " 'Enjoyed',\n",
              " 'Enjoyed',\n",
              " 'Did Not Enjoy',\n",
              " 'Enjoyed',\n",
              " 'Did Not Enjoy',\n",
              " 'Enjoyed',\n",
              " 'Enjoyed',\n",
              " 'Best Concert Ever',\n",
              " 'Enjoyed',\n",
              " 'Worst Concert Ever',\n",
              " 'Best Concert Ever',\n",
              " 'Enjoyed',\n",
              " 'Worst Concert Ever',\n",
              " 'Did Not Enjoy',\n",
              " 'Enjoyed',\n",
              " 'Did Not Enjoy',\n",
              " 'Enjoyed',\n",
              " 'Did Not Enjoy',\n",
              " 'Enjoyed',\n",
              " 'Did Not Enjoy',\n",
              " 'Enjoyed',\n",
              " 'Enjoyed',\n",
              " 'Enjoyed',\n",
              " 'Did Not Enjoy',\n",
              " 'Enjoyed',\n",
              " 'Enjoyed',\n",
              " 'Did Not Enjoy',\n",
              " 'Did Not Enjoy',\n",
              " 'Did Not Enjoy',\n",
              " 'Enjoyed',\n",
              " 'Did Not Enjoy',\n",
              " 'Enjoyed',\n",
              " 'Did Not Enjoy',\n",
              " 'Did Not Enjoy',\n",
              " 'Enjoyed',\n",
              " 'Enjoyed',\n",
              " 'Did Not Enjoy',\n",
              " 'Worst Concert Ever',\n",
              " 'Did Not Enjoy',\n",
              " 'Did Not Enjoy',\n",
              " 'Worst Concert Ever',\n",
              " 'Did Not Enjoy',\n",
              " 'Worst Concert Ever',\n",
              " 'Did Not Enjoy',\n",
              " 'Did Not Enjoy',\n",
              " 'Best Concert Ever',\n",
              " 'Did Not Enjoy',\n",
              " 'Did Not Enjoy',\n",
              " 'Did Not Enjoy',\n",
              " 'Did Not Enjoy',\n",
              " 'Enjoyed',\n",
              " 'Did Not Enjoy',\n",
              " 'Did Not Enjoy',\n",
              " 'Enjoyed',\n",
              " 'Worst Concert Ever',\n",
              " 'Did Not Enjoy',\n",
              " 'Did Not Enjoy',\n",
              " 'Enjoyed',\n",
              " 'Worst Concert Ever',\n",
              " 'Enjoyed',\n",
              " 'Did Not Enjoy',\n",
              " 'Enjoyed',\n",
              " 'Enjoyed',\n",
              " 'Enjoyed',\n",
              " 'Enjoyed',\n",
              " 'Best Concert Ever',\n",
              " 'Did Not Enjoy',\n",
              " 'Best Concert Ever',\n",
              " 'Worst Concert Ever',\n",
              " 'Did Not Enjoy',\n",
              " 'Worst Concert Ever',\n",
              " 'Worst Concert Ever',\n",
              " 'Did Not Enjoy',\n",
              " 'Did Not Enjoy',\n",
              " 'Enjoyed',\n",
              " 'Enjoyed',\n",
              " 'Did Not Enjoy',\n",
              " 'Did Not Enjoy',\n",
              " 'Best Concert Ever',\n",
              " 'Did Not Enjoy',\n",
              " 'Enjoyed',\n",
              " 'Enjoyed',\n",
              " 'Did Not Enjoy',\n",
              " 'Did Not Enjoy',\n",
              " 'Did Not Enjoy',\n",
              " 'Best Concert Ever',\n",
              " 'Did Not Enjoy',\n",
              " 'Best Concert Ever',\n",
              " 'Did Not Enjoy',\n",
              " 'Enjoyed',\n",
              " 'Did Not Enjoy',\n",
              " 'Enjoyed',\n",
              " 'Did Not Enjoy',\n",
              " 'Did Not Enjoy',\n",
              " 'Did Not Enjoy',\n",
              " 'Worst Concert Ever',\n",
              " 'Did Not Enjoy',\n",
              " 'Did Not Enjoy',\n",
              " 'Did Not Enjoy',\n",
              " 'Enjoyed',\n",
              " 'Did Not Enjoy',\n",
              " 'Did Not Enjoy',\n",
              " 'Best Concert Ever',\n",
              " 'Worst Concert Ever',\n",
              " 'Did Not Enjoy',\n",
              " 'Best Concert Ever',\n",
              " 'Enjoyed',\n",
              " 'Did Not Enjoy',\n",
              " 'Did Not Enjoy',\n",
              " 'Did Not Enjoy',\n",
              " 'Did Not Enjoy',\n",
              " 'Best Concert Ever',\n",
              " 'Enjoyed',\n",
              " 'Did Not Enjoy',\n",
              " 'Did Not Enjoy',\n",
              " 'Enjoyed',\n",
              " 'Did Not Enjoy',\n",
              " 'Best Concert Ever',\n",
              " 'Did Not Enjoy',\n",
              " 'Enjoyed',\n",
              " 'Enjoyed',\n",
              " 'Did Not Enjoy',\n",
              " 'Worst Concert Ever',\n",
              " 'Did Not Enjoy',\n",
              " 'Worst Concert Ever',\n",
              " 'Best Concert Ever',\n",
              " 'Did Not Enjoy',\n",
              " 'Did Not Enjoy',\n",
              " 'Enjoyed',\n",
              " 'Enjoyed',\n",
              " 'Enjoyed',\n",
              " 'Did Not Enjoy',\n",
              " 'Best Concert Ever',\n",
              " 'Did Not Enjoy',\n",
              " 'Best Concert Ever',\n",
              " 'Best Concert Ever',\n",
              " 'Enjoyed',\n",
              " 'Did Not Enjoy',\n",
              " 'Did Not Enjoy',\n",
              " 'Enjoyed',\n",
              " 'Enjoyed',\n",
              " 'Best Concert Ever',\n",
              " 'Did Not Enjoy',\n",
              " 'Enjoyed',\n",
              " 'Did Not Enjoy',\n",
              " 'Did Not Enjoy',\n",
              " 'Worst Concert Ever',\n",
              " 'Did Not Enjoy',\n",
              " 'Enjoyed',\n",
              " 'Worst Concert Ever',\n",
              " 'Did Not Enjoy',\n",
              " 'Enjoyed',\n",
              " 'Did Not Enjoy',\n",
              " 'Enjoyed',\n",
              " 'Did Not Enjoy',\n",
              " 'Did Not Enjoy',\n",
              " 'Best Concert Ever',\n",
              " 'Did Not Enjoy',\n",
              " 'Enjoyed',\n",
              " 'Did Not Enjoy',\n",
              " 'Enjoyed',\n",
              " 'Best Concert Ever',\n",
              " 'Did Not Enjoy',\n",
              " 'Worst Concert Ever',\n",
              " 'Enjoyed',\n",
              " 'Best Concert Ever',\n",
              " 'Enjoyed',\n",
              " 'Did Not Enjoy',\n",
              " 'Enjoyed',\n",
              " 'Enjoyed',\n",
              " 'Enjoyed',\n",
              " 'Enjoyed',\n",
              " 'Enjoyed',\n",
              " 'Did Not Enjoy',\n",
              " 'Enjoyed',\n",
              " 'Did Not Enjoy',\n",
              " 'Did Not Enjoy',\n",
              " 'Did Not Enjoy',\n",
              " 'Enjoyed',\n",
              " 'Did Not Enjoy',\n",
              " 'Did Not Enjoy',\n",
              " 'Did Not Enjoy',\n",
              " 'Did Not Enjoy',\n",
              " 'Best Concert Ever',\n",
              " 'Did Not Enjoy',\n",
              " 'Enjoyed',\n",
              " 'Best Concert Ever',\n",
              " 'Enjoyed',\n",
              " 'Did Not Enjoy',\n",
              " 'Enjoyed',\n",
              " 'Enjoyed',\n",
              " 'Did Not Enjoy',\n",
              " 'Worst Concert Ever',\n",
              " 'Enjoyed',\n",
              " 'Worst Concert Ever',\n",
              " 'Enjoyed',\n",
              " 'Best Concert Ever',\n",
              " 'Did Not Enjoy',\n",
              " 'Did Not Enjoy',\n",
              " 'Did Not Enjoy',\n",
              " 'Did Not Enjoy',\n",
              " 'Worst Concert Ever',\n",
              " 'Enjoyed',\n",
              " 'Did Not Enjoy',\n",
              " 'Enjoyed',\n",
              " 'Did Not Enjoy',\n",
              " 'Did Not Enjoy',\n",
              " 'Enjoyed',\n",
              " 'Did Not Enjoy',\n",
              " 'Enjoyed',\n",
              " 'Did Not Enjoy',\n",
              " 'Worst Concert Ever',\n",
              " 'Enjoyed',\n",
              " 'Enjoyed',\n",
              " 'Did Not Enjoy',\n",
              " 'Did Not Enjoy',\n",
              " 'Enjoyed',\n",
              " 'Did Not Enjoy',\n",
              " 'Did Not Enjoy',\n",
              " 'Did Not Enjoy',\n",
              " 'Worst Concert Ever',\n",
              " 'Did Not Enjoy',\n",
              " 'Enjoyed',\n",
              " 'Enjoyed',\n",
              " 'Did Not Enjoy',\n",
              " 'Did Not Enjoy',\n",
              " 'Did Not Enjoy',\n",
              " 'Enjoyed',\n",
              " 'Enjoyed',\n",
              " 'Did Not Enjoy',\n",
              " 'Enjoyed',\n",
              " 'Enjoyed',\n",
              " 'Enjoyed',\n",
              " 'Best Concert Ever',\n",
              " 'Worst Concert Ever',\n",
              " 'Did Not Enjoy',\n",
              " 'Enjoyed',\n",
              " 'Enjoyed',\n",
              " 'Enjoyed',\n",
              " 'Worst Concert Ever',\n",
              " 'Did Not Enjoy',\n",
              " 'Enjoyed',\n",
              " 'Did Not Enjoy',\n",
              " 'Worst Concert Ever',\n",
              " 'Best Concert Ever',\n",
              " 'Enjoyed',\n",
              " 'Enjoyed',\n",
              " 'Best Concert Ever',\n",
              " 'Worst Concert Ever',\n",
              " 'Did Not Enjoy',\n",
              " 'Did Not Enjoy',\n",
              " 'Enjoyed',\n",
              " 'Did Not Enjoy',\n",
              " 'Did Not Enjoy',\n",
              " 'Worst Concert Ever',\n",
              " 'Did Not Enjoy',\n",
              " 'Best Concert Ever',\n",
              " 'Enjoyed',\n",
              " 'Enjoyed',\n",
              " 'Enjoyed',\n",
              " 'Enjoyed',\n",
              " 'Enjoyed',\n",
              " 'Enjoyed',\n",
              " 'Enjoyed',\n",
              " 'Did Not Enjoy',\n",
              " 'Best Concert Ever',\n",
              " 'Did Not Enjoy',\n",
              " 'Enjoyed',\n",
              " 'Best Concert Ever',\n",
              " 'Best Concert Ever',\n",
              " 'Enjoyed',\n",
              " 'Enjoyed',\n",
              " 'Enjoyed',\n",
              " 'Did Not Enjoy',\n",
              " 'Did Not Enjoy',\n",
              " 'Did Not Enjoy',\n",
              " 'Did Not Enjoy',\n",
              " 'Did Not Enjoy',\n",
              " 'Enjoyed',\n",
              " 'Did Not Enjoy',\n",
              " 'Did Not Enjoy',\n",
              " 'Did Not Enjoy',\n",
              " 'Did Not Enjoy',\n",
              " 'Did Not Enjoy',\n",
              " 'Did Not Enjoy',\n",
              " 'Did Not Enjoy',\n",
              " 'Enjoyed',\n",
              " 'Enjoyed',\n",
              " 'Enjoyed',\n",
              " 'Worst Concert Ever',\n",
              " 'Best Concert Ever',\n",
              " 'Enjoyed',\n",
              " 'Worst Concert Ever',\n",
              " 'Enjoyed',\n",
              " 'Best Concert Ever',\n",
              " 'Did Not Enjoy',\n",
              " 'Did Not Enjoy',\n",
              " 'Did Not Enjoy',\n",
              " 'Best Concert Ever',\n",
              " 'Enjoyed',\n",
              " 'Enjoyed',\n",
              " 'Worst Concert Ever',\n",
              " 'Worst Concert Ever',\n",
              " 'Did Not Enjoy',\n",
              " 'Did Not Enjoy',\n",
              " 'Best Concert Ever',\n",
              " 'Enjoyed',\n",
              " 'Did Not Enjoy',\n",
              " 'Did Not Enjoy',\n",
              " 'Enjoyed',\n",
              " 'Best Concert Ever',\n",
              " 'Did Not Enjoy',\n",
              " 'Best Concert Ever',\n",
              " 'Did Not Enjoy',\n",
              " 'Did Not Enjoy',\n",
              " 'Enjoyed',\n",
              " 'Enjoyed',\n",
              " 'Enjoyed',\n",
              " 'Enjoyed',\n",
              " 'Did Not Enjoy',\n",
              " 'Enjoyed',\n",
              " 'Enjoyed',\n",
              " 'Did Not Enjoy',\n",
              " 'Did Not Enjoy',\n",
              " 'Did Not Enjoy',\n",
              " 'Worst Concert Ever',\n",
              " 'Did Not Enjoy',\n",
              " 'Best Concert Ever',\n",
              " 'Did Not Enjoy',\n",
              " 'Best Concert Ever',\n",
              " 'Did Not Enjoy',\n",
              " 'Best Concert Ever',\n",
              " 'Enjoyed',\n",
              " 'Did Not Enjoy',\n",
              " 'Enjoyed',\n",
              " 'Enjoyed',\n",
              " 'Enjoyed',\n",
              " 'Did Not Enjoy',\n",
              " 'Did Not Enjoy',\n",
              " 'Worst Concert Ever',\n",
              " 'Enjoyed',\n",
              " 'Did Not Enjoy',\n",
              " 'Did Not Enjoy',\n",
              " 'Enjoyed',\n",
              " 'Worst Concert Ever',\n",
              " 'Did Not Enjoy',\n",
              " 'Best Concert Ever',\n",
              " 'Did Not Enjoy',\n",
              " 'Did Not Enjoy',\n",
              " 'Did Not Enjoy',\n",
              " 'Enjoyed',\n",
              " 'Did Not Enjoy',\n",
              " 'Best Concert Ever',\n",
              " 'Did Not Enjoy',\n",
              " 'Did Not Enjoy',\n",
              " 'Best Concert Ever',\n",
              " 'Best Concert Ever',\n",
              " 'Did Not Enjoy',\n",
              " 'Enjoyed',\n",
              " 'Worst Concert Ever',\n",
              " 'Did Not Enjoy',\n",
              " 'Best Concert Ever',\n",
              " 'Enjoyed',\n",
              " 'Worst Concert Ever',\n",
              " 'Enjoyed',\n",
              " 'Did Not Enjoy',\n",
              " 'Enjoyed',\n",
              " 'Enjoyed',\n",
              " 'Did Not Enjoy',\n",
              " 'Enjoyed',\n",
              " 'Best Concert Ever',\n",
              " 'Did Not Enjoy',\n",
              " 'Did Not Enjoy',\n",
              " 'Worst Concert Ever',\n",
              " 'Enjoyed',\n",
              " 'Enjoyed',\n",
              " 'Did Not Enjoy',\n",
              " 'Enjoyed',\n",
              " 'Enjoyed',\n",
              " 'Enjoyed',\n",
              " 'Enjoyed',\n",
              " 'Did Not Enjoy',\n",
              " 'Enjoyed',\n",
              " 'Enjoyed',\n",
              " 'Enjoyed',\n",
              " 'Enjoyed',\n",
              " 'Did Not Enjoy',\n",
              " 'Enjoyed',\n",
              " 'Enjoyed',\n",
              " 'Enjoyed',\n",
              " 'Enjoyed',\n",
              " 'Enjoyed',\n",
              " 'Did Not Enjoy',\n",
              " 'Did Not Enjoy',\n",
              " 'Did Not Enjoy',\n",
              " 'Did Not Enjoy',\n",
              " 'Best Concert Ever',\n",
              " 'Enjoyed',\n",
              " 'Enjoyed',\n",
              " 'Did Not Enjoy',\n",
              " 'Enjoyed',\n",
              " 'Did Not Enjoy',\n",
              " 'Worst Concert Ever',\n",
              " 'Did Not Enjoy',\n",
              " 'Enjoyed',\n",
              " 'Worst Concert Ever',\n",
              " 'Enjoyed',\n",
              " 'Did Not Enjoy',\n",
              " 'Enjoyed',\n",
              " 'Enjoyed',\n",
              " 'Worst Concert Ever',\n",
              " 'Enjoyed',\n",
              " 'Worst Concert Ever',\n",
              " 'Enjoyed',\n",
              " 'Worst Concert Ever',\n",
              " 'Did Not Enjoy',\n",
              " 'Enjoyed',\n",
              " 'Enjoyed',\n",
              " 'Worst Concert Ever',\n",
              " 'Best Concert Ever',\n",
              " 'Best Concert Ever',\n",
              " 'Worst Concert Ever',\n",
              " 'Best Concert Ever',\n",
              " 'Best Concert Ever',\n",
              " 'Enjoyed',\n",
              " 'Enjoyed',\n",
              " 'Did Not Enjoy',\n",
              " 'Best Concert Ever',\n",
              " 'Did Not Enjoy',\n",
              " 'Did Not Enjoy',\n",
              " 'Worst Concert Ever',\n",
              " 'Enjoyed',\n",
              " 'Enjoyed',\n",
              " 'Did Not Enjoy',\n",
              " 'Enjoyed',\n",
              " 'Enjoyed',\n",
              " 'Enjoyed',\n",
              " 'Enjoyed',\n",
              " 'Enjoyed',\n",
              " 'Did Not Enjoy',\n",
              " 'Enjoyed',\n",
              " 'Enjoyed',\n",
              " 'Worst Concert Ever',\n",
              " 'Enjoyed',\n",
              " 'Enjoyed',\n",
              " 'Enjoyed',\n",
              " 'Did Not Enjoy',\n",
              " 'Enjoyed',\n",
              " 'Did Not Enjoy',\n",
              " 'Did Not Enjoy',\n",
              " 'Best Concert Ever',\n",
              " 'Did Not Enjoy',\n",
              " 'Did Not Enjoy',\n",
              " 'Enjoyed',\n",
              " 'Enjoyed',\n",
              " 'Worst Concert Ever',\n",
              " 'Enjoyed',\n",
              " 'Did Not Enjoy',\n",
              " 'Enjoyed',\n",
              " 'Did Not Enjoy',\n",
              " 'Enjoyed',\n",
              " 'Did Not Enjoy',\n",
              " 'Enjoyed',\n",
              " 'Enjoyed',\n",
              " 'Did Not Enjoy',\n",
              " 'Did Not Enjoy',\n",
              " 'Best Concert Ever',\n",
              " 'Did Not Enjoy',\n",
              " 'Did Not Enjoy',\n",
              " 'Did Not Enjoy',\n",
              " 'Enjoyed',\n",
              " 'Best Concert Ever',\n",
              " 'Did Not Enjoy',\n",
              " 'Did Not Enjoy',\n",
              " 'Best Concert Ever',\n",
              " 'Enjoyed',\n",
              " 'Did Not Enjoy',\n",
              " 'Did Not Enjoy',\n",
              " 'Enjoyed',\n",
              " 'Enjoyed',\n",
              " 'Did Not Enjoy',\n",
              " 'Enjoyed',\n",
              " 'Did Not Enjoy',\n",
              " 'Enjoyed',\n",
              " 'Did Not Enjoy',\n",
              " 'Enjoyed',\n",
              " 'Enjoyed',\n",
              " 'Enjoyed',\n",
              " 'Did Not Enjoy',\n",
              " 'Did Not Enjoy',\n",
              " 'Enjoyed',\n",
              " 'Best Concert Ever',\n",
              " 'Best Concert Ever',\n",
              " 'Enjoyed',\n",
              " 'Worst Concert Ever',\n",
              " 'Did Not Enjoy',\n",
              " 'Best Concert Ever',\n",
              " 'Enjoyed',\n",
              " 'Enjoyed',\n",
              " 'Did Not Enjoy',\n",
              " 'Did Not Enjoy',\n",
              " 'Did Not Enjoy',\n",
              " 'Did Not Enjoy',\n",
              " 'Enjoyed',\n",
              " 'Worst Concert Ever',\n",
              " 'Did Not Enjoy',\n",
              " 'Enjoyed',\n",
              " 'Did Not Enjoy',\n",
              " 'Enjoyed',\n",
              " 'Enjoyed',\n",
              " 'Best Concert Ever',\n",
              " 'Enjoyed',\n",
              " 'Enjoyed',\n",
              " 'Did Not Enjoy',\n",
              " 'Worst Concert Ever',\n",
              " 'Did Not Enjoy',\n",
              " 'Did Not Enjoy',\n",
              " 'Enjoyed',\n",
              " 'Worst Concert Ever',\n",
              " 'Enjoyed',\n",
              " 'Did Not Enjoy',\n",
              " 'Enjoyed',\n",
              " 'Did Not Enjoy',\n",
              " 'Enjoyed',\n",
              " 'Did Not Enjoy',\n",
              " 'Worst Concert Ever',\n",
              " 'Enjoyed',\n",
              " 'Did Not Enjoy',\n",
              " 'Enjoyed',\n",
              " 'Did Not Enjoy',\n",
              " 'Worst Concert Ever',\n",
              " 'Enjoyed',\n",
              " 'Enjoyed',\n",
              " 'Enjoyed',\n",
              " 'Did Not Enjoy',\n",
              " 'Worst Concert Ever',\n",
              " 'Did Not Enjoy',\n",
              " 'Worst Concert Ever',\n",
              " 'Enjoyed',\n",
              " 'Enjoyed',\n",
              " 'Did Not Enjoy',\n",
              " 'Did Not Enjoy',\n",
              " 'Did Not Enjoy',\n",
              " 'Enjoyed',\n",
              " 'Did Not Enjoy',\n",
              " 'Worst Concert Ever',\n",
              " 'Did Not Enjoy',\n",
              " 'Did Not Enjoy',\n",
              " 'Did Not Enjoy',\n",
              " 'Enjoyed',\n",
              " 'Did Not Enjoy',\n",
              " 'Enjoyed',\n",
              " 'Enjoyed',\n",
              " 'Did Not Enjoy',\n",
              " 'Did Not Enjoy',\n",
              " 'Did Not Enjoy',\n",
              " 'Enjoyed',\n",
              " 'Did Not Enjoy',\n",
              " 'Enjoyed',\n",
              " 'Enjoyed',\n",
              " 'Did Not Enjoy',\n",
              " 'Did Not Enjoy',\n",
              " 'Did Not Enjoy',\n",
              " 'Did Not Enjoy',\n",
              " 'Did Not Enjoy',\n",
              " 'Worst Concert Ever',\n",
              " 'Did Not Enjoy',\n",
              " 'Worst Concert Ever',\n",
              " 'Best Concert Ever',\n",
              " 'Did Not Enjoy',\n",
              " 'Enjoyed',\n",
              " 'Best Concert Ever',\n",
              " 'Did Not Enjoy',\n",
              " 'Did Not Enjoy',\n",
              " 'Did Not Enjoy',\n",
              " 'Did Not Enjoy',\n",
              " 'Enjoyed',\n",
              " 'Enjoyed',\n",
              " 'Worst Concert Ever',\n",
              " 'Did Not Enjoy',\n",
              " 'Did Not Enjoy',\n",
              " 'Did Not Enjoy',\n",
              " 'Enjoyed',\n",
              " 'Enjoyed',\n",
              " 'Worst Concert Ever',\n",
              " 'Worst Concert Ever',\n",
              " 'Enjoyed',\n",
              " 'Did Not Enjoy',\n",
              " 'Best Concert Ever',\n",
              " 'Did Not Enjoy',\n",
              " 'Did Not Enjoy',\n",
              " 'Did Not Enjoy',\n",
              " 'Enjoyed',\n",
              " 'Did Not Enjoy',\n",
              " 'Enjoyed',\n",
              " 'Did Not Enjoy',\n",
              " 'Enjoyed',\n",
              " 'Did Not Enjoy',\n",
              " 'Did Not Enjoy',\n",
              " 'Did Not Enjoy',\n",
              " 'Did Not Enjoy',\n",
              " 'Enjoyed',\n",
              " 'Enjoyed',\n",
              " 'Enjoyed',\n",
              " 'Worst Concert Ever',\n",
              " 'Best Concert Ever',\n",
              " 'Worst Concert Ever',\n",
              " 'Did Not Enjoy',\n",
              " 'Did Not Enjoy',\n",
              " 'Enjoyed',\n",
              " 'Best Concert Ever',\n",
              " 'Did Not Enjoy',\n",
              " 'Best Concert Ever',\n",
              " 'Enjoyed',\n",
              " 'Enjoyed',\n",
              " 'Enjoyed',\n",
              " 'Enjoyed',\n",
              " 'Enjoyed',\n",
              " 'Enjoyed',\n",
              " 'Enjoyed',\n",
              " 'Did Not Enjoy',\n",
              " 'Did Not Enjoy',\n",
              " 'Did Not Enjoy',\n",
              " 'Did Not Enjoy',\n",
              " 'Enjoyed',\n",
              " 'Did Not Enjoy',\n",
              " 'Enjoyed',\n",
              " 'Did Not Enjoy',\n",
              " 'Best Concert Ever',\n",
              " 'Enjoyed',\n",
              " 'Enjoyed',\n",
              " 'Best Concert Ever',\n",
              " 'Did Not Enjoy',\n",
              " 'Enjoyed',\n",
              " 'Enjoyed',\n",
              " 'Enjoyed',\n",
              " 'Did Not Enjoy',\n",
              " 'Enjoyed',\n",
              " 'Best Concert Ever',\n",
              " ...]"
            ]
          },
          "metadata": {},
          "execution_count": 69
        }
      ]
    },
    {
      "cell_type": "code",
      "source": [
        "X_train = new_df.iloc[:170000].reset_index()\n",
        "X_train.insert(17, 'Concert Enjoyment',list(y_train))"
      ],
      "metadata": {
        "id": "7kGZKObObz6Y"
      },
      "execution_count": null,
      "outputs": []
    },
    {
      "cell_type": "code",
      "source": [
        "X_train.to_csv('post_pro')"
      ],
      "metadata": {
        "id": "4_pTx2ZKcePQ"
      },
      "execution_count": null,
      "outputs": []
    },
    {
      "cell_type": "code",
      "source": [
        "#For validation\n",
        "X_train = new_df.iloc[:136000].reset_index()\n",
        "X_test = new_df.iloc[136000:170000].reset_index()\n",
        "\n",
        "for name in X_train.columns:\n",
        "  X_train[name].fillna(X_train[name].mean(), inplace = True)\n",
        "  X_test[name].fillna(X_test[name].mean(), inplace = True)"
      ],
      "metadata": {
        "id": "iD21x1zuM2b1"
      },
      "execution_count": null,
      "outputs": []
    },
    {
      "cell_type": "markdown",
      "source": [
        "For Kaggle submission"
      ],
      "metadata": {
        "id": "vIAbIl8w-zWF"
      }
    },
    {
      "cell_type": "code",
      "source": [
        "X_train = new_df.iloc[:170000].reset_index()\n",
        "X_test = new_df.iloc[170000:].reset_index()\n",
        "\n",
        "for name in X_train.columns:\n",
        "  X_train[name].fillna(X_train[name].mean(), inplace = True)\n",
        "  X_test[name].fillna(X_test[name].mean(), inplace = True)"
      ],
      "metadata": {
        "id": "-rvjq_UzSaC3"
      },
      "execution_count": null,
      "outputs": []
    },
    {
      "cell_type": "code",
      "source": [
        "X_train = X_train.drop(columns = ['Concert Goer ID', 'index'])\n",
        "X_test = X_test.drop(columns = ['Concert Goer ID','index'])"
      ],
      "metadata": {
        "id": "7qs3xJWY7gv3"
      },
      "execution_count": null,
      "outputs": []
    },
    {
      "cell_type": "markdown",
      "metadata": {
        "id": "55dx-UPyscRN"
      },
      "source": [
        "# **4 . Basic preprocessing**"
      ]
    },
    {
      "cell_type": "markdown",
      "metadata": {
        "id": "7qgsDuG0huxO"
      },
      "source": [
        "Encode categorical columns with label encoder"
      ]
    },
    {
      "cell_type": "code",
      "execution_count": null,
      "metadata": {
        "id": "WTcHsFopht-Z"
      },
      "outputs": [],
      "source": [
        "enc = LabelEncoder()\n",
        "categ_features = ['Band Name', 'Band Genre', 'Band Country of Origin', 'Concert Goer Country of Origin']\n",
        "for feature in categ_features:\n",
        "  enc.fit(X_train[feature])\n",
        "  le_dict = dict(zip(enc.classes_, enc.transform(enc.classes_)))\n",
        "  X_train[feature] = X_train[feature].apply(lambda x: le_dict.get(x, '<unknown_value>'))\n",
        "  X_test[feature] = X_test[feature].apply(lambda x: le_dict.get(x, '<unknown_value>'))\n"
      ]
    },
    {
      "cell_type": "markdown",
      "source": [
        "Filtering Nan values for boolean features, by default = 0"
      ],
      "metadata": {
        "id": "Ec4hLxeQha5V"
      }
    },
    {
      "cell_type": "code",
      "source": [
        "for name in ['Rain','Inside Venue', 'Seated']:\n",
        "  X_train[name].fillna(0, inplace = True)\n",
        "  X_test[name].fillna(0, inplace = True)"
      ],
      "metadata": {
        "id": "WH2J8ZaShaeL"
      },
      "execution_count": null,
      "outputs": []
    },
    {
      "cell_type": "markdown",
      "source": [
        "Get rid of outliers with function clip, need to be done before filling Nan values witht the mean value for 'Concert Attendance' and 'Personnality Trait 2'\n"
      ],
      "metadata": {
        "id": "Qvj5HJqN_xR6"
      }
    },
    {
      "cell_type": "code",
      "source": [
        "for name in ['Concert Attendance', \t'Personnality Trait 2']:\n",
        "  X_train[name] = np.clip(X_train[name],X_train[name].mean()-3*X_train[name].std() ,X_train[name].mean()+3*X_train[name].std())\n",
        "  X_test[name] = np.clip(X_test[name],X_test[name].mean()-3*X_test[name].std() ,X_test[name].mean()+3*X_test[name].std())\n"
      ],
      "metadata": {
        "id": "8UC9M2FX_0Nj"
      },
      "execution_count": null,
      "outputs": []
    },
    {
      "cell_type": "markdown",
      "metadata": {
        "id": "ZEt_jLAUiEq8"
      },
      "source": [
        "Filtering NaN values for numerical features"
      ]
    },
    {
      "cell_type": "code",
      "execution_count": null,
      "metadata": {
        "id": "PgOM4Pu2iIzA"
      },
      "outputs": [],
      "source": [
        "for name in ['Band Debut',\t'Concert ID',\t'Concert Attendance', 'Personnality Trait 1',\t'Personnality Trait 2',\t\\\n",
        "                        'Personnality Trait 3',\t'Personnality Trait 4',\t'Concert Goer Age',\t'Height (cm)']:\n",
        "  X_train[name].fillna(X_train[name].mean(), inplace = True)\n",
        "  X_test[name].fillna(X_test[name].mean(), inplace = True)\n",
        "\n",
        "#instead of doing this, we could use complete case analysis, which means considering only data without missing data"
      ]
    },
    {
      "cell_type": "markdown",
      "source": [
        "Filtering Nan values for categorical features, take automatically the previous value in the column"
      ],
      "metadata": {
        "id": "gLNDJtBSddH5"
      }
    },
    {
      "cell_type": "code",
      "source": [
        "for name in ['Band Name', 'Band Genre', 'Band Country of Origin', 'Concert Goer Country of Origin']:\n",
        "  X_train[name].fillna(method=\"ffill\", inplace = True)\n",
        "  X_test[name].fillna(method=\"ffill\", inplace = True)"
      ],
      "metadata": {
        "id": "ukL6kPCWdh6_"
      },
      "execution_count": null,
      "outputs": []
    },
    {
      "cell_type": "markdown",
      "metadata": {
        "id": "IJLyPz0ciRqo"
      },
      "source": [
        "Principle Component Analysis"
      ]
    },
    {
      "cell_type": "code",
      "execution_count": null,
      "metadata": {
        "id": "0msHtM_yiR_n"
      },
      "outputs": [],
      "source": [
        "pca = PCA(n_components=15)\n",
        "\n",
        "X_train = pca.fit_transform(X_train)\n",
        "X_train = pd.DataFrame(X_train)"
      ]
    },
    {
      "cell_type": "markdown",
      "source": [
        "# **5. Normalize Data**"
      ],
      "metadata": {
        "id": "6ZG1iU4n_WYb"
      }
    },
    {
      "cell_type": "markdown",
      "metadata": {
        "id": "LufRokeBiKf-"
      },
      "source": [
        "Normalize the data, using StandardScaler or RobustScaler(problème les valeurs ne sont pas entre 0 et 1)"
      ]
    },
    {
      "cell_type": "code",
      "execution_count": null,
      "metadata": {
        "id": "NQ0ma4hbiKxB"
      },
      "outputs": [],
      "source": [
        "num_features = ['Band Debut',\t'Concert ID',\t'Concert Attendance', 'Personnality Trait 1',\t'Personnality Trait 2',\t\\\n",
        "                        'Personnality Trait 3',\t'Personnality Trait 4',\t'Concert Goer Age',\t'Height (cm)']\n",
        "#sc = RobustScaler(quantile_range = (0.25,0.75))\n",
        "sc = StandardScaler()\n",
        "X_train[num_features] = sc.fit_transform(X_train[num_features])"
      ]
    },
    {
      "cell_type": "code",
      "source": [
        "X_train"
      ],
      "metadata": {
        "colab": {
          "base_uri": "https://localhost:8080/",
          "height": 551
        },
        "id": "GXw8aSUiiuOM",
        "outputId": "2057923d-cab7-4b90-c1ed-a731b3a6d5bb"
      },
      "execution_count": null,
      "outputs": [
        {
          "output_type": "execute_result",
          "data": {
            "text/plain": [
              "        Band Name  Band Genre  Band Country of Origin  Band Debut  Concert ID  \\\n",
              "0            43.0         3.0                     2.0   -0.605232    1.388671   \n",
              "1             2.0         4.0                     2.0   -1.094350    0.803031   \n",
              "2            33.0         6.0                     0.0   -1.889167    1.430255   \n",
              "3            14.0         5.0                     2.0    0.373005    0.709467   \n",
              "4             2.0         4.0                     2.0   -1.094350   -1.400916   \n",
              "...           ...         ...                     ...         ...         ...   \n",
              "135995       28.0         5.0                     2.0   -1.094350    0.227787   \n",
              "135996       26.0         1.0                     2.0    0.739843    0.913922   \n",
              "135997       26.0         1.0                     2.0    0.739843   -1.255373   \n",
              "135998       16.0         1.0                     2.0    0.128446   -1.563787   \n",
              "135999       50.0         2.0                     2.0    0.556424   -0.347457   \n",
              "\n",
              "        Concert Attendance  Inside Venue   Rain Seated  Personnality Trait 1  \\\n",
              "0                -0.474828         False  False     -1              0.303363   \n",
              "1                -0.531271          True  False   True             -2.124032   \n",
              "2                 2.607281         False  False   True             -0.520952   \n",
              "3                -0.376003         False   True  False             -0.898959   \n",
              "4                -0.531271         False  False  False             -0.833200   \n",
              "...                    ...           ...    ...    ...                   ...   \n",
              "135995            0.622682          True  False  False             -0.189770   \n",
              "135996           -0.524539         False   True  False             -0.766232   \n",
              "135997           -0.107422         False   True   True              1.154696   \n",
              "135998           -0.474828         False   True   True             -0.820807   \n",
              "135999           -0.511171          True   True  False              0.570126   \n",
              "\n",
              "        Personnality Trait 2  Personnality Trait 3  Personnality Trait 4  \\\n",
              "0                  -0.949506             -0.924236             -1.630268   \n",
              "1                   0.039397             -1.888886              0.604670   \n",
              "2                   2.015810             -0.047106             -1.256363   \n",
              "3                   1.057541             -0.330601             -1.143357   \n",
              "4                  -1.160337             -0.026757              0.962125   \n",
              "...                      ...                   ...                   ...   \n",
              "135995             -1.515999             -1.096649              1.877871   \n",
              "135996              1.192101             -0.738157              1.361355   \n",
              "135997             -0.281392              1.008652              0.832373   \n",
              "135998              0.120616              0.311966             -0.382072   \n",
              "135999             -1.163909              1.199336              0.646669   \n",
              "\n",
              "        Concert Goer Age  Height (cm)  Concert Goer Country of Origin  \n",
              "0              -1.029605    -1.719877                           104.0  \n",
              "1              -0.227155    -0.465369                           143.0  \n",
              "2               1.205792    -0.395674                           144.0  \n",
              "3              -1.717420    -1.022928                            24.0  \n",
              "4               0.689931     0.092190                           143.0  \n",
              "...                  ...          ...                             ...  \n",
              "135995         -0.857652    -0.535064                           144.0  \n",
              "135996          1.205792    -1.719877                            24.0  \n",
              "135997         -1.029605     0.370970                           144.0  \n",
              "135998         -0.341791     1.067918                           144.0  \n",
              "135999         -0.513744    -1.162318                            37.0  \n",
              "\n",
              "[136000 rows x 16 columns]"
            ],
            "text/html": [
              "\n",
              "  <div id=\"df-79d592df-74a1-4027-88e3-6a9ded0f13cc\">\n",
              "    <div class=\"colab-df-container\">\n",
              "      <div>\n",
              "<style scoped>\n",
              "    .dataframe tbody tr th:only-of-type {\n",
              "        vertical-align: middle;\n",
              "    }\n",
              "\n",
              "    .dataframe tbody tr th {\n",
              "        vertical-align: top;\n",
              "    }\n",
              "\n",
              "    .dataframe thead th {\n",
              "        text-align: right;\n",
              "    }\n",
              "</style>\n",
              "<table border=\"1\" class=\"dataframe\">\n",
              "  <thead>\n",
              "    <tr style=\"text-align: right;\">\n",
              "      <th></th>\n",
              "      <th>Band Name</th>\n",
              "      <th>Band Genre</th>\n",
              "      <th>Band Country of Origin</th>\n",
              "      <th>Band Debut</th>\n",
              "      <th>Concert ID</th>\n",
              "      <th>Concert Attendance</th>\n",
              "      <th>Inside Venue</th>\n",
              "      <th>Rain</th>\n",
              "      <th>Seated</th>\n",
              "      <th>Personnality Trait 1</th>\n",
              "      <th>Personnality Trait 2</th>\n",
              "      <th>Personnality Trait 3</th>\n",
              "      <th>Personnality Trait 4</th>\n",
              "      <th>Concert Goer Age</th>\n",
              "      <th>Height (cm)</th>\n",
              "      <th>Concert Goer Country of Origin</th>\n",
              "    </tr>\n",
              "  </thead>\n",
              "  <tbody>\n",
              "    <tr>\n",
              "      <th>0</th>\n",
              "      <td>43.0</td>\n",
              "      <td>3.0</td>\n",
              "      <td>2.0</td>\n",
              "      <td>-0.605232</td>\n",
              "      <td>1.388671</td>\n",
              "      <td>-0.474828</td>\n",
              "      <td>False</td>\n",
              "      <td>False</td>\n",
              "      <td>-1</td>\n",
              "      <td>0.303363</td>\n",
              "      <td>-0.949506</td>\n",
              "      <td>-0.924236</td>\n",
              "      <td>-1.630268</td>\n",
              "      <td>-1.029605</td>\n",
              "      <td>-1.719877</td>\n",
              "      <td>104.0</td>\n",
              "    </tr>\n",
              "    <tr>\n",
              "      <th>1</th>\n",
              "      <td>2.0</td>\n",
              "      <td>4.0</td>\n",
              "      <td>2.0</td>\n",
              "      <td>-1.094350</td>\n",
              "      <td>0.803031</td>\n",
              "      <td>-0.531271</td>\n",
              "      <td>True</td>\n",
              "      <td>False</td>\n",
              "      <td>True</td>\n",
              "      <td>-2.124032</td>\n",
              "      <td>0.039397</td>\n",
              "      <td>-1.888886</td>\n",
              "      <td>0.604670</td>\n",
              "      <td>-0.227155</td>\n",
              "      <td>-0.465369</td>\n",
              "      <td>143.0</td>\n",
              "    </tr>\n",
              "    <tr>\n",
              "      <th>2</th>\n",
              "      <td>33.0</td>\n",
              "      <td>6.0</td>\n",
              "      <td>0.0</td>\n",
              "      <td>-1.889167</td>\n",
              "      <td>1.430255</td>\n",
              "      <td>2.607281</td>\n",
              "      <td>False</td>\n",
              "      <td>False</td>\n",
              "      <td>True</td>\n",
              "      <td>-0.520952</td>\n",
              "      <td>2.015810</td>\n",
              "      <td>-0.047106</td>\n",
              "      <td>-1.256363</td>\n",
              "      <td>1.205792</td>\n",
              "      <td>-0.395674</td>\n",
              "      <td>144.0</td>\n",
              "    </tr>\n",
              "    <tr>\n",
              "      <th>3</th>\n",
              "      <td>14.0</td>\n",
              "      <td>5.0</td>\n",
              "      <td>2.0</td>\n",
              "      <td>0.373005</td>\n",
              "      <td>0.709467</td>\n",
              "      <td>-0.376003</td>\n",
              "      <td>False</td>\n",
              "      <td>True</td>\n",
              "      <td>False</td>\n",
              "      <td>-0.898959</td>\n",
              "      <td>1.057541</td>\n",
              "      <td>-0.330601</td>\n",
              "      <td>-1.143357</td>\n",
              "      <td>-1.717420</td>\n",
              "      <td>-1.022928</td>\n",
              "      <td>24.0</td>\n",
              "    </tr>\n",
              "    <tr>\n",
              "      <th>4</th>\n",
              "      <td>2.0</td>\n",
              "      <td>4.0</td>\n",
              "      <td>2.0</td>\n",
              "      <td>-1.094350</td>\n",
              "      <td>-1.400916</td>\n",
              "      <td>-0.531271</td>\n",
              "      <td>False</td>\n",
              "      <td>False</td>\n",
              "      <td>False</td>\n",
              "      <td>-0.833200</td>\n",
              "      <td>-1.160337</td>\n",
              "      <td>-0.026757</td>\n",
              "      <td>0.962125</td>\n",
              "      <td>0.689931</td>\n",
              "      <td>0.092190</td>\n",
              "      <td>143.0</td>\n",
              "    </tr>\n",
              "    <tr>\n",
              "      <th>...</th>\n",
              "      <td>...</td>\n",
              "      <td>...</td>\n",
              "      <td>...</td>\n",
              "      <td>...</td>\n",
              "      <td>...</td>\n",
              "      <td>...</td>\n",
              "      <td>...</td>\n",
              "      <td>...</td>\n",
              "      <td>...</td>\n",
              "      <td>...</td>\n",
              "      <td>...</td>\n",
              "      <td>...</td>\n",
              "      <td>...</td>\n",
              "      <td>...</td>\n",
              "      <td>...</td>\n",
              "      <td>...</td>\n",
              "    </tr>\n",
              "    <tr>\n",
              "      <th>135995</th>\n",
              "      <td>28.0</td>\n",
              "      <td>5.0</td>\n",
              "      <td>2.0</td>\n",
              "      <td>-1.094350</td>\n",
              "      <td>0.227787</td>\n",
              "      <td>0.622682</td>\n",
              "      <td>True</td>\n",
              "      <td>False</td>\n",
              "      <td>False</td>\n",
              "      <td>-0.189770</td>\n",
              "      <td>-1.515999</td>\n",
              "      <td>-1.096649</td>\n",
              "      <td>1.877871</td>\n",
              "      <td>-0.857652</td>\n",
              "      <td>-0.535064</td>\n",
              "      <td>144.0</td>\n",
              "    </tr>\n",
              "    <tr>\n",
              "      <th>135996</th>\n",
              "      <td>26.0</td>\n",
              "      <td>1.0</td>\n",
              "      <td>2.0</td>\n",
              "      <td>0.739843</td>\n",
              "      <td>0.913922</td>\n",
              "      <td>-0.524539</td>\n",
              "      <td>False</td>\n",
              "      <td>True</td>\n",
              "      <td>False</td>\n",
              "      <td>-0.766232</td>\n",
              "      <td>1.192101</td>\n",
              "      <td>-0.738157</td>\n",
              "      <td>1.361355</td>\n",
              "      <td>1.205792</td>\n",
              "      <td>-1.719877</td>\n",
              "      <td>24.0</td>\n",
              "    </tr>\n",
              "    <tr>\n",
              "      <th>135997</th>\n",
              "      <td>26.0</td>\n",
              "      <td>1.0</td>\n",
              "      <td>2.0</td>\n",
              "      <td>0.739843</td>\n",
              "      <td>-1.255373</td>\n",
              "      <td>-0.107422</td>\n",
              "      <td>False</td>\n",
              "      <td>True</td>\n",
              "      <td>True</td>\n",
              "      <td>1.154696</td>\n",
              "      <td>-0.281392</td>\n",
              "      <td>1.008652</td>\n",
              "      <td>0.832373</td>\n",
              "      <td>-1.029605</td>\n",
              "      <td>0.370970</td>\n",
              "      <td>144.0</td>\n",
              "    </tr>\n",
              "    <tr>\n",
              "      <th>135998</th>\n",
              "      <td>16.0</td>\n",
              "      <td>1.0</td>\n",
              "      <td>2.0</td>\n",
              "      <td>0.128446</td>\n",
              "      <td>-1.563787</td>\n",
              "      <td>-0.474828</td>\n",
              "      <td>False</td>\n",
              "      <td>True</td>\n",
              "      <td>True</td>\n",
              "      <td>-0.820807</td>\n",
              "      <td>0.120616</td>\n",
              "      <td>0.311966</td>\n",
              "      <td>-0.382072</td>\n",
              "      <td>-0.341791</td>\n",
              "      <td>1.067918</td>\n",
              "      <td>144.0</td>\n",
              "    </tr>\n",
              "    <tr>\n",
              "      <th>135999</th>\n",
              "      <td>50.0</td>\n",
              "      <td>2.0</td>\n",
              "      <td>2.0</td>\n",
              "      <td>0.556424</td>\n",
              "      <td>-0.347457</td>\n",
              "      <td>-0.511171</td>\n",
              "      <td>True</td>\n",
              "      <td>True</td>\n",
              "      <td>False</td>\n",
              "      <td>0.570126</td>\n",
              "      <td>-1.163909</td>\n",
              "      <td>1.199336</td>\n",
              "      <td>0.646669</td>\n",
              "      <td>-0.513744</td>\n",
              "      <td>-1.162318</td>\n",
              "      <td>37.0</td>\n",
              "    </tr>\n",
              "  </tbody>\n",
              "</table>\n",
              "<p>136000 rows × 16 columns</p>\n",
              "</div>\n",
              "      <button class=\"colab-df-convert\" onclick=\"convertToInteractive('df-79d592df-74a1-4027-88e3-6a9ded0f13cc')\"\n",
              "              title=\"Convert this dataframe to an interactive table.\"\n",
              "              style=\"display:none;\">\n",
              "        \n",
              "  <svg xmlns=\"http://www.w3.org/2000/svg\" height=\"24px\"viewBox=\"0 0 24 24\"\n",
              "       width=\"24px\">\n",
              "    <path d=\"M0 0h24v24H0V0z\" fill=\"none\"/>\n",
              "    <path d=\"M18.56 5.44l.94 2.06.94-2.06 2.06-.94-2.06-.94-.94-2.06-.94 2.06-2.06.94zm-11 1L8.5 8.5l.94-2.06 2.06-.94-2.06-.94L8.5 2.5l-.94 2.06-2.06.94zm10 10l.94 2.06.94-2.06 2.06-.94-2.06-.94-.94-2.06-.94 2.06-2.06.94z\"/><path d=\"M17.41 7.96l-1.37-1.37c-.4-.4-.92-.59-1.43-.59-.52 0-1.04.2-1.43.59L10.3 9.45l-7.72 7.72c-.78.78-.78 2.05 0 2.83L4 21.41c.39.39.9.59 1.41.59.51 0 1.02-.2 1.41-.59l7.78-7.78 2.81-2.81c.8-.78.8-2.07 0-2.86zM5.41 20L4 18.59l7.72-7.72 1.47 1.35L5.41 20z\"/>\n",
              "  </svg>\n",
              "      </button>\n",
              "      \n",
              "  <style>\n",
              "    .colab-df-container {\n",
              "      display:flex;\n",
              "      flex-wrap:wrap;\n",
              "      gap: 12px;\n",
              "    }\n",
              "\n",
              "    .colab-df-convert {\n",
              "      background-color: #E8F0FE;\n",
              "      border: none;\n",
              "      border-radius: 50%;\n",
              "      cursor: pointer;\n",
              "      display: none;\n",
              "      fill: #1967D2;\n",
              "      height: 32px;\n",
              "      padding: 0 0 0 0;\n",
              "      width: 32px;\n",
              "    }\n",
              "\n",
              "    .colab-df-convert:hover {\n",
              "      background-color: #E2EBFA;\n",
              "      box-shadow: 0px 1px 2px rgba(60, 64, 67, 0.3), 0px 1px 3px 1px rgba(60, 64, 67, 0.15);\n",
              "      fill: #174EA6;\n",
              "    }\n",
              "\n",
              "    [theme=dark] .colab-df-convert {\n",
              "      background-color: #3B4455;\n",
              "      fill: #D2E3FC;\n",
              "    }\n",
              "\n",
              "    [theme=dark] .colab-df-convert:hover {\n",
              "      background-color: #434B5C;\n",
              "      box-shadow: 0px 1px 3px 1px rgba(0, 0, 0, 0.15);\n",
              "      filter: drop-shadow(0px 1px 2px rgba(0, 0, 0, 0.3));\n",
              "      fill: #FFFFFF;\n",
              "    }\n",
              "  </style>\n",
              "\n",
              "      <script>\n",
              "        const buttonEl =\n",
              "          document.querySelector('#df-79d592df-74a1-4027-88e3-6a9ded0f13cc button.colab-df-convert');\n",
              "        buttonEl.style.display =\n",
              "          google.colab.kernel.accessAllowed ? 'block' : 'none';\n",
              "\n",
              "        async function convertToInteractive(key) {\n",
              "          const element = document.querySelector('#df-79d592df-74a1-4027-88e3-6a9ded0f13cc');\n",
              "          const dataTable =\n",
              "            await google.colab.kernel.invokeFunction('convertToInteractive',\n",
              "                                                     [key], {});\n",
              "          if (!dataTable) return;\n",
              "\n",
              "          const docLinkHtml = 'Like what you see? Visit the ' +\n",
              "            '<a target=\"_blank\" href=https://colab.research.google.com/notebooks/data_table.ipynb>data table notebook</a>'\n",
              "            + ' to learn more about interactive tables.';\n",
              "          element.innerHTML = '';\n",
              "          dataTable['output_type'] = 'display_data';\n",
              "          await google.colab.output.renderOutput(dataTable, element);\n",
              "          const docLink = document.createElement('div');\n",
              "          docLink.innerHTML = docLinkHtml;\n",
              "          element.appendChild(docLink);\n",
              "        }\n",
              "      </script>\n",
              "    </div>\n",
              "  </div>\n",
              "  "
            ]
          },
          "metadata": {},
          "execution_count": 92
        }
      ]
    },
    {
      "cell_type": "markdown",
      "metadata": {
        "id": "uZSwD2iOhNrp"
      },
      "source": [
        "# **6 . Model selection**"
      ]
    },
    {
      "cell_type": "markdown",
      "metadata": {
        "id": "HwLcm_Rny70T"
      },
      "source": [
        "Hyperparameter tuning"
      ]
    },
    {
      "cell_type": "code",
      "execution_count": null,
      "metadata": {
        "id": "pxyWVzRly7Z6"
      },
      "outputs": [],
      "source": [
        "# https://scikit-learn.org/stable/tutorial/statistical_inference/putting_together.html\n",
        "# https://scikit-learn.org/stable/modules/model_evaluation.html\n",
        "# https://towardsdatascience.com/fine-tuning-a-classifier-in-scikit-learn-66e048c21e65\n",
        "\"\"\"\n",
        "estimators = [\n",
        "    ('rf', RandomForestClassifier()),\n",
        "    ('dt', DecisionTreeClassifier()),\n",
        "    ('svc', SVC())\n",
        "]\n",
        "\n",
        "clf = StackingClassifier(estimators=estimators, final_estimator=LogisticRegression())\n",
        "\"\"\"\n",
        "\n",
        "oversample = SMOTE(k_neighbors=5)\n",
        "#X_train, y_train = oversample.fit_resample(X_train, y_train)\n",
        "#X_train, y_train = oversample.fit_resample(X_train, y_train)\n",
        "\n",
        "#RandomForest Classifier\n",
        "clf = RandomForestClassifier(min_samples_leaf=10 ,n_estimators= 60, max_features='log2' , max_depth=100, random_state=0, n_jobs=-1)\n",
        "#RF = RandomForestClassifier()\n",
        "#parameters = {'min_samples_leaf':[1,10,20], 'n_estimators':[10,50,100,150], 'max_features':('log2', 'sqrt'), 'max_depth':[100, 'None']}\n",
        "#clf = GridSearchCV(RF, parameters, n_jobs=-1)\n",
        "\n",
        "#ExtraBoostingClassifier\n",
        "#https://xgboost.readthedocs.io/en/latest/get_started.html\n",
        "hgbc = HistGradientBoostingClassifier(l2_regularization = 0 ,categorical_features=[1,1,1,0,1,0,0,0,0,0,0,0,0,0,0,1])\n"
      ]
    },
    {
      "cell_type": "code",
      "source": [
        "hgbc = HistGradientBoostingClassifier()\n",
        "X_train_2=X_train.iloc[:136000]\n",
        "X_train_3=X_train.iloc[136000:170000]\n",
        "y_train_2 = y_train.iloc[:136000]\n",
        "y_test= y_train.iloc[136000:170000]\n",
        "hgbc.fit(X_train_2,y_train_2)\n",
        "y_pred = hgbc.predict(X_train_3)\n",
        "f1 = f1_score(y_test, y_pred, average='micro')"
      ],
      "metadata": {
        "id": "7eHzpj9sKXhK"
      },
      "execution_count": null,
      "outputs": []
    },
    {
      "cell_type": "code",
      "source": [
        "clf = RandomForestClassifier(min_samples_leaf=10 ,n_estimators= 60, max_features='log2' , max_depth=100, random_state=0, n_jobs=-1)\n",
        "X_train_2=X_train.iloc[:136000]\n",
        "X_train_3=X_train.iloc[136000:170000]\n",
        "y_train_2 = y_train.iloc[:136000]\n",
        "y_test= y_train.iloc[136000:170000]\n",
        "clf.fit(X_train_2,y_train_2)\n",
        "y_pred = clf.predict(X_train_3)\n",
        "f1 = f1_score(y_test, y_pred, average='micro')"
      ],
      "metadata": {
        "id": "PMo1TKvIJNfZ"
      },
      "execution_count": null,
      "outputs": []
    },
    {
      "cell_type": "code",
      "source": [
        "f1"
      ],
      "metadata": {
        "colab": {
          "base_uri": "https://localhost:8080/"
        },
        "id": "HKOLL2TOKckJ",
        "outputId": "f110fa0e-2588-4e46-845e-aaf79eca9d52"
      },
      "execution_count": null,
      "outputs": [
        {
          "output_type": "execute_result",
          "data": {
            "text/plain": [
              "0.6636764705882353"
            ]
          },
          "metadata": {},
          "execution_count": 88
        }
      ]
    },
    {
      "cell_type": "markdown",
      "metadata": {
        "id": "m16PDoZ1hUBQ"
      },
      "source": [
        "# **7 . Training**"
      ]
    },
    {
      "cell_type": "markdown",
      "metadata": {
        "id": "_aOJMVV4sie1"
      },
      "source": [
        "Train the model"
      ]
    },
    {
      "cell_type": "code",
      "source": [
        "y_train_2 = y_train.iloc[:136000]\n",
        "y_test= y_train.iloc[136000:170000]"
      ],
      "metadata": {
        "id": "OcR7OoBWSTpZ"
      },
      "execution_count": null,
      "outputs": []
    },
    {
      "cell_type": "code",
      "execution_count": null,
      "metadata": {
        "id": "uHGXwrsuskRc",
        "colab": {
          "base_uri": "https://localhost:8080/",
          "height": 320
        },
        "outputId": "4884a2bf-3684-48c6-dd9b-d5323cd97bbf"
      },
      "outputs": [
        {
          "output_type": "error",
          "ename": "ValueError",
          "evalue": "ignored",
          "traceback": [
            "\u001b[0;31m---------------------------------------------------------------------------\u001b[0m",
            "\u001b[0;31mValueError\u001b[0m                                Traceback (most recent call last)",
            "\u001b[0;32m<ipython-input-41-a435b42da6fc>\u001b[0m in \u001b[0;36m<module>\u001b[0;34m\u001b[0m\n\u001b[0;32m----> 1\u001b[0;31m \u001b[0mhgbc\u001b[0m\u001b[0;34m.\u001b[0m\u001b[0mfit\u001b[0m\u001b[0;34m(\u001b[0m\u001b[0mX_train\u001b[0m\u001b[0;34m,\u001b[0m\u001b[0my_train_2\u001b[0m\u001b[0;34m)\u001b[0m\u001b[0;34m\u001b[0m\u001b[0;34m\u001b[0m\u001b[0m\n\u001b[0m",
            "\u001b[0;32m/usr/local/lib/python3.8/dist-packages/sklearn/ensemble/_hist_gradient_boosting/gradient_boosting.py\u001b[0m in \u001b[0;36mfit\u001b[0;34m(self, X, y, sample_weight)\u001b[0m\n\u001b[1;32m    231\u001b[0m         \u001b[0;31m# time spent predicting X for gradient and hessians update\u001b[0m\u001b[0;34m\u001b[0m\u001b[0;34m\u001b[0m\u001b[0;34m\u001b[0m\u001b[0m\n\u001b[1;32m    232\u001b[0m         \u001b[0macc_prediction_time\u001b[0m \u001b[0;34m=\u001b[0m \u001b[0;36m0.0\u001b[0m\u001b[0;34m\u001b[0m\u001b[0;34m\u001b[0m\u001b[0m\n\u001b[0;32m--> 233\u001b[0;31m         \u001b[0mX\u001b[0m\u001b[0;34m,\u001b[0m \u001b[0my\u001b[0m \u001b[0;34m=\u001b[0m \u001b[0mself\u001b[0m\u001b[0;34m.\u001b[0m\u001b[0m_validate_data\u001b[0m\u001b[0;34m(\u001b[0m\u001b[0mX\u001b[0m\u001b[0;34m,\u001b[0m \u001b[0my\u001b[0m\u001b[0;34m,\u001b[0m \u001b[0mdtype\u001b[0m\u001b[0;34m=\u001b[0m\u001b[0;34m[\u001b[0m\u001b[0mX_DTYPE\u001b[0m\u001b[0;34m]\u001b[0m\u001b[0;34m,\u001b[0m \u001b[0mforce_all_finite\u001b[0m\u001b[0;34m=\u001b[0m\u001b[0;32mFalse\u001b[0m\u001b[0;34m)\u001b[0m\u001b[0;34m\u001b[0m\u001b[0;34m\u001b[0m\u001b[0m\n\u001b[0m\u001b[1;32m    234\u001b[0m         \u001b[0my\u001b[0m \u001b[0;34m=\u001b[0m \u001b[0mself\u001b[0m\u001b[0;34m.\u001b[0m\u001b[0m_encode_y\u001b[0m\u001b[0;34m(\u001b[0m\u001b[0my\u001b[0m\u001b[0;34m)\u001b[0m\u001b[0;34m\u001b[0m\u001b[0;34m\u001b[0m\u001b[0m\n\u001b[1;32m    235\u001b[0m         \u001b[0mcheck_consistent_length\u001b[0m\u001b[0;34m(\u001b[0m\u001b[0mX\u001b[0m\u001b[0;34m,\u001b[0m \u001b[0my\u001b[0m\u001b[0;34m)\u001b[0m\u001b[0;34m\u001b[0m\u001b[0;34m\u001b[0m\u001b[0m\n",
            "\u001b[0;32m/usr/local/lib/python3.8/dist-packages/sklearn/base.py\u001b[0m in \u001b[0;36m_validate_data\u001b[0;34m(self, X, y, reset, validate_separately, **check_params)\u001b[0m\n\u001b[1;32m    579\u001b[0m                 \u001b[0my\u001b[0m \u001b[0;34m=\u001b[0m \u001b[0mcheck_array\u001b[0m\u001b[0;34m(\u001b[0m\u001b[0my\u001b[0m\u001b[0;34m,\u001b[0m \u001b[0;34m**\u001b[0m\u001b[0mcheck_y_params\u001b[0m\u001b[0;34m)\u001b[0m\u001b[0;34m\u001b[0m\u001b[0;34m\u001b[0m\u001b[0m\n\u001b[1;32m    580\u001b[0m             \u001b[0;32melse\u001b[0m\u001b[0;34m:\u001b[0m\u001b[0;34m\u001b[0m\u001b[0;34m\u001b[0m\u001b[0m\n\u001b[0;32m--> 581\u001b[0;31m                 \u001b[0mX\u001b[0m\u001b[0;34m,\u001b[0m \u001b[0my\u001b[0m \u001b[0;34m=\u001b[0m \u001b[0mcheck_X_y\u001b[0m\u001b[0;34m(\u001b[0m\u001b[0mX\u001b[0m\u001b[0;34m,\u001b[0m \u001b[0my\u001b[0m\u001b[0;34m,\u001b[0m \u001b[0;34m**\u001b[0m\u001b[0mcheck_params\u001b[0m\u001b[0;34m)\u001b[0m\u001b[0;34m\u001b[0m\u001b[0;34m\u001b[0m\u001b[0m\n\u001b[0m\u001b[1;32m    582\u001b[0m             \u001b[0mout\u001b[0m \u001b[0;34m=\u001b[0m \u001b[0mX\u001b[0m\u001b[0;34m,\u001b[0m \u001b[0my\u001b[0m\u001b[0;34m\u001b[0m\u001b[0;34m\u001b[0m\u001b[0m\n\u001b[1;32m    583\u001b[0m \u001b[0;34m\u001b[0m\u001b[0m\n",
            "\u001b[0;32m/usr/local/lib/python3.8/dist-packages/sklearn/utils/validation.py\u001b[0m in \u001b[0;36mcheck_X_y\u001b[0;34m(X, y, accept_sparse, accept_large_sparse, dtype, order, copy, force_all_finite, ensure_2d, allow_nd, multi_output, ensure_min_samples, ensure_min_features, y_numeric, estimator)\u001b[0m\n\u001b[1;32m    977\u001b[0m     )\n\u001b[1;32m    978\u001b[0m \u001b[0;34m\u001b[0m\u001b[0m\n\u001b[0;32m--> 979\u001b[0;31m     \u001b[0my\u001b[0m \u001b[0;34m=\u001b[0m \u001b[0m_check_y\u001b[0m\u001b[0;34m(\u001b[0m\u001b[0my\u001b[0m\u001b[0;34m,\u001b[0m \u001b[0mmulti_output\u001b[0m\u001b[0;34m=\u001b[0m\u001b[0mmulti_output\u001b[0m\u001b[0;34m,\u001b[0m \u001b[0my_numeric\u001b[0m\u001b[0;34m=\u001b[0m\u001b[0my_numeric\u001b[0m\u001b[0;34m)\u001b[0m\u001b[0;34m\u001b[0m\u001b[0;34m\u001b[0m\u001b[0m\n\u001b[0m\u001b[1;32m    980\u001b[0m \u001b[0;34m\u001b[0m\u001b[0m\n\u001b[1;32m    981\u001b[0m     \u001b[0mcheck_consistent_length\u001b[0m\u001b[0;34m(\u001b[0m\u001b[0mX\u001b[0m\u001b[0;34m,\u001b[0m \u001b[0my\u001b[0m\u001b[0;34m)\u001b[0m\u001b[0;34m\u001b[0m\u001b[0;34m\u001b[0m\u001b[0m\n",
            "\u001b[0;32m/usr/local/lib/python3.8/dist-packages/sklearn/utils/validation.py\u001b[0m in \u001b[0;36m_check_y\u001b[0;34m(y, multi_output, y_numeric)\u001b[0m\n\u001b[1;32m    992\u001b[0m     \u001b[0;32melse\u001b[0m\u001b[0;34m:\u001b[0m\u001b[0;34m\u001b[0m\u001b[0;34m\u001b[0m\u001b[0m\n\u001b[1;32m    993\u001b[0m         \u001b[0my\u001b[0m \u001b[0;34m=\u001b[0m \u001b[0mcolumn_or_1d\u001b[0m\u001b[0;34m(\u001b[0m\u001b[0my\u001b[0m\u001b[0;34m,\u001b[0m \u001b[0mwarn\u001b[0m\u001b[0;34m=\u001b[0m\u001b[0;32mTrue\u001b[0m\u001b[0;34m)\u001b[0m\u001b[0;34m\u001b[0m\u001b[0;34m\u001b[0m\u001b[0m\n\u001b[0;32m--> 994\u001b[0;31m         \u001b[0m_assert_all_finite\u001b[0m\u001b[0;34m(\u001b[0m\u001b[0my\u001b[0m\u001b[0;34m)\u001b[0m\u001b[0;34m\u001b[0m\u001b[0;34m\u001b[0m\u001b[0m\n\u001b[0m\u001b[1;32m    995\u001b[0m         \u001b[0m_ensure_no_complex_data\u001b[0m\u001b[0;34m(\u001b[0m\u001b[0my\u001b[0m\u001b[0;34m)\u001b[0m\u001b[0;34m\u001b[0m\u001b[0;34m\u001b[0m\u001b[0m\n\u001b[1;32m    996\u001b[0m     \u001b[0;32mif\u001b[0m \u001b[0my_numeric\u001b[0m \u001b[0;32mand\u001b[0m \u001b[0my\u001b[0m\u001b[0;34m.\u001b[0m\u001b[0mdtype\u001b[0m\u001b[0;34m.\u001b[0m\u001b[0mkind\u001b[0m \u001b[0;34m==\u001b[0m \u001b[0;34m\"O\"\u001b[0m\u001b[0;34m:\u001b[0m\u001b[0;34m\u001b[0m\u001b[0;34m\u001b[0m\u001b[0m\n",
            "\u001b[0;32m/usr/local/lib/python3.8/dist-packages/sklearn/utils/validation.py\u001b[0m in \u001b[0;36m_assert_all_finite\u001b[0;34m(X, allow_nan, msg_dtype)\u001b[0m\n\u001b[1;32m    120\u001b[0m     \u001b[0;32melif\u001b[0m \u001b[0mX\u001b[0m\u001b[0;34m.\u001b[0m\u001b[0mdtype\u001b[0m \u001b[0;34m==\u001b[0m \u001b[0mnp\u001b[0m\u001b[0;34m.\u001b[0m\u001b[0mdtype\u001b[0m\u001b[0;34m(\u001b[0m\u001b[0;34m\"object\"\u001b[0m\u001b[0;34m)\u001b[0m \u001b[0;32mand\u001b[0m \u001b[0;32mnot\u001b[0m \u001b[0mallow_nan\u001b[0m\u001b[0;34m:\u001b[0m\u001b[0;34m\u001b[0m\u001b[0;34m\u001b[0m\u001b[0m\n\u001b[1;32m    121\u001b[0m         \u001b[0;32mif\u001b[0m \u001b[0m_object_dtype_isnan\u001b[0m\u001b[0;34m(\u001b[0m\u001b[0mX\u001b[0m\u001b[0;34m)\u001b[0m\u001b[0;34m.\u001b[0m\u001b[0many\u001b[0m\u001b[0;34m(\u001b[0m\u001b[0;34m)\u001b[0m\u001b[0;34m:\u001b[0m\u001b[0;34m\u001b[0m\u001b[0;34m\u001b[0m\u001b[0m\n\u001b[0;32m--> 122\u001b[0;31m             \u001b[0;32mraise\u001b[0m \u001b[0mValueError\u001b[0m\u001b[0;34m(\u001b[0m\u001b[0;34m\"Input contains NaN\"\u001b[0m\u001b[0;34m)\u001b[0m\u001b[0;34m\u001b[0m\u001b[0;34m\u001b[0m\u001b[0m\n\u001b[0m\u001b[1;32m    123\u001b[0m \u001b[0;34m\u001b[0m\u001b[0m\n\u001b[1;32m    124\u001b[0m \u001b[0;34m\u001b[0m\u001b[0m\n",
            "\u001b[0;31mValueError\u001b[0m: Input contains NaN"
          ]
        }
      ],
      "source": [
        "hgbc.fit(X_train,y_train_2)"
      ]
    },
    {
      "cell_type": "markdown",
      "source": [
        "Report important features"
      ],
      "metadata": {
        "id": "zS5ffvEP8ZWq"
      }
    },
    {
      "cell_type": "code",
      "source": [
        "\"\"\"col = list(X_train.columns)\"\"\""
      ],
      "metadata": {
        "id": "_4TonVW39DGt"
      },
      "execution_count": null,
      "outputs": []
    },
    {
      "cell_type": "code",
      "source": [
        "\"\"\"from matplotlib import pyplot\n",
        "\n",
        "importance = clf.feature_importances_\n",
        "# summarize feature importance\n",
        "for i,v in enumerate(importance):\n",
        "\tprint('Feature: %0d %s, Score: %.5f' % (i,col[i],v))\n",
        " # plot feature importance\n",
        "pyplot.figure(figsize=[25.0, 5.0])\n",
        "pyplot.bar([x for x in range(len(importance))], importance)\n",
        "pyplot.show()\"\"\""
      ],
      "metadata": {
        "id": "toj9i7CB8ZGS"
      },
      "execution_count": null,
      "outputs": []
    },
    {
      "cell_type": "markdown",
      "metadata": {
        "id": "73wd7RRphZHh"
      },
      "source": [
        "# **8 . Compute predictions**"
      ]
    },
    {
      "cell_type": "markdown",
      "metadata": {
        "id": "yRdPN1UDskoF"
      },
      "source": [
        "Compute predictions"
      ]
    },
    {
      "cell_type": "code",
      "execution_count": null,
      "metadata": {
        "id": "m4EbOYZN5g5F",
        "colab": {
          "base_uri": "https://localhost:8080/",
          "height": 260
        },
        "outputId": "39c0927e-7006-48f9-af3c-65aeb103884f"
      },
      "outputs": [
        {
          "output_type": "error",
          "ename": "NameError",
          "evalue": "ignored",
          "traceback": [
            "\u001b[0;31m---------------------------------------------------------------------------\u001b[0m",
            "\u001b[0;31mNameError\u001b[0m                                 Traceback (most recent call last)",
            "\u001b[0;32m<ipython-input-36-96345a9a17d0>\u001b[0m in \u001b[0;36m<module>\u001b[0;34m\u001b[0m\n\u001b[1;32m      2\u001b[0m \u001b[0;31m# For the moment it's ok cause test set is a part of our training set so we perform labelencoder before splitting the set, but it could be an issue when working with a different set for the test\u001b[0m\u001b[0;34m\u001b[0m\u001b[0;34m\u001b[0m\u001b[0;34m\u001b[0m\u001b[0m\n\u001b[1;32m      3\u001b[0m \u001b[0;34m\u001b[0m\u001b[0m\n\u001b[0;32m----> 4\u001b[0;31m \u001b[0mX_test\u001b[0m\u001b[0;34m[\u001b[0m\u001b[0mnum_features\u001b[0m\u001b[0;34m]\u001b[0m \u001b[0;34m=\u001b[0m \u001b[0msc\u001b[0m\u001b[0;34m.\u001b[0m\u001b[0mtransform\u001b[0m\u001b[0;34m(\u001b[0m\u001b[0mX_test\u001b[0m\u001b[0;34m[\u001b[0m\u001b[0mnum_features\u001b[0m\u001b[0;34m]\u001b[0m\u001b[0;34m)\u001b[0m\u001b[0;34m\u001b[0m\u001b[0;34m\u001b[0m\u001b[0m\n\u001b[0m\u001b[1;32m      5\u001b[0m \u001b[0;31m#X_test = pca.transform(X_test)\u001b[0m\u001b[0;34m\u001b[0m\u001b[0;34m\u001b[0m\u001b[0;34m\u001b[0m\u001b[0m\n\u001b[1;32m      6\u001b[0m \u001b[0;31m#X_test = pd.DataFrame(X_test)\u001b[0m\u001b[0;34m\u001b[0m\u001b[0;34m\u001b[0m\u001b[0;34m\u001b[0m\u001b[0m\n",
            "\u001b[0;31mNameError\u001b[0m: name 'sc' is not defined"
          ]
        }
      ],
      "source": [
        "#Be careful, labelencoder can break if there is some categorical data in the test set that was unseen in the train set :https://stackoverflow.com/questions/21057621/sklearn-labelencoder-with-never-seen-before-values\n",
        "# For the moment it's ok cause test set is a part of our training set so we perform labelencoder before splitting the set, but it could be an issue when working with a different set for the test\n",
        "\n",
        "X_test[num_features] = sc.transform(X_test[num_features])\n",
        "#X_test = pca.transform(X_test)\n",
        "#X_test = pd.DataFrame(X_test)\n",
        "y_pred = hgbc.predict(X_test)"
      ]
    },
    {
      "cell_type": "markdown",
      "metadata": {
        "id": "U5DMw0n1heii"
      },
      "source": [
        "# **9 . Export results**"
      ]
    },
    {
      "cell_type": "code",
      "execution_count": null,
      "metadata": {
        "id": "pm-bKEUEBGFe"
      },
      "outputs": [],
      "source": [
        "submission = pd.DataFrame(data_test['Id'].copy())\n",
        "submission['Predicted'] = y_pred\n",
        "print(submission)"
      ]
    },
    {
      "cell_type": "code",
      "execution_count": null,
      "metadata": {
        "id": "U6c1K6zWCPgL"
      },
      "outputs": [],
      "source": [
        "filepath = Path('./out_test.csv')\n",
        "submission.to_csv(filepath, index=False)\n",
        "files.download(filepath)"
      ]
    },
    {
      "cell_type": "markdown",
      "source": [
        "Determine some metrics to visualize validation performance"
      ],
      "metadata": {
        "id": "0CFssFoX6C_H"
      }
    },
    {
      "cell_type": "code",
      "source": [
        "f1 = f1_score(y_test, y_pred, average='micro')\n",
        "print(confusion_matrix(y_test, y_pred))\n",
        "print(f1)"
      ],
      "metadata": {
        "id": "ey9Br6vmDLGb",
        "colab": {
          "base_uri": "https://localhost:8080/"
        },
        "outputId": "c5e4d2ea-3e53-4b84-cd83-802c6b2f605b"
      },
      "execution_count": null,
      "outputs": [
        {
          "output_type": "stream",
          "name": "stdout",
          "text": [
            "[[  967    41  2357     5]\n",
            " [   27  9980  2942   619]\n",
            " [  496  2990 10167    14]\n",
            " [    3  1935    29  1428]]\n",
            "0.663\n"
          ]
        }
      ]
    },
    {
      "cell_type": "markdown",
      "source": [
        "Best Kaggle score 0.6596764705882353 obtained with clip at 3sigma before fillna for concert attendance \\\n",
        "Full preprocessing + RobustScaler + RF = 0.6617647058823529\\\n",
        "Full preprocessing + StandardScaler + HGBC = 0.663"
      ],
      "metadata": {
        "id": "eJ9wruw3gNY7"
      }
    },
    {
      "cell_type": "code",
      "source": [
        "f1 = f1_score(y_test, y_pred, average='micro')\n",
        "recall = recall_score(y_test, y_pred, average='micro')\n",
        "accuracy = accuracy_score(y_test, y_pred)\n",
        "report = classification_report(y_test, y_pred)\n",
        "\n",
        "print(\"f1 score is \", f1)\n",
        "print(\"recall score is \", recall)\n",
        "print(\"accuracy score is \", accuracy)\n",
        "\n",
        "print(report)"
      ],
      "metadata": {
        "id": "NuJjmVz46DWe"
      },
      "execution_count": null,
      "outputs": []
    },
    {
      "cell_type": "markdown",
      "source": [
        "# **10. Autre**\n"
      ],
      "metadata": {
        "id": "G6WdEeufA_Ao"
      }
    },
    {
      "cell_type": "code",
      "source": [
        "def delcol(liste):\n",
        "    data_prepro= pd.read_csv(r'prepro.csv', na_values=['Insert Band Name', 'Insert Band Genre', 'Insert Band Country of Origin'])\n",
        "    data_train = pd.read_csv(r'train.csv', na_values=['Insert Band Name', 'Insert Band Genre', 'Insert Band Country of Origin'])\n",
        "    df_ret = data_prepro.iloc[:170000]\n",
        "    df_ret = df_ret.drop(columns=['Unnamed: 0','Seated'])\n",
        "    df_2 = data_train['Concert Enjoyment']\n",
        "    df_ret = df_ret.drop(columns=liste)\n",
        "    return(df_ret,df_2)\n",
        "\n",
        "def compute_f1(x,y):\n",
        "    clf = RandomForestClassifier(min_samples_leaf=10 ,n_estimators= 60, max_features='log2' , max_depth=100, random_state=0, n_jobs=-1)\n",
        "    X_train_2, X_test_2, y_train_2, y_test_2 = train_test_split(x, y, test_size=0.2, random_state=42)\n",
        "    clf.fit(X_train_2,y_train_2)\n",
        "    y_pred=clf.predict(X_test_2)\n",
        "    f1=f1_score(y_test_2, y_pred, average='micro')\n",
        "    return(f1)"
      ],
      "metadata": {
        "id": "be3_QYSOA-ui"
      },
      "execution_count": null,
      "outputs": []
    },
    {
      "cell_type": "code",
      "source": [
        "ls = []\n",
        "cols = [ 'Band Name', 'Band Genre', 'Band Country of Origin',\n",
        "       'Band Debut', 'Concert ID', 'Concert Attendance', 'Inside Venue',\n",
        "       'Rain', 'Personnality Trait 1', 'Personnality Trait 2',\n",
        "       'Personnality Trait 3', 'Personnality Trait 4', 'Concert Goer Age',\n",
        "       'Concert Goer ID', 'Height (cm)', 'Concert Goer Country of Origin']\n",
        "for k in range(len(cols)):\n",
        "    for l in range (k+1, len(cols)-1):\n",
        "\n",
        "\n",
        "                ls+= [[cols[k],cols[l]]]"
      ],
      "metadata": {
        "id": "Pmv1t9VdBGE6"
      },
      "execution_count": null,
      "outputs": []
    },
    {
      "cell_type": "code",
      "source": [
        "\"\"\"ls = []\n",
        "cols = [ 'Band Name', 'Band Genre', 'Band Country of Origin',\n",
        "       'Band Debut', 'Concert ID', 'Concert Attendance', 'Inside Venue',\n",
        "       'Rain', 'Personnality Trait 1', 'Personnality Trait 2',\n",
        "       'Personnality Trait 3', 'Personnality Trait 4', 'Concert Goer Age',\n",
        "       'Concert Goer ID', 'Height (cm)', 'Concert Goer Country of Origin']\n",
        "for k in range(len(cols)):\n",
        "\n",
        "\n",
        "\n",
        "                ls+= [cols[k]]\"\"\""
      ],
      "metadata": {
        "id": "d5gGej8sDz1i"
      },
      "execution_count": null,
      "outputs": []
    },
    {
      "cell_type": "code",
      "source": [
        "score=[]\n",
        "for k in range(len(ls)):\n",
        "    print(ls[k])\n",
        "    bip = delcol(ls[k])\n",
        "    val = compute_f1(bip[0],bip[1])\n",
        "    print(val)\n",
        "    score.append(val)"
      ],
      "metadata": {
        "id": "5VHsDhwCBR7v"
      },
      "execution_count": null,
      "outputs": []
    },
    {
      "cell_type": "markdown",
      "source": [
        "pour une seule colonne retirée, max = 0.6525294117647059, colonne 'Concert Goer ID'"
      ],
      "metadata": {
        "id": "97CBsykiE_I1"
      }
    },
    {
      "cell_type": "markdown",
      "source": [
        "# **11. Suite**"
      ],
      "metadata": {
        "id": "_AjDFiteUHZw"
      }
    },
    {
      "cell_type": "code",
      "source": [
        "# IMPORTS\n",
        "import tensorflow as tf\n",
        "from tensorflow import keras\n",
        "import pandas as pd\n",
        "import numpy as np\n",
        "# CONSTANTS\n",
        "CLASS = 'Concert Enjoyment'\n",
        "FILE = 'post_pro'\n",
        "\n",
        "df = pd.read_csv(FILE)\n",
        "df=df.drop(columns=['Unnamed: 0','index'])\n",
        "\n",
        "# SUFFLE THE DATA\n",
        "df = df.sample(frac=1, random_state=1).reset_index(drop=True)   # shuffle dataset\n",
        "df.iloc[25:29]"
      ],
      "metadata": {
        "id": "MxbH3fYrUG2t",
        "colab": {
          "base_uri": "https://localhost:8080/",
          "height": 373
        },
        "outputId": "e580d94e-0450-40d7-db9f-25a53f2726c4"
      },
      "execution_count": null,
      "outputs": [
        {
          "output_type": "execute_result",
          "data": {
            "text/plain": [
              "    Band Name  Band Genre  Band Country of Origin  Band Debut  Concert ID  \\\n",
              "25       49.0         2.0                     2.0      1958.0       467.0   \n",
              "26       20.0         5.0                     1.0      1992.0       891.0   \n",
              "27       14.0         5.0                     2.0      1992.0       808.0   \n",
              "28        NaN         3.0                     2.0      2005.0       639.0   \n",
              "\n",
              "    Concert Attendance  Inside Venue   Rain Seated  Personnality Trait 1  \\\n",
              "25            162754.0          True  False  False              0.455615   \n",
              "26             59874.0         False  False  False              0.475288   \n",
              "27               403.0          True  False   True              2.107145   \n",
              "28               403.0         False  False  False              1.635914   \n",
              "\n",
              "    Personnality Trait 2  Personnality Trait 3  Personnality Trait 4  \\\n",
              "25             -0.661357             -0.900125              0.835057   \n",
              "26             -0.412220              0.060375             -0.120945   \n",
              "27             -0.477004              0.457862              0.338422   \n",
              "28              0.335297              0.521544              0.947984   \n",
              "\n",
              "    Concert Goer Age  Concert Goer ID  Height (cm)  Concert Enjoyment  \\\n",
              "25              64.0            853.0        161.0      Did Not Enjoy   \n",
              "26              31.0            632.0        180.0            Enjoyed   \n",
              "27              60.0            429.0        143.0      Did Not Enjoy   \n",
              "28              31.0           1311.0        158.0  Best Concert Ever   \n",
              "\n",
              "    Concert Goer Country of Origin  \n",
              "25                           144.0  \n",
              "26                            24.0  \n",
              "27                           144.0  \n",
              "28                            24.0  "
            ],
            "text/html": [
              "\n",
              "  <div id=\"df-be8af590-f378-4988-bfa5-9391be462dd1\">\n",
              "    <div class=\"colab-df-container\">\n",
              "      <div>\n",
              "<style scoped>\n",
              "    .dataframe tbody tr th:only-of-type {\n",
              "        vertical-align: middle;\n",
              "    }\n",
              "\n",
              "    .dataframe tbody tr th {\n",
              "        vertical-align: top;\n",
              "    }\n",
              "\n",
              "    .dataframe thead th {\n",
              "        text-align: right;\n",
              "    }\n",
              "</style>\n",
              "<table border=\"1\" class=\"dataframe\">\n",
              "  <thead>\n",
              "    <tr style=\"text-align: right;\">\n",
              "      <th></th>\n",
              "      <th>Band Name</th>\n",
              "      <th>Band Genre</th>\n",
              "      <th>Band Country of Origin</th>\n",
              "      <th>Band Debut</th>\n",
              "      <th>Concert ID</th>\n",
              "      <th>Concert Attendance</th>\n",
              "      <th>Inside Venue</th>\n",
              "      <th>Rain</th>\n",
              "      <th>Seated</th>\n",
              "      <th>Personnality Trait 1</th>\n",
              "      <th>Personnality Trait 2</th>\n",
              "      <th>Personnality Trait 3</th>\n",
              "      <th>Personnality Trait 4</th>\n",
              "      <th>Concert Goer Age</th>\n",
              "      <th>Concert Goer ID</th>\n",
              "      <th>Height (cm)</th>\n",
              "      <th>Concert Enjoyment</th>\n",
              "      <th>Concert Goer Country of Origin</th>\n",
              "    </tr>\n",
              "  </thead>\n",
              "  <tbody>\n",
              "    <tr>\n",
              "      <th>25</th>\n",
              "      <td>49.0</td>\n",
              "      <td>2.0</td>\n",
              "      <td>2.0</td>\n",
              "      <td>1958.0</td>\n",
              "      <td>467.0</td>\n",
              "      <td>162754.0</td>\n",
              "      <td>True</td>\n",
              "      <td>False</td>\n",
              "      <td>False</td>\n",
              "      <td>0.455615</td>\n",
              "      <td>-0.661357</td>\n",
              "      <td>-0.900125</td>\n",
              "      <td>0.835057</td>\n",
              "      <td>64.0</td>\n",
              "      <td>853.0</td>\n",
              "      <td>161.0</td>\n",
              "      <td>Did Not Enjoy</td>\n",
              "      <td>144.0</td>\n",
              "    </tr>\n",
              "    <tr>\n",
              "      <th>26</th>\n",
              "      <td>20.0</td>\n",
              "      <td>5.0</td>\n",
              "      <td>1.0</td>\n",
              "      <td>1992.0</td>\n",
              "      <td>891.0</td>\n",
              "      <td>59874.0</td>\n",
              "      <td>False</td>\n",
              "      <td>False</td>\n",
              "      <td>False</td>\n",
              "      <td>0.475288</td>\n",
              "      <td>-0.412220</td>\n",
              "      <td>0.060375</td>\n",
              "      <td>-0.120945</td>\n",
              "      <td>31.0</td>\n",
              "      <td>632.0</td>\n",
              "      <td>180.0</td>\n",
              "      <td>Enjoyed</td>\n",
              "      <td>24.0</td>\n",
              "    </tr>\n",
              "    <tr>\n",
              "      <th>27</th>\n",
              "      <td>14.0</td>\n",
              "      <td>5.0</td>\n",
              "      <td>2.0</td>\n",
              "      <td>1992.0</td>\n",
              "      <td>808.0</td>\n",
              "      <td>403.0</td>\n",
              "      <td>True</td>\n",
              "      <td>False</td>\n",
              "      <td>True</td>\n",
              "      <td>2.107145</td>\n",
              "      <td>-0.477004</td>\n",
              "      <td>0.457862</td>\n",
              "      <td>0.338422</td>\n",
              "      <td>60.0</td>\n",
              "      <td>429.0</td>\n",
              "      <td>143.0</td>\n",
              "      <td>Did Not Enjoy</td>\n",
              "      <td>144.0</td>\n",
              "    </tr>\n",
              "    <tr>\n",
              "      <th>28</th>\n",
              "      <td>NaN</td>\n",
              "      <td>3.0</td>\n",
              "      <td>2.0</td>\n",
              "      <td>2005.0</td>\n",
              "      <td>639.0</td>\n",
              "      <td>403.0</td>\n",
              "      <td>False</td>\n",
              "      <td>False</td>\n",
              "      <td>False</td>\n",
              "      <td>1.635914</td>\n",
              "      <td>0.335297</td>\n",
              "      <td>0.521544</td>\n",
              "      <td>0.947984</td>\n",
              "      <td>31.0</td>\n",
              "      <td>1311.0</td>\n",
              "      <td>158.0</td>\n",
              "      <td>Best Concert Ever</td>\n",
              "      <td>24.0</td>\n",
              "    </tr>\n",
              "  </tbody>\n",
              "</table>\n",
              "</div>\n",
              "      <button class=\"colab-df-convert\" onclick=\"convertToInteractive('df-be8af590-f378-4988-bfa5-9391be462dd1')\"\n",
              "              title=\"Convert this dataframe to an interactive table.\"\n",
              "              style=\"display:none;\">\n",
              "        \n",
              "  <svg xmlns=\"http://www.w3.org/2000/svg\" height=\"24px\"viewBox=\"0 0 24 24\"\n",
              "       width=\"24px\">\n",
              "    <path d=\"M0 0h24v24H0V0z\" fill=\"none\"/>\n",
              "    <path d=\"M18.56 5.44l.94 2.06.94-2.06 2.06-.94-2.06-.94-.94-2.06-.94 2.06-2.06.94zm-11 1L8.5 8.5l.94-2.06 2.06-.94-2.06-.94L8.5 2.5l-.94 2.06-2.06.94zm10 10l.94 2.06.94-2.06 2.06-.94-2.06-.94-.94-2.06-.94 2.06-2.06.94z\"/><path d=\"M17.41 7.96l-1.37-1.37c-.4-.4-.92-.59-1.43-.59-.52 0-1.04.2-1.43.59L10.3 9.45l-7.72 7.72c-.78.78-.78 2.05 0 2.83L4 21.41c.39.39.9.59 1.41.59.51 0 1.02-.2 1.41-.59l7.78-7.78 2.81-2.81c.8-.78.8-2.07 0-2.86zM5.41 20L4 18.59l7.72-7.72 1.47 1.35L5.41 20z\"/>\n",
              "  </svg>\n",
              "      </button>\n",
              "      \n",
              "  <style>\n",
              "    .colab-df-container {\n",
              "      display:flex;\n",
              "      flex-wrap:wrap;\n",
              "      gap: 12px;\n",
              "    }\n",
              "\n",
              "    .colab-df-convert {\n",
              "      background-color: #E8F0FE;\n",
              "      border: none;\n",
              "      border-radius: 50%;\n",
              "      cursor: pointer;\n",
              "      display: none;\n",
              "      fill: #1967D2;\n",
              "      height: 32px;\n",
              "      padding: 0 0 0 0;\n",
              "      width: 32px;\n",
              "    }\n",
              "\n",
              "    .colab-df-convert:hover {\n",
              "      background-color: #E2EBFA;\n",
              "      box-shadow: 0px 1px 2px rgba(60, 64, 67, 0.3), 0px 1px 3px 1px rgba(60, 64, 67, 0.15);\n",
              "      fill: #174EA6;\n",
              "    }\n",
              "\n",
              "    [theme=dark] .colab-df-convert {\n",
              "      background-color: #3B4455;\n",
              "      fill: #D2E3FC;\n",
              "    }\n",
              "\n",
              "    [theme=dark] .colab-df-convert:hover {\n",
              "      background-color: #434B5C;\n",
              "      box-shadow: 0px 1px 3px 1px rgba(0, 0, 0, 0.15);\n",
              "      filter: drop-shadow(0px 1px 2px rgba(0, 0, 0, 0.3));\n",
              "      fill: #FFFFFF;\n",
              "    }\n",
              "  </style>\n",
              "\n",
              "      <script>\n",
              "        const buttonEl =\n",
              "          document.querySelector('#df-be8af590-f378-4988-bfa5-9391be462dd1 button.colab-df-convert');\n",
              "        buttonEl.style.display =\n",
              "          google.colab.kernel.accessAllowed ? 'block' : 'none';\n",
              "\n",
              "        async function convertToInteractive(key) {\n",
              "          const element = document.querySelector('#df-be8af590-f378-4988-bfa5-9391be462dd1');\n",
              "          const dataTable =\n",
              "            await google.colab.kernel.invokeFunction('convertToInteractive',\n",
              "                                                     [key], {});\n",
              "          if (!dataTable) return;\n",
              "\n",
              "          const docLinkHtml = 'Like what you see? Visit the ' +\n",
              "            '<a target=\"_blank\" href=https://colab.research.google.com/notebooks/data_table.ipynb>data table notebook</a>'\n",
              "            + ' to learn more about interactive tables.';\n",
              "          element.innerHTML = '';\n",
              "          dataTable['output_type'] = 'display_data';\n",
              "          await google.colab.output.renderOutput(dataTable, element);\n",
              "          const docLink = document.createElement('div');\n",
              "          docLink.innerHTML = docLinkHtml;\n",
              "          element.appendChild(docLink);\n",
              "        }\n",
              "      </script>\n",
              "    </div>\n",
              "  </div>\n",
              "  "
            ]
          },
          "metadata": {},
          "execution_count": 36
        }
      ]
    },
    {
      "cell_type": "code",
      "source": [
        "df = pd.read_csv(FILE)\n",
        "df[df['Band Name'].isna()]"
      ],
      "metadata": {
        "id": "E-PBD977qFCw",
        "colab": {
          "base_uri": "https://localhost:8080/",
          "height": 772
        },
        "outputId": "9476e9d3-a5e5-4579-c969-f082ad95b861"
      },
      "execution_count": null,
      "outputs": [
        {
          "output_type": "execute_result",
          "data": {
            "text/plain": [
              "        Unnamed: 0   index  Band Name  Band Genre  Band Country of Origin  \\\n",
              "15              15      15        NaN         1.0                     0.0   \n",
              "19              19      19        NaN         2.0                     0.0   \n",
              "29              29      29        NaN         5.0                     1.0   \n",
              "32              32      32        NaN         6.0                     2.0   \n",
              "426            426     426        NaN         3.0                     2.0   \n",
              "...            ...     ...        ...         ...                     ...   \n",
              "169361      169361  169361        NaN         1.0                     2.0   \n",
              "169544      169544  169544        NaN         3.0                     1.0   \n",
              "169860      169860  169860        NaN         2.0                     0.0   \n",
              "169909      169909  169909        NaN         3.0                     2.0   \n",
              "169950      169950  169950        NaN         5.0                     0.0   \n",
              "\n",
              "        Band Debut  Concert ID  Concert Attendance  Inside Venue   Rain  \\\n",
              "15          2005.0       628.0             22026.0          True  False   \n",
              "19          1955.0       922.0            162754.0          True  False   \n",
              "29          1992.0        90.0             59874.0          True   True   \n",
              "32          1974.0       606.0              2980.0          True   True   \n",
              "426         2005.0       639.0               403.0         False  False   \n",
              "...            ...         ...                 ...           ...    ...   \n",
              "169361      2003.0        11.0              1096.0         False  False   \n",
              "169544      1964.0       789.0             22026.0          True  False   \n",
              "169860      1959.0       771.0              1096.0          True   True   \n",
              "169909      2006.0       646.0                54.0          True  False   \n",
              "169950      2011.0       933.0              8103.0          True  False   \n",
              "\n",
              "       Seated  Personnality Trait 1  Personnality Trait 2  \\\n",
              "15      False             -1.280309              0.901388   \n",
              "19       True              1.063231              1.577905   \n",
              "29       True              1.013471              0.616464   \n",
              "32      False             -0.163621             -1.215491   \n",
              "426     False              1.635914              0.335297   \n",
              "...       ...                   ...                   ...   \n",
              "169361   True              0.172853              0.902410   \n",
              "169544   True             -0.132844             -0.341276   \n",
              "169860   True              1.350390              0.865293   \n",
              "169909  False              1.194694             -2.716049   \n",
              "169950  False              0.195768              0.441544   \n",
              "\n",
              "        Personnality Trait 3  Personnality Trait 4  Concert Goer Age  \\\n",
              "15                  0.672355             -0.155070              76.0   \n",
              "19                 -1.903408             -0.726034              61.0   \n",
              "29                 -0.859815             -0.622659              19.0   \n",
              "32                 -0.298354              0.547485              63.0   \n",
              "426                 0.521544              0.947984              31.0   \n",
              "...                      ...                   ...               ...   \n",
              "169361             -0.554996              1.066097              76.0   \n",
              "169544              1.302131             -0.064894              47.0   \n",
              "169860             -0.217621             -0.434503              40.0   \n",
              "169909              0.876320             -1.495391              22.0   \n",
              "169950             -0.644147              1.455054              63.0   \n",
              "\n",
              "        Concert Goer ID  Height (cm)   Concert Enjoyment  \\\n",
              "15               1550.0        144.0  Worst Concert Ever   \n",
              "19                496.0        149.0             Enjoyed   \n",
              "29                262.0        153.0   Best Concert Ever   \n",
              "32               1061.0        143.0       Did Not Enjoy   \n",
              "426              1311.0        158.0   Best Concert Ever   \n",
              "...                 ...          ...                 ...   \n",
              "169361           1071.0        142.0       Did Not Enjoy   \n",
              "169544            897.0        142.0   Best Concert Ever   \n",
              "169860            714.0        165.0       Did Not Enjoy   \n",
              "169909           1052.0        173.0       Did Not Enjoy   \n",
              "169950            777.0        187.0       Did Not Enjoy   \n",
              "\n",
              "        Concert Goer Country of Origin  \n",
              "15                                24.0  \n",
              "19                                24.0  \n",
              "29                               144.0  \n",
              "32                               147.0  \n",
              "426                               24.0  \n",
              "...                                ...  \n",
              "169361                           144.0  \n",
              "169544                           144.0  \n",
              "169860                           143.0  \n",
              "169909                           144.0  \n",
              "169950                            24.0  \n",
              "\n",
              "[1041 rows x 20 columns]"
            ],
            "text/html": [
              "\n",
              "  <div id=\"df-dfb8cc49-50dd-4087-bef5-e5e49ec11571\">\n",
              "    <div class=\"colab-df-container\">\n",
              "      <div>\n",
              "<style scoped>\n",
              "    .dataframe tbody tr th:only-of-type {\n",
              "        vertical-align: middle;\n",
              "    }\n",
              "\n",
              "    .dataframe tbody tr th {\n",
              "        vertical-align: top;\n",
              "    }\n",
              "\n",
              "    .dataframe thead th {\n",
              "        text-align: right;\n",
              "    }\n",
              "</style>\n",
              "<table border=\"1\" class=\"dataframe\">\n",
              "  <thead>\n",
              "    <tr style=\"text-align: right;\">\n",
              "      <th></th>\n",
              "      <th>Unnamed: 0</th>\n",
              "      <th>index</th>\n",
              "      <th>Band Name</th>\n",
              "      <th>Band Genre</th>\n",
              "      <th>Band Country of Origin</th>\n",
              "      <th>Band Debut</th>\n",
              "      <th>Concert ID</th>\n",
              "      <th>Concert Attendance</th>\n",
              "      <th>Inside Venue</th>\n",
              "      <th>Rain</th>\n",
              "      <th>Seated</th>\n",
              "      <th>Personnality Trait 1</th>\n",
              "      <th>Personnality Trait 2</th>\n",
              "      <th>Personnality Trait 3</th>\n",
              "      <th>Personnality Trait 4</th>\n",
              "      <th>Concert Goer Age</th>\n",
              "      <th>Concert Goer ID</th>\n",
              "      <th>Height (cm)</th>\n",
              "      <th>Concert Enjoyment</th>\n",
              "      <th>Concert Goer Country of Origin</th>\n",
              "    </tr>\n",
              "  </thead>\n",
              "  <tbody>\n",
              "    <tr>\n",
              "      <th>15</th>\n",
              "      <td>15</td>\n",
              "      <td>15</td>\n",
              "      <td>NaN</td>\n",
              "      <td>1.0</td>\n",
              "      <td>0.0</td>\n",
              "      <td>2005.0</td>\n",
              "      <td>628.0</td>\n",
              "      <td>22026.0</td>\n",
              "      <td>True</td>\n",
              "      <td>False</td>\n",
              "      <td>False</td>\n",
              "      <td>-1.280309</td>\n",
              "      <td>0.901388</td>\n",
              "      <td>0.672355</td>\n",
              "      <td>-0.155070</td>\n",
              "      <td>76.0</td>\n",
              "      <td>1550.0</td>\n",
              "      <td>144.0</td>\n",
              "      <td>Worst Concert Ever</td>\n",
              "      <td>24.0</td>\n",
              "    </tr>\n",
              "    <tr>\n",
              "      <th>19</th>\n",
              "      <td>19</td>\n",
              "      <td>19</td>\n",
              "      <td>NaN</td>\n",
              "      <td>2.0</td>\n",
              "      <td>0.0</td>\n",
              "      <td>1955.0</td>\n",
              "      <td>922.0</td>\n",
              "      <td>162754.0</td>\n",
              "      <td>True</td>\n",
              "      <td>False</td>\n",
              "      <td>True</td>\n",
              "      <td>1.063231</td>\n",
              "      <td>1.577905</td>\n",
              "      <td>-1.903408</td>\n",
              "      <td>-0.726034</td>\n",
              "      <td>61.0</td>\n",
              "      <td>496.0</td>\n",
              "      <td>149.0</td>\n",
              "      <td>Enjoyed</td>\n",
              "      <td>24.0</td>\n",
              "    </tr>\n",
              "    <tr>\n",
              "      <th>29</th>\n",
              "      <td>29</td>\n",
              "      <td>29</td>\n",
              "      <td>NaN</td>\n",
              "      <td>5.0</td>\n",
              "      <td>1.0</td>\n",
              "      <td>1992.0</td>\n",
              "      <td>90.0</td>\n",
              "      <td>59874.0</td>\n",
              "      <td>True</td>\n",
              "      <td>True</td>\n",
              "      <td>True</td>\n",
              "      <td>1.013471</td>\n",
              "      <td>0.616464</td>\n",
              "      <td>-0.859815</td>\n",
              "      <td>-0.622659</td>\n",
              "      <td>19.0</td>\n",
              "      <td>262.0</td>\n",
              "      <td>153.0</td>\n",
              "      <td>Best Concert Ever</td>\n",
              "      <td>144.0</td>\n",
              "    </tr>\n",
              "    <tr>\n",
              "      <th>32</th>\n",
              "      <td>32</td>\n",
              "      <td>32</td>\n",
              "      <td>NaN</td>\n",
              "      <td>6.0</td>\n",
              "      <td>2.0</td>\n",
              "      <td>1974.0</td>\n",
              "      <td>606.0</td>\n",
              "      <td>2980.0</td>\n",
              "      <td>True</td>\n",
              "      <td>True</td>\n",
              "      <td>False</td>\n",
              "      <td>-0.163621</td>\n",
              "      <td>-1.215491</td>\n",
              "      <td>-0.298354</td>\n",
              "      <td>0.547485</td>\n",
              "      <td>63.0</td>\n",
              "      <td>1061.0</td>\n",
              "      <td>143.0</td>\n",
              "      <td>Did Not Enjoy</td>\n",
              "      <td>147.0</td>\n",
              "    </tr>\n",
              "    <tr>\n",
              "      <th>426</th>\n",
              "      <td>426</td>\n",
              "      <td>426</td>\n",
              "      <td>NaN</td>\n",
              "      <td>3.0</td>\n",
              "      <td>2.0</td>\n",
              "      <td>2005.0</td>\n",
              "      <td>639.0</td>\n",
              "      <td>403.0</td>\n",
              "      <td>False</td>\n",
              "      <td>False</td>\n",
              "      <td>False</td>\n",
              "      <td>1.635914</td>\n",
              "      <td>0.335297</td>\n",
              "      <td>0.521544</td>\n",
              "      <td>0.947984</td>\n",
              "      <td>31.0</td>\n",
              "      <td>1311.0</td>\n",
              "      <td>158.0</td>\n",
              "      <td>Best Concert Ever</td>\n",
              "      <td>24.0</td>\n",
              "    </tr>\n",
              "    <tr>\n",
              "      <th>...</th>\n",
              "      <td>...</td>\n",
              "      <td>...</td>\n",
              "      <td>...</td>\n",
              "      <td>...</td>\n",
              "      <td>...</td>\n",
              "      <td>...</td>\n",
              "      <td>...</td>\n",
              "      <td>...</td>\n",
              "      <td>...</td>\n",
              "      <td>...</td>\n",
              "      <td>...</td>\n",
              "      <td>...</td>\n",
              "      <td>...</td>\n",
              "      <td>...</td>\n",
              "      <td>...</td>\n",
              "      <td>...</td>\n",
              "      <td>...</td>\n",
              "      <td>...</td>\n",
              "      <td>...</td>\n",
              "      <td>...</td>\n",
              "    </tr>\n",
              "    <tr>\n",
              "      <th>169361</th>\n",
              "      <td>169361</td>\n",
              "      <td>169361</td>\n",
              "      <td>NaN</td>\n",
              "      <td>1.0</td>\n",
              "      <td>2.0</td>\n",
              "      <td>2003.0</td>\n",
              "      <td>11.0</td>\n",
              "      <td>1096.0</td>\n",
              "      <td>False</td>\n",
              "      <td>False</td>\n",
              "      <td>True</td>\n",
              "      <td>0.172853</td>\n",
              "      <td>0.902410</td>\n",
              "      <td>-0.554996</td>\n",
              "      <td>1.066097</td>\n",
              "      <td>76.0</td>\n",
              "      <td>1071.0</td>\n",
              "      <td>142.0</td>\n",
              "      <td>Did Not Enjoy</td>\n",
              "      <td>144.0</td>\n",
              "    </tr>\n",
              "    <tr>\n",
              "      <th>169544</th>\n",
              "      <td>169544</td>\n",
              "      <td>169544</td>\n",
              "      <td>NaN</td>\n",
              "      <td>3.0</td>\n",
              "      <td>1.0</td>\n",
              "      <td>1964.0</td>\n",
              "      <td>789.0</td>\n",
              "      <td>22026.0</td>\n",
              "      <td>True</td>\n",
              "      <td>False</td>\n",
              "      <td>True</td>\n",
              "      <td>-0.132844</td>\n",
              "      <td>-0.341276</td>\n",
              "      <td>1.302131</td>\n",
              "      <td>-0.064894</td>\n",
              "      <td>47.0</td>\n",
              "      <td>897.0</td>\n",
              "      <td>142.0</td>\n",
              "      <td>Best Concert Ever</td>\n",
              "      <td>144.0</td>\n",
              "    </tr>\n",
              "    <tr>\n",
              "      <th>169860</th>\n",
              "      <td>169860</td>\n",
              "      <td>169860</td>\n",
              "      <td>NaN</td>\n",
              "      <td>2.0</td>\n",
              "      <td>0.0</td>\n",
              "      <td>1959.0</td>\n",
              "      <td>771.0</td>\n",
              "      <td>1096.0</td>\n",
              "      <td>True</td>\n",
              "      <td>True</td>\n",
              "      <td>True</td>\n",
              "      <td>1.350390</td>\n",
              "      <td>0.865293</td>\n",
              "      <td>-0.217621</td>\n",
              "      <td>-0.434503</td>\n",
              "      <td>40.0</td>\n",
              "      <td>714.0</td>\n",
              "      <td>165.0</td>\n",
              "      <td>Did Not Enjoy</td>\n",
              "      <td>143.0</td>\n",
              "    </tr>\n",
              "    <tr>\n",
              "      <th>169909</th>\n",
              "      <td>169909</td>\n",
              "      <td>169909</td>\n",
              "      <td>NaN</td>\n",
              "      <td>3.0</td>\n",
              "      <td>2.0</td>\n",
              "      <td>2006.0</td>\n",
              "      <td>646.0</td>\n",
              "      <td>54.0</td>\n",
              "      <td>True</td>\n",
              "      <td>False</td>\n",
              "      <td>False</td>\n",
              "      <td>1.194694</td>\n",
              "      <td>-2.716049</td>\n",
              "      <td>0.876320</td>\n",
              "      <td>-1.495391</td>\n",
              "      <td>22.0</td>\n",
              "      <td>1052.0</td>\n",
              "      <td>173.0</td>\n",
              "      <td>Did Not Enjoy</td>\n",
              "      <td>144.0</td>\n",
              "    </tr>\n",
              "    <tr>\n",
              "      <th>169950</th>\n",
              "      <td>169950</td>\n",
              "      <td>169950</td>\n",
              "      <td>NaN</td>\n",
              "      <td>5.0</td>\n",
              "      <td>0.0</td>\n",
              "      <td>2011.0</td>\n",
              "      <td>933.0</td>\n",
              "      <td>8103.0</td>\n",
              "      <td>True</td>\n",
              "      <td>False</td>\n",
              "      <td>False</td>\n",
              "      <td>0.195768</td>\n",
              "      <td>0.441544</td>\n",
              "      <td>-0.644147</td>\n",
              "      <td>1.455054</td>\n",
              "      <td>63.0</td>\n",
              "      <td>777.0</td>\n",
              "      <td>187.0</td>\n",
              "      <td>Did Not Enjoy</td>\n",
              "      <td>24.0</td>\n",
              "    </tr>\n",
              "  </tbody>\n",
              "</table>\n",
              "<p>1041 rows × 20 columns</p>\n",
              "</div>\n",
              "      <button class=\"colab-df-convert\" onclick=\"convertToInteractive('df-dfb8cc49-50dd-4087-bef5-e5e49ec11571')\"\n",
              "              title=\"Convert this dataframe to an interactive table.\"\n",
              "              style=\"display:none;\">\n",
              "        \n",
              "  <svg xmlns=\"http://www.w3.org/2000/svg\" height=\"24px\"viewBox=\"0 0 24 24\"\n",
              "       width=\"24px\">\n",
              "    <path d=\"M0 0h24v24H0V0z\" fill=\"none\"/>\n",
              "    <path d=\"M18.56 5.44l.94 2.06.94-2.06 2.06-.94-2.06-.94-.94-2.06-.94 2.06-2.06.94zm-11 1L8.5 8.5l.94-2.06 2.06-.94-2.06-.94L8.5 2.5l-.94 2.06-2.06.94zm10 10l.94 2.06.94-2.06 2.06-.94-2.06-.94-.94-2.06-.94 2.06-2.06.94z\"/><path d=\"M17.41 7.96l-1.37-1.37c-.4-.4-.92-.59-1.43-.59-.52 0-1.04.2-1.43.59L10.3 9.45l-7.72 7.72c-.78.78-.78 2.05 0 2.83L4 21.41c.39.39.9.59 1.41.59.51 0 1.02-.2 1.41-.59l7.78-7.78 2.81-2.81c.8-.78.8-2.07 0-2.86zM5.41 20L4 18.59l7.72-7.72 1.47 1.35L5.41 20z\"/>\n",
              "  </svg>\n",
              "      </button>\n",
              "      \n",
              "  <style>\n",
              "    .colab-df-container {\n",
              "      display:flex;\n",
              "      flex-wrap:wrap;\n",
              "      gap: 12px;\n",
              "    }\n",
              "\n",
              "    .colab-df-convert {\n",
              "      background-color: #E8F0FE;\n",
              "      border: none;\n",
              "      border-radius: 50%;\n",
              "      cursor: pointer;\n",
              "      display: none;\n",
              "      fill: #1967D2;\n",
              "      height: 32px;\n",
              "      padding: 0 0 0 0;\n",
              "      width: 32px;\n",
              "    }\n",
              "\n",
              "    .colab-df-convert:hover {\n",
              "      background-color: #E2EBFA;\n",
              "      box-shadow: 0px 1px 2px rgba(60, 64, 67, 0.3), 0px 1px 3px 1px rgba(60, 64, 67, 0.15);\n",
              "      fill: #174EA6;\n",
              "    }\n",
              "\n",
              "    [theme=dark] .colab-df-convert {\n",
              "      background-color: #3B4455;\n",
              "      fill: #D2E3FC;\n",
              "    }\n",
              "\n",
              "    [theme=dark] .colab-df-convert:hover {\n",
              "      background-color: #434B5C;\n",
              "      box-shadow: 0px 1px 3px 1px rgba(0, 0, 0, 0.15);\n",
              "      filter: drop-shadow(0px 1px 2px rgba(0, 0, 0, 0.3));\n",
              "      fill: #FFFFFF;\n",
              "    }\n",
              "  </style>\n",
              "\n",
              "      <script>\n",
              "        const buttonEl =\n",
              "          document.querySelector('#df-dfb8cc49-50dd-4087-bef5-e5e49ec11571 button.colab-df-convert');\n",
              "        buttonEl.style.display =\n",
              "          google.colab.kernel.accessAllowed ? 'block' : 'none';\n",
              "\n",
              "        async function convertToInteractive(key) {\n",
              "          const element = document.querySelector('#df-dfb8cc49-50dd-4087-bef5-e5e49ec11571');\n",
              "          const dataTable =\n",
              "            await google.colab.kernel.invokeFunction('convertToInteractive',\n",
              "                                                     [key], {});\n",
              "          if (!dataTable) return;\n",
              "\n",
              "          const docLinkHtml = 'Like what you see? Visit the ' +\n",
              "            '<a target=\"_blank\" href=https://colab.research.google.com/notebooks/data_table.ipynb>data table notebook</a>'\n",
              "            + ' to learn more about interactive tables.';\n",
              "          element.innerHTML = '';\n",
              "          dataTable['output_type'] = 'display_data';\n",
              "          await google.colab.output.renderOutput(dataTable, element);\n",
              "          const docLink = document.createElement('div');\n",
              "          docLink.innerHTML = docLinkHtml;\n",
              "          element.appendChild(docLink);\n",
              "        }\n",
              "      </script>\n",
              "    </div>\n",
              "  </div>\n",
              "  "
            ]
          },
          "metadata": {},
          "execution_count": 35
        }
      ]
    },
    {
      "cell_type": "code",
      "source": [
        "# PATRITIONING\n",
        "TRAIN_TEST_RATIO = 0.8\n",
        "\n",
        "train_indices = []\n",
        "\n",
        "dfg = df.groupby(CLASS)\n",
        "for g in dfg.groups:\n",
        "    group = dfg.get_group(g)\n",
        "    train_indices.extend(group.index[:int(TRAIN_TEST_RATIO * len(group.index))])\n",
        "\n",
        "train_indices = pd.Series(train_indices)\n",
        "test_indices = df.index.difference(train_indices)\n",
        "\n",
        "pd.DataFrame(\n",
        "    index=['train count', 'test count'], columns=df[CLASS].unique(),\n",
        "    data=[\n",
        "        df.loc[train_indices, CLASS].value_counts(),\n",
        "        df.loc[test_indices, CLASS].value_counts()\n",
        "    ]\n",
        ")"
      ],
      "metadata": {
        "id": "5ruzWj8IdKna",
        "colab": {
          "base_uri": "https://localhost:8080/",
          "height": 111
        },
        "outputId": "b174ca03-113b-4c53-de00-d9c742adc2fa"
      },
      "execution_count": null,
      "outputs": [
        {
          "output_type": "execute_result",
          "data": {
            "text/plain": [
              "             Enjoyed  Did Not Enjoy  Best Concert Ever  Worst Concert Ever\n",
              "train count    54420          54356              13621               13601\n",
              "test count     13606          13589               3406                3401"
            ],
            "text/html": [
              "\n",
              "  <div id=\"df-a61f67d0-6997-43d3-88c5-984121670623\">\n",
              "    <div class=\"colab-df-container\">\n",
              "      <div>\n",
              "<style scoped>\n",
              "    .dataframe tbody tr th:only-of-type {\n",
              "        vertical-align: middle;\n",
              "    }\n",
              "\n",
              "    .dataframe tbody tr th {\n",
              "        vertical-align: top;\n",
              "    }\n",
              "\n",
              "    .dataframe thead th {\n",
              "        text-align: right;\n",
              "    }\n",
              "</style>\n",
              "<table border=\"1\" class=\"dataframe\">\n",
              "  <thead>\n",
              "    <tr style=\"text-align: right;\">\n",
              "      <th></th>\n",
              "      <th>Enjoyed</th>\n",
              "      <th>Did Not Enjoy</th>\n",
              "      <th>Best Concert Ever</th>\n",
              "      <th>Worst Concert Ever</th>\n",
              "    </tr>\n",
              "  </thead>\n",
              "  <tbody>\n",
              "    <tr>\n",
              "      <th>train count</th>\n",
              "      <td>54420</td>\n",
              "      <td>54356</td>\n",
              "      <td>13621</td>\n",
              "      <td>13601</td>\n",
              "    </tr>\n",
              "    <tr>\n",
              "      <th>test count</th>\n",
              "      <td>13606</td>\n",
              "      <td>13589</td>\n",
              "      <td>3406</td>\n",
              "      <td>3401</td>\n",
              "    </tr>\n",
              "  </tbody>\n",
              "</table>\n",
              "</div>\n",
              "      <button class=\"colab-df-convert\" onclick=\"convertToInteractive('df-a61f67d0-6997-43d3-88c5-984121670623')\"\n",
              "              title=\"Convert this dataframe to an interactive table.\"\n",
              "              style=\"display:none;\">\n",
              "        \n",
              "  <svg xmlns=\"http://www.w3.org/2000/svg\" height=\"24px\"viewBox=\"0 0 24 24\"\n",
              "       width=\"24px\">\n",
              "    <path d=\"M0 0h24v24H0V0z\" fill=\"none\"/>\n",
              "    <path d=\"M18.56 5.44l.94 2.06.94-2.06 2.06-.94-2.06-.94-.94-2.06-.94 2.06-2.06.94zm-11 1L8.5 8.5l.94-2.06 2.06-.94-2.06-.94L8.5 2.5l-.94 2.06-2.06.94zm10 10l.94 2.06.94-2.06 2.06-.94-2.06-.94-.94-2.06-.94 2.06-2.06.94z\"/><path d=\"M17.41 7.96l-1.37-1.37c-.4-.4-.92-.59-1.43-.59-.52 0-1.04.2-1.43.59L10.3 9.45l-7.72 7.72c-.78.78-.78 2.05 0 2.83L4 21.41c.39.39.9.59 1.41.59.51 0 1.02-.2 1.41-.59l7.78-7.78 2.81-2.81c.8-.78.8-2.07 0-2.86zM5.41 20L4 18.59l7.72-7.72 1.47 1.35L5.41 20z\"/>\n",
              "  </svg>\n",
              "      </button>\n",
              "      \n",
              "  <style>\n",
              "    .colab-df-container {\n",
              "      display:flex;\n",
              "      flex-wrap:wrap;\n",
              "      gap: 12px;\n",
              "    }\n",
              "\n",
              "    .colab-df-convert {\n",
              "      background-color: #E8F0FE;\n",
              "      border: none;\n",
              "      border-radius: 50%;\n",
              "      cursor: pointer;\n",
              "      display: none;\n",
              "      fill: #1967D2;\n",
              "      height: 32px;\n",
              "      padding: 0 0 0 0;\n",
              "      width: 32px;\n",
              "    }\n",
              "\n",
              "    .colab-df-convert:hover {\n",
              "      background-color: #E2EBFA;\n",
              "      box-shadow: 0px 1px 2px rgba(60, 64, 67, 0.3), 0px 1px 3px 1px rgba(60, 64, 67, 0.15);\n",
              "      fill: #174EA6;\n",
              "    }\n",
              "\n",
              "    [theme=dark] .colab-df-convert {\n",
              "      background-color: #3B4455;\n",
              "      fill: #D2E3FC;\n",
              "    }\n",
              "\n",
              "    [theme=dark] .colab-df-convert:hover {\n",
              "      background-color: #434B5C;\n",
              "      box-shadow: 0px 1px 3px 1px rgba(0, 0, 0, 0.15);\n",
              "      filter: drop-shadow(0px 1px 2px rgba(0, 0, 0, 0.3));\n",
              "      fill: #FFFFFF;\n",
              "    }\n",
              "  </style>\n",
              "\n",
              "      <script>\n",
              "        const buttonEl =\n",
              "          document.querySelector('#df-a61f67d0-6997-43d3-88c5-984121670623 button.colab-df-convert');\n",
              "        buttonEl.style.display =\n",
              "          google.colab.kernel.accessAllowed ? 'block' : 'none';\n",
              "\n",
              "        async function convertToInteractive(key) {\n",
              "          const element = document.querySelector('#df-a61f67d0-6997-43d3-88c5-984121670623');\n",
              "          const dataTable =\n",
              "            await google.colab.kernel.invokeFunction('convertToInteractive',\n",
              "                                                     [key], {});\n",
              "          if (!dataTable) return;\n",
              "\n",
              "          const docLinkHtml = 'Like what you see? Visit the ' +\n",
              "            '<a target=\"_blank\" href=https://colab.research.google.com/notebooks/data_table.ipynb>data table notebook</a>'\n",
              "            + ' to learn more about interactive tables.';\n",
              "          element.innerHTML = '';\n",
              "          dataTable['output_type'] = 'display_data';\n",
              "          await google.colab.output.renderOutput(dataTable, element);\n",
              "          const docLink = document.createElement('div');\n",
              "          docLink.innerHTML = docLinkHtml;\n",
              "          element.appendChild(docLink);\n",
              "        }\n",
              "      </script>\n",
              "    </div>\n",
              "  </div>\n",
              "  "
            ]
          },
          "metadata": {},
          "execution_count": 37
        }
      ]
    },
    {
      "cell_type": "code",
      "source": [
        "# SEGREGATE X, Y (features, classes)\n",
        "X = df.loc[:, df.columns != CLASS]\n",
        "\n",
        "Y = df[CLASS]\n",
        "# * enumerate the class ids for convenience\n",
        "enum_classes = dict(enumerate([*Y.unique()]))\n",
        "enum_classes_r = {val: key for key, val in enum_classes.items()}\n",
        "\n",
        "Y = Y.apply(lambda klass: enum_classes_r[klass])\n",
        "# SPLIT X Y TEST TRAIN\n",
        "X_train, X_test = X.iloc[train_indices], X.iloc[test_indices]\n",
        "Y_train, Y_test = Y.iloc[train_indices], Y.iloc[test_indices]\n",
        "# DEFINE NEURAL NETWORK PARAMS\n",
        "model = keras.Sequential([\n",
        "    keras.layers.Dense(128, input_dim=len(X.columns), activation=tf.nn.relu),\n",
        "    keras.layers.Dense(64, activation=tf.nn.relu),\n",
        "    keras.layers.Dense(len(enum_classes), activation=tf.nn.softmax),\n",
        "])\n",
        "model.summary()"
      ],
      "metadata": {
        "id": "pJQru0tseTZo",
        "colab": {
          "base_uri": "https://localhost:8080/"
        },
        "outputId": "6f473c16-8ea9-47fa-94a4-f4a9f9349ad4"
      },
      "execution_count": null,
      "outputs": [
        {
          "output_type": "stream",
          "name": "stdout",
          "text": [
            "Model: \"sequential\"\n",
            "_________________________________________________________________\n",
            " Layer (type)                Output Shape              Param #   \n",
            "=================================================================\n",
            " dense (Dense)               (None, 128)               2304      \n",
            "                                                                 \n",
            " dense_1 (Dense)             (None, 64)                8256      \n",
            "                                                                 \n",
            " dense_2 (Dense)             (None, 4)                 260       \n",
            "                                                                 \n",
            "=================================================================\n",
            "Total params: 10,820\n",
            "Trainable params: 10,820\n",
            "Non-trainable params: 0\n",
            "_________________________________________________________________\n"
          ]
        }
      ]
    },
    {
      "cell_type": "code",
      "source": [
        "for name in ['Inside Venue','Rain']:\n",
        "  X_train[name] = X_train[name].replace(True, 1)\n",
        "  X_train[name] = X_train[name].replace(False, 0)\n",
        "  X_test[name] = X_test[name].replace(True, 1)\n",
        "  X_test[name] = X_test[name].replace(False, 0)\n",
        "X_train['Seated'] = X_train['Seated'].replace('True', 1)\n",
        "X_train['Seated'] = X_train['Seated'].replace('False', 0)\n",
        "X_test['Seated'] = X_test['Seated'].replace('True', 1)\n",
        "X_test['Seated'] = X_test['Seated'].replace('False', 0)\n",
        "X_train = np.asarray(X_train).astype(np.float32)\n",
        "X_test = np.asarray(X_test).astype(np.float32)"
      ],
      "metadata": {
        "id": "ZHxT4h77hlcx",
        "colab": {
          "base_uri": "https://localhost:8080/"
        },
        "outputId": "37eef4d8-c1b0-4db7-f5f0-ab0eb7a81f0e"
      },
      "execution_count": null,
      "outputs": [
        {
          "output_type": "stream",
          "name": "stderr",
          "text": [
            "<ipython-input-39-aae88371ebc9>:2: SettingWithCopyWarning: \n",
            "A value is trying to be set on a copy of a slice from a DataFrame.\n",
            "Try using .loc[row_indexer,col_indexer] = value instead\n",
            "\n",
            "See the caveats in the documentation: https://pandas.pydata.org/pandas-docs/stable/user_guide/indexing.html#returning-a-view-versus-a-copy\n",
            "  X_train[name] = X_train[name].replace(True, 1)\n",
            "<ipython-input-39-aae88371ebc9>:3: SettingWithCopyWarning: \n",
            "A value is trying to be set on a copy of a slice from a DataFrame.\n",
            "Try using .loc[row_indexer,col_indexer] = value instead\n",
            "\n",
            "See the caveats in the documentation: https://pandas.pydata.org/pandas-docs/stable/user_guide/indexing.html#returning-a-view-versus-a-copy\n",
            "  X_train[name] = X_train[name].replace(False, 0)\n",
            "<ipython-input-39-aae88371ebc9>:4: SettingWithCopyWarning: \n",
            "A value is trying to be set on a copy of a slice from a DataFrame.\n",
            "Try using .loc[row_indexer,col_indexer] = value instead\n",
            "\n",
            "See the caveats in the documentation: https://pandas.pydata.org/pandas-docs/stable/user_guide/indexing.html#returning-a-view-versus-a-copy\n",
            "  X_test[name] = X_test[name].replace(True, 1)\n",
            "<ipython-input-39-aae88371ebc9>:5: SettingWithCopyWarning: \n",
            "A value is trying to be set on a copy of a slice from a DataFrame.\n",
            "Try using .loc[row_indexer,col_indexer] = value instead\n",
            "\n",
            "See the caveats in the documentation: https://pandas.pydata.org/pandas-docs/stable/user_guide/indexing.html#returning-a-view-versus-a-copy\n",
            "  X_test[name] = X_test[name].replace(False, 0)\n",
            "<ipython-input-39-aae88371ebc9>:6: SettingWithCopyWarning: \n",
            "A value is trying to be set on a copy of a slice from a DataFrame.\n",
            "Try using .loc[row_indexer,col_indexer] = value instead\n",
            "\n",
            "See the caveats in the documentation: https://pandas.pydata.org/pandas-docs/stable/user_guide/indexing.html#returning-a-view-versus-a-copy\n",
            "  X_train['Seated'] = X_train['Seated'].replace('True', 1)\n",
            "<ipython-input-39-aae88371ebc9>:7: SettingWithCopyWarning: \n",
            "A value is trying to be set on a copy of a slice from a DataFrame.\n",
            "Try using .loc[row_indexer,col_indexer] = value instead\n",
            "\n",
            "See the caveats in the documentation: https://pandas.pydata.org/pandas-docs/stable/user_guide/indexing.html#returning-a-view-versus-a-copy\n",
            "  X_train['Seated'] = X_train['Seated'].replace('False', 0)\n",
            "<ipython-input-39-aae88371ebc9>:8: SettingWithCopyWarning: \n",
            "A value is trying to be set on a copy of a slice from a DataFrame.\n",
            "Try using .loc[row_indexer,col_indexer] = value instead\n",
            "\n",
            "See the caveats in the documentation: https://pandas.pydata.org/pandas-docs/stable/user_guide/indexing.html#returning-a-view-versus-a-copy\n",
            "  X_test['Seated'] = X_test['Seated'].replace('True', 1)\n",
            "<ipython-input-39-aae88371ebc9>:9: SettingWithCopyWarning: \n",
            "A value is trying to be set on a copy of a slice from a DataFrame.\n",
            "Try using .loc[row_indexer,col_indexer] = value instead\n",
            "\n",
            "See the caveats in the documentation: https://pandas.pydata.org/pandas-docs/stable/user_guide/indexing.html#returning-a-view-versus-a-copy\n",
            "  X_test['Seated'] = X_test['Seated'].replace('False', 0)\n"
          ]
        }
      ]
    },
    {
      "cell_type": "code",
      "source": [
        "# TRAIN THE MODEL\n",
        "model.compile(\n",
        "    optimizer='adam',\n",
        "    loss='sparse_categorical_crossentropy',\n",
        "    metrics=['Accuracy']\n",
        ")\n",
        "model.fit(X_train, Y_train)"
      ],
      "metadata": {
        "id": "icrIqomkeakV",
        "colab": {
          "base_uri": "https://localhost:8080/"
        },
        "outputId": "081bc034-b9df-4da6-a6b5-eb15899cbf44"
      },
      "execution_count": null,
      "outputs": [
        {
          "output_type": "stream",
          "name": "stdout",
          "text": [
            "4250/4250 [==============================] - 9s 2ms/step - loss: nan - Accuracy: 0.4001\n"
          ]
        },
        {
          "output_type": "execute_result",
          "data": {
            "text/plain": [
              "<keras.callbacks.History at 0x7fa938830550>"
            ]
          },
          "metadata": {},
          "execution_count": 40
        }
      ]
    },
    {
      "cell_type": "code",
      "source": [
        "# TEST THE MODEL\n",
        "model.evaluate(X_test, Y_test)"
      ],
      "metadata": {
        "id": "dogUbmnsjAqo",
        "colab": {
          "base_uri": "https://localhost:8080/"
        },
        "outputId": "8cbe1e9f-21e7-45ae-b4a2-31a556d6b2ef"
      },
      "execution_count": null,
      "outputs": [
        {
          "output_type": "stream",
          "name": "stdout",
          "text": [
            "1063/1063 [==============================] - 2s 1ms/step - loss: nan - Accuracy: 0.4002\n"
          ]
        },
        {
          "output_type": "execute_result",
          "data": {
            "text/plain": [
              "[nan, 0.40015292167663574]"
            ]
          },
          "metadata": {},
          "execution_count": 41
        }
      ]
    },
    {
      "cell_type": "code",
      "source": [
        "X_test"
      ],
      "metadata": {
        "id": "MGXh-TDtr8gk"
      },
      "execution_count": null,
      "outputs": []
    },
    {
      "cell_type": "code",
      "source": [
        "y_hat=model.predict(X_test)\n",
        "f1 = f1_score(Y_test, y_hat)"
      ],
      "metadata": {
        "id": "5AKxHQpgphkQ",
        "colab": {
          "base_uri": "https://localhost:8080/",
          "height": 341
        },
        "outputId": "67bfb110-5120-4a98-eccd-cf303e88948b"
      },
      "execution_count": null,
      "outputs": [
        {
          "output_type": "stream",
          "name": "stdout",
          "text": [
            "1063/1063 [==============================] - 1s 1ms/step\n"
          ]
        },
        {
          "output_type": "error",
          "ename": "ValueError",
          "evalue": "ignored",
          "traceback": [
            "\u001b[0;31m---------------------------------------------------------------------------\u001b[0m",
            "\u001b[0;31mValueError\u001b[0m                                Traceback (most recent call last)",
            "\u001b[0;32m<ipython-input-42-98f120429f44>\u001b[0m in \u001b[0;36m<module>\u001b[0;34m\u001b[0m\n\u001b[1;32m      1\u001b[0m \u001b[0my_hat\u001b[0m\u001b[0;34m=\u001b[0m\u001b[0mmodel\u001b[0m\u001b[0;34m.\u001b[0m\u001b[0mpredict\u001b[0m\u001b[0;34m(\u001b[0m\u001b[0mX_test\u001b[0m\u001b[0;34m)\u001b[0m\u001b[0;34m\u001b[0m\u001b[0;34m\u001b[0m\u001b[0m\n\u001b[0;32m----> 2\u001b[0;31m \u001b[0mf1\u001b[0m \u001b[0;34m=\u001b[0m \u001b[0mf1_score\u001b[0m\u001b[0;34m(\u001b[0m\u001b[0mY_test\u001b[0m\u001b[0;34m,\u001b[0m \u001b[0my_hat\u001b[0m\u001b[0;34m)\u001b[0m\u001b[0;34m\u001b[0m\u001b[0;34m\u001b[0m\u001b[0m\n\u001b[0m",
            "\u001b[0;32m/usr/local/lib/python3.8/dist-packages/sklearn/metrics/_classification.py\u001b[0m in \u001b[0;36mf1_score\u001b[0;34m(y_true, y_pred, labels, pos_label, average, sample_weight, zero_division)\u001b[0m\n\u001b[1;32m   1121\u001b[0m     \u001b[0mmodified\u001b[0m \u001b[0;32mwith\u001b[0m\u001b[0;31m \u001b[0m\u001b[0;31m`\u001b[0m\u001b[0;31m`\u001b[0m\u001b[0mzero_division\u001b[0m\u001b[0;31m`\u001b[0m\u001b[0;31m`\u001b[0m\u001b[0;34m.\u001b[0m\u001b[0;34m\u001b[0m\u001b[0;34m\u001b[0m\u001b[0m\n\u001b[1;32m   1122\u001b[0m     \"\"\"\n\u001b[0;32m-> 1123\u001b[0;31m     return fbeta_score(\n\u001b[0m\u001b[1;32m   1124\u001b[0m         \u001b[0my_true\u001b[0m\u001b[0;34m,\u001b[0m\u001b[0;34m\u001b[0m\u001b[0;34m\u001b[0m\u001b[0m\n\u001b[1;32m   1125\u001b[0m         \u001b[0my_pred\u001b[0m\u001b[0;34m,\u001b[0m\u001b[0;34m\u001b[0m\u001b[0;34m\u001b[0m\u001b[0m\n",
            "\u001b[0;32m/usr/local/lib/python3.8/dist-packages/sklearn/metrics/_classification.py\u001b[0m in \u001b[0;36mfbeta_score\u001b[0;34m(y_true, y_pred, beta, labels, pos_label, average, sample_weight, zero_division)\u001b[0m\n\u001b[1;32m   1259\u001b[0m     \"\"\"\n\u001b[1;32m   1260\u001b[0m \u001b[0;34m\u001b[0m\u001b[0m\n\u001b[0;32m-> 1261\u001b[0;31m     _, _, f, _ = precision_recall_fscore_support(\n\u001b[0m\u001b[1;32m   1262\u001b[0m         \u001b[0my_true\u001b[0m\u001b[0;34m,\u001b[0m\u001b[0;34m\u001b[0m\u001b[0;34m\u001b[0m\u001b[0m\n\u001b[1;32m   1263\u001b[0m         \u001b[0my_pred\u001b[0m\u001b[0;34m,\u001b[0m\u001b[0;34m\u001b[0m\u001b[0;34m\u001b[0m\u001b[0m\n",
            "\u001b[0;32m/usr/local/lib/python3.8/dist-packages/sklearn/metrics/_classification.py\u001b[0m in \u001b[0;36mprecision_recall_fscore_support\u001b[0;34m(y_true, y_pred, beta, labels, pos_label, average, warn_for, sample_weight, zero_division)\u001b[0m\n\u001b[1;32m   1542\u001b[0m     \u001b[0;32mif\u001b[0m \u001b[0mbeta\u001b[0m \u001b[0;34m<\u001b[0m \u001b[0;36m0\u001b[0m\u001b[0;34m:\u001b[0m\u001b[0;34m\u001b[0m\u001b[0;34m\u001b[0m\u001b[0m\n\u001b[1;32m   1543\u001b[0m         \u001b[0;32mraise\u001b[0m \u001b[0mValueError\u001b[0m\u001b[0;34m(\u001b[0m\u001b[0;34m\"beta should be >=0 in the F-beta score\"\u001b[0m\u001b[0;34m)\u001b[0m\u001b[0;34m\u001b[0m\u001b[0;34m\u001b[0m\u001b[0m\n\u001b[0;32m-> 1544\u001b[0;31m     \u001b[0mlabels\u001b[0m \u001b[0;34m=\u001b[0m \u001b[0m_check_set_wise_labels\u001b[0m\u001b[0;34m(\u001b[0m\u001b[0my_true\u001b[0m\u001b[0;34m,\u001b[0m \u001b[0my_pred\u001b[0m\u001b[0;34m,\u001b[0m \u001b[0maverage\u001b[0m\u001b[0;34m,\u001b[0m \u001b[0mlabels\u001b[0m\u001b[0;34m,\u001b[0m \u001b[0mpos_label\u001b[0m\u001b[0;34m)\u001b[0m\u001b[0;34m\u001b[0m\u001b[0;34m\u001b[0m\u001b[0m\n\u001b[0m\u001b[1;32m   1545\u001b[0m \u001b[0;34m\u001b[0m\u001b[0m\n\u001b[1;32m   1546\u001b[0m     \u001b[0;31m# Calculate tp_sum, pred_sum, true_sum ###\u001b[0m\u001b[0;34m\u001b[0m\u001b[0;34m\u001b[0m\u001b[0;34m\u001b[0m\u001b[0m\n",
            "\u001b[0;32m/usr/local/lib/python3.8/dist-packages/sklearn/metrics/_classification.py\u001b[0m in \u001b[0;36m_check_set_wise_labels\u001b[0;34m(y_true, y_pred, average, labels, pos_label)\u001b[0m\n\u001b[1;32m   1346\u001b[0m         \u001b[0;32mraise\u001b[0m \u001b[0mValueError\u001b[0m\u001b[0;34m(\u001b[0m\u001b[0;34m\"average has to be one of \"\u001b[0m \u001b[0;34m+\u001b[0m \u001b[0mstr\u001b[0m\u001b[0;34m(\u001b[0m\u001b[0maverage_options\u001b[0m\u001b[0;34m)\u001b[0m\u001b[0;34m)\u001b[0m\u001b[0;34m\u001b[0m\u001b[0;34m\u001b[0m\u001b[0m\n\u001b[1;32m   1347\u001b[0m \u001b[0;34m\u001b[0m\u001b[0m\n\u001b[0;32m-> 1348\u001b[0;31m     \u001b[0my_type\u001b[0m\u001b[0;34m,\u001b[0m \u001b[0my_true\u001b[0m\u001b[0;34m,\u001b[0m \u001b[0my_pred\u001b[0m \u001b[0;34m=\u001b[0m \u001b[0m_check_targets\u001b[0m\u001b[0;34m(\u001b[0m\u001b[0my_true\u001b[0m\u001b[0;34m,\u001b[0m \u001b[0my_pred\u001b[0m\u001b[0;34m)\u001b[0m\u001b[0;34m\u001b[0m\u001b[0;34m\u001b[0m\u001b[0m\n\u001b[0m\u001b[1;32m   1349\u001b[0m     \u001b[0;31m# Convert to Python primitive type to avoid NumPy type / Python str\u001b[0m\u001b[0;34m\u001b[0m\u001b[0;34m\u001b[0m\u001b[0;34m\u001b[0m\u001b[0m\n\u001b[1;32m   1350\u001b[0m     \u001b[0;31m# comparison. See https://github.com/numpy/numpy/issues/6784\u001b[0m\u001b[0;34m\u001b[0m\u001b[0;34m\u001b[0m\u001b[0;34m\u001b[0m\u001b[0m\n",
            "\u001b[0;32m/usr/local/lib/python3.8/dist-packages/sklearn/metrics/_classification.py\u001b[0m in \u001b[0;36m_check_targets\u001b[0;34m(y_true, y_pred)\u001b[0m\n\u001b[1;32m     84\u001b[0m     \u001b[0mcheck_consistent_length\u001b[0m\u001b[0;34m(\u001b[0m\u001b[0my_true\u001b[0m\u001b[0;34m,\u001b[0m \u001b[0my_pred\u001b[0m\u001b[0;34m)\u001b[0m\u001b[0;34m\u001b[0m\u001b[0;34m\u001b[0m\u001b[0m\n\u001b[1;32m     85\u001b[0m     \u001b[0mtype_true\u001b[0m \u001b[0;34m=\u001b[0m \u001b[0mtype_of_target\u001b[0m\u001b[0;34m(\u001b[0m\u001b[0my_true\u001b[0m\u001b[0;34m)\u001b[0m\u001b[0;34m\u001b[0m\u001b[0;34m\u001b[0m\u001b[0m\n\u001b[0;32m---> 86\u001b[0;31m     \u001b[0mtype_pred\u001b[0m \u001b[0;34m=\u001b[0m \u001b[0mtype_of_target\u001b[0m\u001b[0;34m(\u001b[0m\u001b[0my_pred\u001b[0m\u001b[0;34m)\u001b[0m\u001b[0;34m\u001b[0m\u001b[0;34m\u001b[0m\u001b[0m\n\u001b[0m\u001b[1;32m     87\u001b[0m \u001b[0;34m\u001b[0m\u001b[0m\n\u001b[1;32m     88\u001b[0m     \u001b[0my_type\u001b[0m \u001b[0;34m=\u001b[0m \u001b[0;34m{\u001b[0m\u001b[0mtype_true\u001b[0m\u001b[0;34m,\u001b[0m \u001b[0mtype_pred\u001b[0m\u001b[0;34m}\u001b[0m\u001b[0;34m\u001b[0m\u001b[0;34m\u001b[0m\u001b[0m\n",
            "\u001b[0;32m/usr/local/lib/python3.8/dist-packages/sklearn/utils/multiclass.py\u001b[0m in \u001b[0;36mtype_of_target\u001b[0;34m(y)\u001b[0m\n\u001b[1;32m    322\u001b[0m     \u001b[0;32mif\u001b[0m \u001b[0my\u001b[0m\u001b[0;34m.\u001b[0m\u001b[0mdtype\u001b[0m\u001b[0;34m.\u001b[0m\u001b[0mkind\u001b[0m \u001b[0;34m==\u001b[0m \u001b[0;34m\"f\"\u001b[0m \u001b[0;32mand\u001b[0m \u001b[0mnp\u001b[0m\u001b[0;34m.\u001b[0m\u001b[0many\u001b[0m\u001b[0;34m(\u001b[0m\u001b[0my\u001b[0m \u001b[0;34m!=\u001b[0m \u001b[0my\u001b[0m\u001b[0;34m.\u001b[0m\u001b[0mastype\u001b[0m\u001b[0;34m(\u001b[0m\u001b[0mint\u001b[0m\u001b[0;34m)\u001b[0m\u001b[0;34m)\u001b[0m\u001b[0;34m:\u001b[0m\u001b[0;34m\u001b[0m\u001b[0;34m\u001b[0m\u001b[0m\n\u001b[1;32m    323\u001b[0m         \u001b[0;31m# [.1, .2, 3] or [[.1, .2, 3]] or [[1., .2]] and not [1., 2., 3.]\u001b[0m\u001b[0;34m\u001b[0m\u001b[0;34m\u001b[0m\u001b[0;34m\u001b[0m\u001b[0m\n\u001b[0;32m--> 324\u001b[0;31m         \u001b[0m_assert_all_finite\u001b[0m\u001b[0;34m(\u001b[0m\u001b[0my\u001b[0m\u001b[0;34m)\u001b[0m\u001b[0;34m\u001b[0m\u001b[0;34m\u001b[0m\u001b[0m\n\u001b[0m\u001b[1;32m    325\u001b[0m         \u001b[0;32mreturn\u001b[0m \u001b[0;34m\"continuous\"\u001b[0m \u001b[0;34m+\u001b[0m \u001b[0msuffix\u001b[0m\u001b[0;34m\u001b[0m\u001b[0;34m\u001b[0m\u001b[0m\n\u001b[1;32m    326\u001b[0m \u001b[0;34m\u001b[0m\u001b[0m\n",
            "\u001b[0;32m/usr/local/lib/python3.8/dist-packages/sklearn/utils/validation.py\u001b[0m in \u001b[0;36m_assert_all_finite\u001b[0;34m(X, allow_nan, msg_dtype)\u001b[0m\n\u001b[1;32m    112\u001b[0m         ):\n\u001b[1;32m    113\u001b[0m             \u001b[0mtype_err\u001b[0m \u001b[0;34m=\u001b[0m \u001b[0;34m\"infinity\"\u001b[0m \u001b[0;32mif\u001b[0m \u001b[0mallow_nan\u001b[0m \u001b[0;32melse\u001b[0m \u001b[0;34m\"NaN, infinity\"\u001b[0m\u001b[0;34m\u001b[0m\u001b[0;34m\u001b[0m\u001b[0m\n\u001b[0;32m--> 114\u001b[0;31m             raise ValueError(\n\u001b[0m\u001b[1;32m    115\u001b[0m                 msg_err.format(\n\u001b[1;32m    116\u001b[0m                     \u001b[0mtype_err\u001b[0m\u001b[0;34m,\u001b[0m \u001b[0mmsg_dtype\u001b[0m \u001b[0;32mif\u001b[0m \u001b[0mmsg_dtype\u001b[0m \u001b[0;32mis\u001b[0m \u001b[0;32mnot\u001b[0m \u001b[0;32mNone\u001b[0m \u001b[0;32melse\u001b[0m \u001b[0mX\u001b[0m\u001b[0;34m.\u001b[0m\u001b[0mdtype\u001b[0m\u001b[0;34m\u001b[0m\u001b[0;34m\u001b[0m\u001b[0m\n",
            "\u001b[0;31mValueError\u001b[0m: Input contains NaN, infinity or a value too large for dtype('float32')."
          ]
        }
      ]
    }
  ],
  "metadata": {
    "colab": {
      "provenance": [],
      "collapsed_sections": [
        "55dx-UPyscRN",
        "G6WdEeufA_Ao",
        "_AjDFiteUHZw"
      ]
    },
    "kernelspec": {
      "display_name": "Python 3",
      "name": "python3"
    },
    "language_info": {
      "name": "python"
    }
  },
  "nbformat": 4,
  "nbformat_minor": 0
}