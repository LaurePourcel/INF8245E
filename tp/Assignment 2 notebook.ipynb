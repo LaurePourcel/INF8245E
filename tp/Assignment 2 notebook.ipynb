{
 "cells": [
  {
   "cell_type": "code",
   "execution_count": 2,
   "id": "a0d8d639",
   "metadata": {},
   "outputs": [],
   "source": [
    "import numpy as np\n",
    "import matplotlib.pyplot as plt\n",
    "import scipy\n",
    "import pandas as pd\n",
    "from tqdm.notebook import tqdm"
   ]
  },
  {
   "cell_type": "markdown",
   "id": "b036c18e",
   "metadata": {},
   "source": [
    "### Exercice 1"
   ]
  },
  {
   "cell_type": "markdown",
   "id": "a55dbdef",
   "metadata": {},
   "source": [
    "#### Question 1"
   ]
  },
  {
   "cell_type": "markdown",
   "id": "eccb48fe",
   "metadata": {},
   "source": [
    "Récupération des données et mise en forme"
   ]
  },
  {
   "cell_type": "code",
   "execution_count": 3,
   "id": "e2665935",
   "metadata": {},
   "outputs": [],
   "source": [
    "cov = pd.read_csv(\"hwk2_datasets\\\\DS1_Cov.txt\", header = None, sep = ',')\n",
    "m_0 = pd.read_csv(\"hwk2_datasets\\\\DS1_m_0.txt\", header = None, sep = ',')\n",
    "m_1 = pd.read_csv(\"hwk2_datasets\\\\DS1_m_1.txt\", header = None, sep = ',')"
   ]
  },
  {
   "cell_type": "code",
   "execution_count": 4,
   "id": "dcd4d288",
   "metadata": {},
   "outputs": [],
   "source": [
    "cov.drop(20, axis = 1, inplace = True)\n",
    "m_0.drop(20, axis = 1, inplace = True)\n",
    "m_1.drop(20, axis = 1, inplace = True)"
   ]
  },
  {
   "cell_type": "code",
   "execution_count": 5,
   "id": "d355b96a",
   "metadata": {},
   "outputs": [],
   "source": [
    "matrice_cov = cov.values\n",
    "m_0_arr = m_0.values[0]\n",
    "m_1_arr = m_1.values[0]"
   ]
  },
  {
   "cell_type": "markdown",
   "id": "6894017c",
   "metadata": {},
   "source": [
    "Création des datasets et annotation selon leur classe"
   ]
  },
  {
   "cell_type": "code",
   "execution_count": 6,
   "id": "8127bfa9",
   "metadata": {},
   "outputs": [],
   "source": [
    "dataset0 = np.random.multivariate_normal(m_0_arr, cov,2000)\n",
    "dataset1 = np.random.multivariate_normal(m_1_arr,cov,2000)"
   ]
  },
  {
   "cell_type": "code",
   "execution_count": 7,
   "id": "48ee20cd",
   "metadata": {},
   "outputs": [],
   "source": [
    "dataset0_annote = []\n",
    "dataset1_annote = []\n",
    "for i in range(len(dataset1)):\n",
    "    dataset0_annote.append(np.append(dataset0[i], -1))\n",
    "    dataset1_annote.append(np.append(dataset1[i], 1))"
   ]
  },
  {
   "cell_type": "markdown",
   "id": "6439d860",
   "metadata": {},
   "source": [
    "Séparation des datasets en des datasets d'entraînement, de validation et de test"
   ]
  },
  {
   "cell_type": "code",
   "execution_count": 8,
   "id": "f1951fcc",
   "metadata": {},
   "outputs": [],
   "source": [
    "dataset_test = []\n",
    "for i in range(400):\n",
    "    j = np.random.randint(0,len(dataset0_annote))\n",
    "    dataset_test.append(dataset0_annote[j])\n",
    "    dataset_test.append(dataset1_annote[j])\n",
    "    del dataset0_annote[j]\n",
    "    del dataset1_annote[j]"
   ]
  },
  {
   "cell_type": "code",
   "execution_count": 9,
   "id": "6d8a836b",
   "metadata": {},
   "outputs": [],
   "source": [
    "dataset_valid = []\n",
    "for i in range(400):\n",
    "    j = np.random.randint(0,len(dataset0_annote))\n",
    "    dataset_valid.append(dataset0_annote[j])\n",
    "    dataset_valid.append(dataset1_annote[j])\n",
    "    del dataset0_annote[j]\n",
    "    del dataset1_annote[j]"
   ]
  },
  {
   "cell_type": "code",
   "execution_count": 10,
   "id": "99f001e0",
   "metadata": {},
   "outputs": [],
   "source": [
    "dataset_train= dataset0_annote + dataset1_annote"
   ]
  },
  {
   "cell_type": "markdown",
   "id": "1571b7f0",
   "metadata": {},
   "source": [
    "Export des datasets obtenus"
   ]
  },
  {
   "cell_type": "code",
   "execution_count": 91,
   "id": "76863edd",
   "metadata": {},
   "outputs": [],
   "source": [
    "pd.DataFrame(dataset_train).to_csv(\"DS1_train.csv\", sep = ';', header = None)\n",
    "pd.DataFrame(dataset_valid).to_csv(\"DS1_valid.csv\", sep = ';', header = None)\n",
    "pd.DataFrame(dataset_test).to_csv(\"DS1_test.csv\", sep = ';', header = None)"
   ]
  },
  {
   "cell_type": "markdown",
   "id": "c9f01e41",
   "metadata": {},
   "source": [
    "#### Question 2.a"
   ]
  },
  {
   "cell_type": "code",
   "execution_count": 13,
   "id": "360969e0",
   "metadata": {},
   "outputs": [],
   "source": [
    "#Je retire l'annotation du dataset pour en faire un vecteur à part\n",
    "\n",
    "classes_train = []\n",
    "for i in range(len(dataset_train)):\n",
    "    classes_train.append(dataset_train[i][-1])\n",
    "    dataset_train[i] = np.delete(dataset_train[i], -1)\n",
    "    "
   ]
  },
  {
   "cell_type": "code",
   "execution_count": 14,
   "id": "be584c9c",
   "metadata": {},
   "outputs": [],
   "source": [
    "#Calcul des moyennes empiriques pour les 2 classes\n",
    "\n",
    "moyenne_emp_pos = 0\n",
    "moyenne_emp_neg = 0\n",
    "for i in range(len(dataset_train)):\n",
    "    if classes_train[i] >= 0 :\n",
    "        moyenne_emp_pos += dataset_train[i]\n",
    "    else:\n",
    "        moyenne_emp_neg += dataset_train[i]\n",
    "moyenne_emp_pos = 2*moyenne_emp_pos/len(dataset_train)\n",
    "moyenne_emp_neg = 2*moyenne_emp_neg/len(dataset_train)"
   ]
  },
  {
   "cell_type": "code",
   "execution_count": 15,
   "id": "f7f69684",
   "metadata": {},
   "outputs": [],
   "source": [
    "#Calcul de la matrice de covariance empirique\n",
    "\n",
    "cov_emp=  np.zeros((20,20))\n",
    "for i in range(len(dataset_train)):\n",
    "    if classes_train[i] >= 0:\n",
    "        cov_emp += np.dot(np.transpose([dataset_train[i] - moyenne_emp_pos]), [dataset_train[i] - moyenne_emp_pos])\n",
    "    else :\n",
    "        cov_emp += np.dot( np.transpose([dataset_train[i] - moyenne_emp_neg]), [dataset_train[i] - moyenne_emp_neg])\n",
    "cov_emp = cov_emp/len(dataset_train)"
   ]
  },
  {
   "cell_type": "code",
   "execution_count": 16,
   "id": "400c9aec",
   "metadata": {},
   "outputs": [],
   "source": [
    "#Calcul des coefficients utiles pour la fonction logit\n",
    "\n",
    "omega = np.dot(np.linalg.inv(cov_emp), moyenne_emp_pos - moyenne_emp_neg)\n",
    "omega0 =   [moyenne_emp_neg]@np.linalg.inv(cov_emp)@np.transpose([moyenne_emp_neg]) \\\n",
    "            - [moyenne_emp_pos]@np.linalg.inv(cov_emp)@np.transpose([moyenne_emp_pos])\n",
    "omega0 = omega0/2"
   ]
  },
  {
   "cell_type": "code",
   "execution_count": 17,
   "id": "8bc4438a",
   "metadata": {},
   "outputs": [],
   "source": [
    "def logit(x, seuil):\n",
    "    x_copy = np.delete(x,-1)\n",
    "    if omega0[0][0] + np.dot(omega.T, x_copy) >= seuil :\n",
    "        return 1\n",
    "    else:\n",
    "        return -1"
   ]
  },
  {
   "cell_type": "code",
   "execution_count": 18,
   "id": "0e3bdd59",
   "metadata": {},
   "outputs": [],
   "source": [
    "#Calcul du taux d'erreur sur l'ensemble de test.\n",
    "\n",
    "compteur = 0\n",
    "for i in range(len(dataset_test)):\n",
    "    if logit(dataset_test[i],0) != dataset_test[i][-1]:\n",
    "        compteur += 1\n",
    "        \n",
    "compteur = compteur / (len(dataset_test))"
   ]
  },
  {
   "cell_type": "code",
   "execution_count": 19,
   "id": "a03e2b89",
   "metadata": {},
   "outputs": [
    {
     "name": "stdout",
     "output_type": "stream",
     "text": [
      "Précision obtenue : 0.9575\n"
     ]
    }
   ],
   "source": [
    "print(\"Précision obtenue : {}\".format(1-compteur))"
   ]
  },
  {
   "cell_type": "markdown",
   "id": "d74fe596",
   "metadata": {},
   "source": [
    "#### Question 2.b"
   ]
  },
  {
   "cell_type": "code",
   "execution_count": 25,
   "id": "d0efa4d7",
   "metadata": {},
   "outputs": [],
   "source": [
    "pd.DataFrame(moyenne_emp_pos).to_csv(\"Assignment2_2160371_1_2_b_moy_1.csv\", sep =';', index = None, header = None)"
   ]
  },
  {
   "cell_type": "code",
   "execution_count": 26,
   "id": "0feba6a2",
   "metadata": {},
   "outputs": [],
   "source": [
    "pd.DataFrame(moyenne_emp_neg).to_csv(\"Assignment2_2160371_1_2_b_moy_-1.csv\", sep =';', index = None, header = None)"
   ]
  },
  {
   "cell_type": "code",
   "execution_count": 27,
   "id": "17461c33",
   "metadata": {},
   "outputs": [],
   "source": [
    "pd.DataFrame(cov_emp).to_csv(\"Assignment2_2160371_1_2_b_cov.csv\", sep =';', index = None, header = None)"
   ]
  },
  {
   "cell_type": "markdown",
   "id": "4ca8ffb2",
   "metadata": {},
   "source": [
    "#### Question 3"
   ]
  },
  {
   "cell_type": "code",
   "execution_count": 28,
   "id": "b27b8b75",
   "metadata": {},
   "outputs": [],
   "source": [
    "def neighbors(x) :\n",
    "    '''Prend en argument un vecteur x annoté ou non et renvoie la liste des distances à chaque élément \n",
    "    de l'ensemble d'entraînement trié par ordre croissant sous forme de couple (indice, distance)\n",
    "    '''\n",
    "    x_copy = x\n",
    "    liste_distances = []\n",
    "    if len(x_copy) == 21 :\n",
    "        x_copy = np.delete(x_copy,-1)\n",
    "    \n",
    "    for i in range(len(dataset_train)):\n",
    "        dist = np.linalg.norm(x_copy -dataset_train[i])\n",
    "        liste_distances.append((i,dist))\n",
    "        \n",
    "    liste_distances.sort(key = lambda x : x[1])\n",
    "    return liste_distances"
   ]
  },
  {
   "cell_type": "code",
   "execution_count": 29,
   "id": "7160d9ca",
   "metadata": {},
   "outputs": [],
   "source": [
    "k_values = np.arange(1,1001,1)"
   ]
  },
  {
   "cell_type": "code",
   "execution_count": 30,
   "id": "f406d4b1",
   "metadata": {},
   "outputs": [
    {
     "data": {
      "application/vnd.jupyter.widget-view+json": {
       "model_id": "b8f2e23fd51543dfb0155f532b1a2f7e",
       "version_major": 2,
       "version_minor": 0
      },
      "text/plain": [
       "  0%|          | 0/2400 [00:00<?, ?it/s]"
      ]
     },
     "metadata": {},
     "output_type": "display_data"
    }
   ],
   "source": [
    "resultats_train = np.zeros((len(k_values), len(dataset_train)))\n",
    "\n",
    "\n",
    "for ind_valeur in tqdm(range(len(dataset_train))):\n",
    "    voisins = neighbors(dataset_train[ind_valeur])\n",
    "    est_actuel = 0 #somme des i précédentes classes\n",
    "    est_k = 0 #dernière valeur attribuée par le classificateur (déterminé selon le signe de est_actuel)\n",
    "    i = 0\n",
    "    while i < len(k_values):\n",
    "        indice = voisins[i][0]\n",
    "        est_actuel += classes_train[indice]\n",
    "        \n",
    "        if est_actuel >=0:\n",
    "            est_k = 1\n",
    "        else:\n",
    "            est_k = -1\n",
    "        resultats_train[i][ind_valeur] = (est_k * classes_train[ind_valeur] < 0)\n",
    "        i += 1\n",
    "\n",
    "    \n",
    "erreur_train = [resultats_train[k].sum() / len(dataset_train) for k in range(len(k_values))]"
   ]
  },
  {
   "cell_type": "code",
   "execution_count": 31,
   "id": "88a83644",
   "metadata": {},
   "outputs": [
    {
     "data": {
      "application/vnd.jupyter.widget-view+json": {
       "model_id": "89a586f747114a6198d9a40d83c6a084",
       "version_major": 2,
       "version_minor": 0
      },
      "text/plain": [
       "  0%|          | 0/800 [00:00<?, ?it/s]"
      ]
     },
     "metadata": {},
     "output_type": "display_data"
    }
   ],
   "source": [
    "resultats_valid = np.zeros((len(k_values), len(dataset_valid)))\n",
    "\n",
    "for ind_valeur in tqdm(range(len(dataset_valid))):\n",
    "    voisins = neighbors(dataset_valid[ind_valeur])\n",
    "    est_actuel = 0\n",
    "    est_k = 0\n",
    "    i = 0\n",
    "    while i < len(k_values):\n",
    "        indice = voisins[i][0]\n",
    "        est_actuel += classes_train[indice]\n",
    "\n",
    "        if est_actuel >=0:\n",
    "            est_k = 1\n",
    "        else:\n",
    "            est_k = -1\n",
    "        resultats_valid[i][ind_valeur] = (est_k * dataset_valid[ind_valeur][-1] < 0)\n",
    "        i += 1\n",
    "        \n",
    "erreur_valid = [resultats_valid[k].sum() / len(dataset_valid) for k in range(len(k_values))]\n",
    "        "
   ]
  },
  {
   "cell_type": "code",
   "execution_count": 32,
   "id": "966d0de7",
   "metadata": {},
   "outputs": [
    {
     "data": {
      "text/plain": [
       "<matplotlib.legend.Legend at 0x1f47dafedc0>"
      ]
     },
     "execution_count": 32,
     "metadata": {},
     "output_type": "execute_result"
    },
    {
     "data": {
      "image/png": "[encoded data removed]",
      "text/plain": [
       "<Figure size 432x288 with 1 Axes>"
      ]
     },
     "metadata": {
      "needs_background": "light"
     },
     "output_type": "display_data"
    }
   ],
   "source": [
    "plt.plot(k_values, erreur_train, label = 'Erreur sur l\\'ensemble de training')\n",
    "plt.plot(k_values,erreur_valid, label = 'Erreur sur l\\'ensemble de validation')\n",
    "\n",
    "plt.xlabel(\"Nombre de voisins $k$\")\n",
    "plt.ylabel(\"% d'erreurs de classification\")\n",
    "\n",
    "plt.legend()"
   ]
  },
  {
   "cell_type": "markdown",
   "id": "77f91956",
   "metadata": {},
   "source": [
    "#### Question 3.b"
   ]
  },
  {
   "cell_type": "code",
   "execution_count": 33,
   "id": "4d8829e6",
   "metadata": {},
   "outputs": [],
   "source": [
    "k_opti = np.argmin(erreur_valid)"
   ]
  },
  {
   "cell_type": "code",
   "execution_count": 34,
   "id": "8f84573f",
   "metadata": {},
   "outputs": [
    {
     "name": "stdout",
     "output_type": "stream",
     "text": [
      "233\n"
     ]
    }
   ],
   "source": [
    "print(k_opti)"
   ]
  },
  {
   "cell_type": "code",
   "execution_count": 35,
   "id": "dd05252e",
   "metadata": {},
   "outputs": [
    {
     "data": {
      "application/vnd.jupyter.widget-view+json": {
       "model_id": "6cf4a93f8ae843f0a09abb0d1c018058",
       "version_major": 2,
       "version_minor": 0
      },
      "text/plain": [
       "  0%|          | 0/800 [00:00<?, ?it/s]"
      ]
     },
     "metadata": {},
     "output_type": "display_data"
    }
   ],
   "source": [
    "resultats_test = []\n",
    "\n",
    "for ind_valeur in tqdm(range(len(dataset_test))):\n",
    "    voisins = neighbors(dataset_test[ind_valeur])\n",
    "    est_actuel = 0\n",
    "    est_k = 0\n",
    "    \n",
    "    for i in range(k_opti):\n",
    "        est_actuel += classes_train[voisins[i][0]]\n",
    "        \n",
    "    if est_actuel >= 0:\n",
    "        est_k = 1\n",
    "    else:\n",
    "        est_k = -1\n",
    "    resultats_test.append(est_k * dataset_test[ind_valeur][-1] < 0)\n",
    "\n",
    "erreur_test = sum(resultats_test)/len(dataset_test)\n"
   ]
  },
  {
   "cell_type": "code",
   "execution_count": 36,
   "id": "873203b3",
   "metadata": {},
   "outputs": [
    {
     "name": "stdout",
     "output_type": "stream",
     "text": [
      "Précision obtenue : 0.56\n"
     ]
    }
   ],
   "source": [
    "print(\"Précision obtenue : {}\".format(1-erreur_test))"
   ]
  },
  {
   "cell_type": "markdown",
   "id": "df073636",
   "metadata": {},
   "source": [
    "#### Question 4"
   ]
  },
  {
   "cell_type": "code",
   "execution_count": 104,
   "id": "e2b2adcf",
   "metadata": {},
   "outputs": [],
   "source": [
    "cov1 = pd.read_csv(\"hwk2_datasets\\\\DS2_Cov1.txt\", header = None, sep = ',')\n",
    "gauss_1_m_0 = pd.read_csv(\"hwk2_datasets\\\\DS2_c1_m1.txt\", header = None, sep = ',')\n",
    "gauss_1_m_1 = pd.read_csv(\"hwk2_datasets\\\\DS2_c2_m1.txt\", header = None, sep = ',')\n",
    "\n",
    "cov2 = pd.read_csv(\"hwk2_datasets\\\\DS2_Cov2.txt\", header = None, sep = ',')\n",
    "gauss_2_m_0 = pd.read_csv(\"hwk2_datasets\\\\DS2_c1_m2.txt\", header = None, sep = ',')\n",
    "gauss_2_m_1 = pd.read_csv(\"hwk2_datasets\\\\DS2_c2_m2.txt\", header = None, sep = ',')\n",
    "\n",
    "cov3 = pd.read_csv(\"hwk2_datasets\\\\DS2_Cov3.txt\", header = None, sep = ',')\n",
    "gauss_3_m_0 = pd.read_csv(\"hwk2_datasets\\\\DS2_c1_m3.txt\", header = None, sep = ',')\n",
    "gauss_3_m_1 = pd.read_csv(\"hwk2_datasets\\\\DS2_c2_m3.txt\", header = None, sep = ',')"
   ]
  },
  {
   "cell_type": "code",
   "execution_count": 105,
   "id": "e7da41db",
   "metadata": {},
   "outputs": [],
   "source": [
    "cov1.drop(20, axis = 1, inplace = True)\n",
    "gauss_1_m_0.drop(20, axis = 1, inplace = True)\n",
    "gauss_1_m_1.drop(20, axis = 1, inplace = True)\n",
    "\n",
    "cov2.drop(20, axis = 1, inplace = True)\n",
    "gauss_2_m_0.drop(20, axis = 1, inplace = True)\n",
    "gauss_2_m_1.drop(20, axis = 1, inplace = True)\n",
    "\n",
    "cov3.drop(20, axis = 1, inplace = True)\n",
    "gauss_3_m_0.drop(20, axis = 1, inplace = True)\n",
    "gauss_3_m_1.drop(20, axis = 1, inplace = True)"
   ]
  },
  {
   "cell_type": "code",
   "execution_count": 106,
   "id": "b54e23dd",
   "metadata": {},
   "outputs": [],
   "source": [
    "matrice_cov1 = cov1.values\n",
    "m_0_arr1 = gauss_1_m_0.values[0]\n",
    "m_1_arr1 = gauss_1_m_1.values[0]\n",
    "\n",
    "matrice_cov2 = cov2.values\n",
    "m_0_arr2 = gauss_2_m_0.values[0]\n",
    "m_1_arr2 = gauss_2_m_1.values[0]\n",
    "\n",
    "matrice_cov3 = cov3.values\n",
    "m_0_arr3 = gauss_3_m_0.values[0]\n",
    "m_1_arr3 = gauss_3_m_1.values[0]"
   ]
  },
  {
   "cell_type": "code",
   "execution_count": 107,
   "id": "7e3d4ed4",
   "metadata": {},
   "outputs": [],
   "source": [
    "data_g1_c0 = np.random.multivariate_normal(m_0_arr1, cov1,10*2000//100)\n",
    "data_g1_c1 = np.random.multivariate_normal(m_1_arr1,cov1,10*2000//100)\n",
    "\n",
    "data_g2_c0 = np.random.multivariate_normal(m_0_arr1, cov2,42*2000//100)\n",
    "data_g2_c1 = np.random.multivariate_normal(m_1_arr1,cov2,42*2000//100)\n",
    "\n",
    "data_g3_c0 = np.random.multivariate_normal(m_0_arr1, cov3,48*2000//100)\n",
    "data_g3_c1 = np.random.multivariate_normal(m_1_arr1,cov3,48*2000//100)"
   ]
  },
  {
   "cell_type": "code",
   "execution_count": 108,
   "id": "32bc843c",
   "metadata": {},
   "outputs": [],
   "source": [
    "data_c0 = np.concatenate( (np.concatenate((data_g1_c0, data_g2_c0), axis = 0) , data_g3_c0), axis = 0)\n",
    "data_c1 = np.concatenate( (np.concatenate((data_g1_c1, data_g2_c1), axis = 0) , data_g3_c1), axis = 0)\n"
   ]
  },
  {
   "cell_type": "code",
   "execution_count": 109,
   "id": "6667e37b",
   "metadata": {},
   "outputs": [],
   "source": [
    "data0_annote = []\n",
    "data1_annote = []\n",
    "for i in range(len(data_c0)):\n",
    "    data0_annote.append(np.append(data_c0[i], -1))\n",
    "    data1_annote.append(np.append(data_c1[i], 1))"
   ]
  },
  {
   "cell_type": "code",
   "execution_count": 110,
   "id": "40b2dd42",
   "metadata": {},
   "outputs": [],
   "source": [
    "data_test = []\n",
    "for i in range(400):\n",
    "    j = np.random.randint(0,len(data0_annote))\n",
    "    data_test.append(data0_annote[j])\n",
    "    data_test.append(data1_annote[j])\n",
    "    del data0_annote[j]\n",
    "    del data1_annote[j]"
   ]
  },
  {
   "cell_type": "code",
   "execution_count": 111,
   "id": "3764f3f1",
   "metadata": {},
   "outputs": [],
   "source": [
    "data_valid = []\n",
    "for i in range(400):\n",
    "    j = np.random.randint(0,len(data0_annote))\n",
    "    data_valid.append(data0_annote[j])\n",
    "    data_valid.append(data1_annote[j])\n",
    "    del data0_annote[j]\n",
    "    del data1_annote[j]"
   ]
  },
  {
   "cell_type": "code",
   "execution_count": 112,
   "id": "71b7d2ee",
   "metadata": {},
   "outputs": [],
   "source": [
    "data_train = data0_annote + data1_annote"
   ]
  },
  {
   "cell_type": "code",
   "execution_count": 113,
   "id": "42fa88d8",
   "metadata": {},
   "outputs": [],
   "source": [
    "pd.DataFrame(data_train).to_csv(\"DS2_train.csv\", sep = ';', header = None)\n",
    "pd.DataFrame(data_valid).to_csv(\"DS2_valid.csv\", sep = ';', header = None)\n",
    "pd.DataFrame(data_test).to_csv(\"DS2_test.csv\", sep = ';', header = None)"
   ]
  },
  {
   "cell_type": "code",
   "execution_count": 114,
   "id": "99c547a4",
   "metadata": {},
   "outputs": [],
   "source": [
    "classes_train_mix = []\n",
    "for i in range(len(data_train)):\n",
    "    classes_train_mix.append(data_train[i][-1])\n",
    "    data_train[i] = np.delete(data_train[i], -1)"
   ]
  },
  {
   "cell_type": "markdown",
   "id": "f55dc400",
   "metadata": {},
   "source": [
    "#### Question 5.1"
   ]
  },
  {
   "cell_type": "code",
   "execution_count": 48,
   "id": "8b16de7f",
   "metadata": {},
   "outputs": [],
   "source": [
    "moyenne_emp_pos = 0\n",
    "moyenne_emp_neg = 0\n",
    "for i in range(len(data_train)):\n",
    "    if classes_train_mix[i] >= 0 :\n",
    "        moyenne_emp_pos += data_train[i]\n",
    "    else:\n",
    "        moyenne_emp_neg += data_train[i]\n",
    "moyenne_emp_pos = 2*moyenne_emp_pos/len(data_train)\n",
    "moyenne_emp_neg = 2*moyenne_emp_neg/len(data_train)"
   ]
  },
  {
   "cell_type": "code",
   "execution_count": 49,
   "id": "f7acc5b8",
   "metadata": {},
   "outputs": [],
   "source": [
    "cov_emp=  np.zeros((20,20))\n",
    "for i in range(len(data_train)):\n",
    "    if classes_train_mix[i] >= 0:\n",
    "        cov_emp += np.dot(np.transpose([data_train[i] - moyenne_emp_pos]), [data_train[i] - moyenne_emp_pos])\n",
    "    else :\n",
    "        cov_emp += np.dot(np.transpose([data_train[i] - moyenne_emp_neg]), [data_train[i] - moyenne_emp_neg])\n",
    "cov_emp = cov_emp/len(data_train)"
   ]
  },
  {
   "cell_type": "code",
   "execution_count": 50,
   "id": "7ab85f08",
   "metadata": {},
   "outputs": [],
   "source": [
    "omega = np.dot(np.linalg.inv(cov_emp), moyenne_emp_pos - moyenne_emp_neg)\n",
    "omega0 =   [moyenne_emp_neg]@np.linalg.inv(cov_emp)@np.transpose([moyenne_emp_neg]) \\\n",
    "            - [moyenne_emp_pos]@np.linalg.inv(cov_emp)@np.transpose([moyenne_emp_pos])\n",
    "omega0 = omega0/2"
   ]
  },
  {
   "cell_type": "code",
   "execution_count": 51,
   "id": "269d1d7d",
   "metadata": {},
   "outputs": [],
   "source": [
    "def logit(x, seuil):\n",
    "    x_copy = np.delete(x,-1)\n",
    "    if omega0[0][0] + np.dot(omega.T, x_copy) >= seuil :\n",
    "        return 1\n",
    "    else:\n",
    "        return -1"
   ]
  },
  {
   "cell_type": "code",
   "execution_count": 52,
   "id": "a36ff805",
   "metadata": {},
   "outputs": [],
   "source": [
    "compteur = 0\n",
    "for i in range(len(data_test)):\n",
    "    if logit(data_test[i],0) != data_test[i][-1]:\n",
    "        compteur += 1\n",
    "        \n",
    "compteur = compteur / (len(data_test))"
   ]
  },
  {
   "cell_type": "code",
   "execution_count": 53,
   "id": "4f23b5ce",
   "metadata": {},
   "outputs": [
    {
     "name": "stdout",
     "output_type": "stream",
     "text": [
      "Précision obtenue : 0.60625\n"
     ]
    }
   ],
   "source": [
    "print(\"Précision obtenue : {}\".format(1-compteur))"
   ]
  },
  {
   "cell_type": "code",
   "execution_count": 54,
   "id": "0dd9eaed",
   "metadata": {},
   "outputs": [],
   "source": [
    "pd.DataFrame(moyenne_emp_pos).to_csv(\"Assignment2_2160371_1_5_1_b_moy_1.csv\", sep =';', index = None, header = None)"
   ]
  },
  {
   "cell_type": "code",
   "execution_count": 55,
   "id": "58803aea",
   "metadata": {},
   "outputs": [],
   "source": [
    "pd.DataFrame(moyenne_emp_pos).to_csv(\"Assignment2_2160371_1_5_1_b_moy_-1.csv\", sep =';', index = None, header = None)"
   ]
  },
  {
   "cell_type": "code",
   "execution_count": 56,
   "id": "8db1b3dd",
   "metadata": {},
   "outputs": [],
   "source": [
    "pd.DataFrame(cov_emp).to_csv(\"Assignment2_2160371_1_5_1_b_cov.csv\", sep =';', index = None, header = None)"
   ]
  },
  {
   "cell_type": "markdown",
   "id": "beb40a9d",
   "metadata": {},
   "source": [
    "#### Question 5.2"
   ]
  },
  {
   "cell_type": "code",
   "execution_count": 57,
   "id": "4eff8acb",
   "metadata": {},
   "outputs": [],
   "source": [
    "def neighbors_mix(x) :\n",
    "    '''Adaptation de neighbors avec un autre dataset d'entrainement\n",
    "    '''\n",
    "    x_copy = x\n",
    "    liste_distances = []\n",
    "    if len(x_copy) == 21 :\n",
    "        x_copy = np.delete(x_copy,-1)\n",
    "    \n",
    "    for i in range(len(data_train)):\n",
    "        dist = np.linalg.norm(x_copy -data_train[i])\n",
    "        liste_distances.append((i,dist))\n",
    "        \n",
    "    liste_distances.sort(key = lambda x : x[1])\n",
    "    return liste_distances"
   ]
  },
  {
   "cell_type": "code",
   "execution_count": 58,
   "id": "0f466f62",
   "metadata": {},
   "outputs": [],
   "source": [
    "k_values = np.arange(1,1001,1)"
   ]
  },
  {
   "cell_type": "code",
   "execution_count": 59,
   "id": "1b5a788b",
   "metadata": {},
   "outputs": [
    {
     "data": {
      "text/plain": [
       "1000"
      ]
     },
     "execution_count": 59,
     "metadata": {},
     "output_type": "execute_result"
    }
   ],
   "source": [
    "len(k_values)"
   ]
  },
  {
   "cell_type": "code",
   "execution_count": 60,
   "id": "12b0af28",
   "metadata": {},
   "outputs": [
    {
     "data": {
      "application/vnd.jupyter.widget-view+json": {
       "model_id": "9d14728f2fa244db9a5ed7a3dd248ca0",
       "version_major": 2,
       "version_minor": 0
      },
      "text/plain": [
       "  0%|          | 0/2400 [00:00<?, ?it/s]"
      ]
     },
     "metadata": {},
     "output_type": "display_data"
    }
   ],
   "source": [
    "resultats_train_mix = np.zeros((len(k_values), len(data_train)))\n",
    "\n",
    "\n",
    "for ind_valeur in tqdm(range(len(data_train))):\n",
    "    voisins = neighbors_mix(data_train[ind_valeur])\n",
    "    est_actuel = 0\n",
    "    est_k = 0\n",
    "    i = 0\n",
    "    while i < len(k_values) :\n",
    "        indice = voisins[i][0]\n",
    "        est_actuel += classes_train[indice]\n",
    "        \n",
    "        if est_actuel >=0 :\n",
    "            est_k = 1\n",
    "        else:\n",
    "            est_k = -1\n",
    "        resultats_train_mix[i][ind_valeur] = (est_k * classes_train_mix[ind_valeur] < 0)\n",
    "        i += 1\n",
    "\n",
    "    \n",
    "erreur_train_mix = [resultats_train_mix[k].sum() / len(data_train) for k in range(len(k_values))]"
   ]
  },
  {
   "cell_type": "code",
   "execution_count": 61,
   "id": "a9b02cbb",
   "metadata": {},
   "outputs": [
    {
     "data": {
      "application/vnd.jupyter.widget-view+json": {
       "model_id": "30837b69559e4ce5a125651b0264ecd6",
       "version_major": 2,
       "version_minor": 0
      },
      "text/plain": [
       "  0%|          | 0/800 [00:00<?, ?it/s]"
      ]
     },
     "metadata": {},
     "output_type": "display_data"
    }
   ],
   "source": [
    "resultats_valid_mix = np.zeros((len(k_values), len(data_valid)))\n",
    "\n",
    "for ind_valeur in tqdm(range(len(data_valid))):\n",
    "    voisins = neighbors_mix(data_valid[ind_valeur])\n",
    "    est_actuel = 0\n",
    "    est_k = 0\n",
    "    i = 0\n",
    "    while i < len(k_values ):\n",
    "        indice = voisins[i][0]\n",
    "        est_actuel += classes_train_mix[indice]\n",
    "\n",
    "        if est_actuel >=0:\n",
    "            est_k = 1\n",
    "        else:\n",
    "            est_k = -1\n",
    "        resultats_valid_mix[i][ind_valeur] = (est_k * data_valid[ind_valeur][-1] < 0)\n",
    "        i += 1\n",
    "        \n",
    "erreur_valid_mix = [resultats_valid_mix[k].sum() / len(data_valid) for k in range(len(k_values))]"
   ]
  },
  {
   "cell_type": "code",
   "execution_count": 62,
   "id": "36074a0b",
   "metadata": {},
   "outputs": [
    {
     "data": {
      "text/plain": [
       "<matplotlib.legend.Legend at 0x1f47f03f730>"
      ]
     },
     "execution_count": 62,
     "metadata": {},
     "output_type": "execute_result"
    },
    {
     "data": {
      "image/png": "[encoded data removed]",
      "text/plain": [
       "<Figure size 432x288 with 1 Axes>"
      ]
     },
     "metadata": {
      "needs_background": "light"
     },
     "output_type": "display_data"
    }
   ],
   "source": [
    "plt.plot(k_values, erreur_train_mix,label = 'Erreur sur l\\'ensemble de training')\n",
    "plt.plot(k_values, erreur_valid_mix, label = 'Erreur sur l\\'ensemble de validation')\n",
    "\n",
    "plt.xlabel(\"Nombre de voisins $k$\")\n",
    "plt.ylabel(\"% d'erreurs de classification\")\n",
    "\n",
    "plt.legend()"
   ]
  },
  {
   "cell_type": "markdown",
   "id": "26fe2ba7",
   "metadata": {},
   "source": [
    "#### Question 5.3"
   ]
  },
  {
   "cell_type": "code",
   "execution_count": 67,
   "id": "aba715fd",
   "metadata": {},
   "outputs": [],
   "source": [
    "k_opti = np.argmin(erreur_valid_mix)"
   ]
  },
  {
   "cell_type": "code",
   "execution_count": 68,
   "id": "f41c4602",
   "metadata": {},
   "outputs": [
    {
     "name": "stdout",
     "output_type": "stream",
     "text": [
      "774\n"
     ]
    }
   ],
   "source": [
    "print(k_opti)"
   ]
  },
  {
   "cell_type": "code",
   "execution_count": 65,
   "id": "7f3b35db",
   "metadata": {},
   "outputs": [
    {
     "data": {
      "application/vnd.jupyter.widget-view+json": {
       "model_id": "68154046ccfd4cbb9b2f9e7b2801fafe",
       "version_major": 2,
       "version_minor": 0
      },
      "text/plain": [
       "  0%|          | 0/800 [00:00<?, ?it/s]"
      ]
     },
     "metadata": {},
     "output_type": "display_data"
    }
   ],
   "source": [
    "resultats_test_mix = []\n",
    "\n",
    "for ind_valeur in tqdm(range(len(data_test))):\n",
    "    voisins = neighbors_mix(data_test[ind_valeur])\n",
    "    est_actuel = 0\n",
    "    est_k = 0\n",
    "    \n",
    "    for i in range(k_opti):\n",
    "        est_actuel += classes_train_mix[voisins[i][0]]\n",
    "        \n",
    "    if est_actuel >= 0:\n",
    "        est_k = 1\n",
    "    else:\n",
    "        est_k = -1\n",
    "    resultats_test_mix.append(est_k * data_test[ind_valeur][-1] < 0)\n",
    "\n",
    "erreur_test_mix = sum(resultats_test_mix)/len(data_test)\n"
   ]
  },
  {
   "cell_type": "code",
   "execution_count": 66,
   "id": "2bc05e8c",
   "metadata": {},
   "outputs": [
    {
     "name": "stdout",
     "output_type": "stream",
     "text": [
      "Précision obtenue : 0.55125\n"
     ]
    }
   ],
   "source": [
    "print(\"Précision obtenue : {}\".format(1-erreur_test_mix))"
   ]
  },
  {
   "cell_type": "markdown",
   "id": "ce526966",
   "metadata": {},
   "source": [
    "### Exercice 2"
   ]
  },
  {
   "cell_type": "markdown",
   "id": "a71dfba0",
   "metadata": {},
   "source": [
    "Import des données et mise en forme"
   ]
  },
  {
   "cell_type": "code",
   "execution_count": 132,
   "id": "cf2ef0e5",
   "metadata": {},
   "outputs": [],
   "source": [
    "#Import Keras\n",
    "from tensorflow import keras\n",
    "# Loading the MNIST dataset\n",
    "(x_train, y_train), (x_test, y_test) = keras.datasets.mnist.load_data()"
   ]
  },
  {
   "cell_type": "code",
   "execution_count": 133,
   "id": "311ecdcc",
   "metadata": {},
   "outputs": [],
   "source": [
    "x_train_flat = np.zeros((60000,784))\n",
    "for i in range(len(x_train)) :\n",
    "    x_train_flat[i] = x_train[i].flatten()"
   ]
  },
  {
   "cell_type": "code",
   "execution_count": 134,
   "id": "a416c6c9",
   "metadata": {},
   "outputs": [],
   "source": [
    "x_test_flat = np.zeros((10000,784))\n",
    "for i in range(len(x_test)) :\n",
    "    x_test_flat[i] = x_test[i].flatten()"
   ]
  },
  {
   "cell_type": "code",
   "execution_count": 135,
   "id": "4418e828",
   "metadata": {},
   "outputs": [],
   "source": [
    "x_train_flat = x_train_flat/255\n",
    "x_test_flat = x_test_flat/255"
   ]
  },
  {
   "cell_type": "code",
   "execution_count": 136,
   "id": "5bac9edd",
   "metadata": {},
   "outputs": [],
   "source": [
    "data_valid = x_train_flat[0:10000]\n",
    "data_train = x_train_flat[10000:]\n",
    "data_test = x_test_flat\n",
    "\n",
    "y_valid = y_train[0:10000]\n",
    "y_train = y_train[10000:]"
   ]
  },
  {
   "cell_type": "markdown",
   "id": "c48ae56d",
   "metadata": {},
   "source": [
    "#### Question 1"
   ]
  },
  {
   "cell_type": "markdown",
   "id": "11280750",
   "metadata": {},
   "source": [
    "On utilise les formules présentées dans le rapport pour remonter au classificateur"
   ]
  },
  {
   "cell_type": "code",
   "execution_count": 137,
   "id": "77766372",
   "metadata": {},
   "outputs": [],
   "source": [
    "prior = np.zeros(10)\n",
    "\n",
    "for i in range(len(y_train)):\n",
    "    prior[y_train[i]] += 1\n",
    "    \n",
    "prior = prior/len(y_train)"
   ]
  },
  {
   "cell_type": "code",
   "execution_count": 138,
   "id": "c1d575d8",
   "metadata": {},
   "outputs": [],
   "source": [
    "def log_proba_k(x,moy,var):\n",
    "    '''Prend en argument un vecteur x, un vecteur de moyenne empirique de taille 10*784 et un vecteur de variances\n",
    "    empiriques de taille 10*784 et renvoie un vecteur de taille 10 d'éléments P(C_k|X)\n",
    "    '''\n",
    "    proba = np.zeros(10)\n",
    "    for k in range(10):\n",
    "        matrice_proba_k = - (x - moy[k])**2 /(2* (var[k])) - np.log(var[k])/2\n",
    "        proba[k] = matrice_proba_k.sum()\n",
    "        proba[k] = proba[k] / prior[k]\n",
    "    return proba"
   ]
  },
  {
   "cell_type": "code",
   "execution_count": 139,
   "id": "418ffea9",
   "metadata": {},
   "outputs": [],
   "source": [
    "def classificateur(x,moy,var):\n",
    "    '''Prend en argument un vecteur x, un vecteur de moyenne empirique de taille 10*784 et un vecteur de variances\n",
    "    empiriques de taille 10*784 et renvoie la classe la plus probable pour X\n",
    "    '''\n",
    "    \n",
    "    return np.argmax(log_proba_k(x,moy,var))"
   ]
  },
  {
   "cell_type": "code",
   "execution_count": 151,
   "id": "0700241c",
   "metadata": {},
   "outputs": [
    {
     "data": {
      "application/vnd.jupyter.widget-view+json": {
       "model_id": "2170e3985e934308adfeff95405a67dc",
       "version_major": 2,
       "version_minor": 0
      },
      "text/plain": [
       "  0%|          | 0/50 [00:00<?, ?it/s]"
      ]
     },
     "metadata": {},
     "output_type": "display_data"
    }
   ],
   "source": [
    "epsilon_values = np.arange(0.01,5000,100)\n",
    "precision = []\n",
    "for epsilon in tqdm(epsilon_values) :\n",
    "    \n",
    "    #Calcul de la moyenne empirique de chaque variable avec ce facteur epsilon\n",
    "    moy_empirique = np.zeros((10,784))\n",
    "\n",
    "    for i in range(len(data_train)):\n",
    "        moy_empirique[y_train[i]] += data_train[i]\n",
    "    \n",
    "    for k in range(len(moy_empirique)):\n",
    "        moy_empirique[k] = (moy_empirique[k] + epsilon)/(prior[k]*len(data_train))\n",
    "        \n",
    "    #Calcul de l'estimateur de la variance de chaque variable avec ce facteur epsilon   \n",
    "    var_empirique = np.zeros((10,784))\n",
    "\n",
    "    for i in range(len(data_train)):\n",
    "        var_empirique[y_train[i]] += (data_train[i] - moy_empirique[y_train[i]])**2\n",
    "    \n",
    "    for k in range(len(moy_empirique)):\n",
    "        var_empirique[k] = var_empirique[k]/(prior[k]*len(data_train))\n",
    "    \n",
    "    #Calcul de la précision sur l'ensemble de validation pour cette valeur de epsilon\n",
    "    compteur = 0\n",
    "    for i in range(len(data_valid)):\n",
    "        if classificateur(data_valid[i],moy_empirique,var_empirique) == y_valid[i]:\n",
    "            compteur += 1\n",
    "    precision.append(compteur/len(data_valid))"
   ]
  },
  {
   "cell_type": "code",
   "execution_count": 152,
   "id": "8d158387",
   "metadata": {},
   "outputs": [
    {
     "data": {
      "text/plain": [
       "<matplotlib.legend.Legend at 0x1f412e60ac0>"
      ]
     },
     "execution_count": 152,
     "metadata": {},
     "output_type": "execute_result"
    },
    {
     "data": {
      "image/png": "[encoded data removed]",
      "text/plain": [
       "<Figure size 432x288 with 1 Axes>"
      ]
     },
     "metadata": {
      "needs_background": "light"
     },
     "output_type": "display_data"
    }
   ],
   "source": [
    "plt.plot(epsilon_values,precision, label = 'Précision obtenue sur l\\'ensemble de validation')\n",
    "\n",
    "plt.xlabel('Valeurs de $\\epsilon$')\n",
    "plt.ylabel('Précision')\n",
    "\n",
    "plt.legend()"
   ]
  },
  {
   "cell_type": "code",
   "execution_count": 142,
   "id": "35ba0018",
   "metadata": {},
   "outputs": [
    {
     "data": {
      "application/vnd.jupyter.widget-view+json": {
       "model_id": "45e2bed6aa0f4bb2929c27763c4afe44",
       "version_major": 2,
       "version_minor": 0
      },
      "text/plain": [
       "  0%|          | 0/40 [00:00<?, ?it/s]"
      ]
     },
     "metadata": {},
     "output_type": "display_data"
    }
   ],
   "source": [
    "epsilon_values = np.arange(700,1100,10)\n",
    "precision = []\n",
    "for epsilon in tqdm(epsilon_values) :\n",
    "    moy_empirique = np.zeros((10,784))\n",
    "\n",
    "    for i in range(len(data_train)):\n",
    "        moy_empirique[y_train[i]] += data_train[i]\n",
    "    \n",
    "    for k in range(len(moy_empirique)):\n",
    "        moy_empirique[k] = (moy_empirique[k] + epsilon)/(prior[k]*len(data_train))\n",
    "        \n",
    "        \n",
    "    var_empirique = np.zeros((10,784))\n",
    "\n",
    "    for i in range(len(data_train)):\n",
    "        var_empirique[y_train[i]] += (data_train[i] - moy_empirique[y_train[i]])**2\n",
    "    \n",
    "    for k in range(len(moy_empirique)):\n",
    "        var_empirique[k] = var_empirique[k]/(prior[k]*len(data_train))\n",
    "    \n",
    "    compteur = 0\n",
    "    for i in range(len(data_valid)):\n",
    "        if classificateur(data_valid[i],moy_empirique,var_empirique) == y_valid[i]:\n",
    "            compteur += 1\n",
    "    precision.append(compteur/len(data_valid))"
   ]
  },
  {
   "cell_type": "code",
   "execution_count": 143,
   "id": "43682830",
   "metadata": {},
   "outputs": [
    {
     "data": {
      "text/plain": [
       "<matplotlib.legend.Legend at 0x1f417515f10>"
      ]
     },
     "execution_count": 143,
     "metadata": {},
     "output_type": "execute_result"
    },
    {
     "data": {
      "image/png": "[encoded data removed]",
      "text/plain": [
       "<Figure size 432x288 with 1 Axes>"
      ]
     },
     "metadata": {
      "needs_background": "light"
     },
     "output_type": "display_data"
    }
   ],
   "source": [
    "plt.plot(epsilon_values,precision, label = 'Précision obtenue sur l\\'ensemble de validation')\n",
    "\n",
    "plt.xlabel('Valeurs de $\\epsilon$')\n",
    "plt.ylabel('Précision')\n",
    "\n",
    "plt.legend()"
   ]
  },
  {
   "cell_type": "code",
   "execution_count": 144,
   "id": "e6a70c53",
   "metadata": {},
   "outputs": [
    {
     "name": "stdout",
     "output_type": "stream",
     "text": [
      "La valeur optimale de epsilon est 820\n"
     ]
    }
   ],
   "source": [
    "print(\"La valeur optimale de epsilon est {}\".format(epsilon_values[np.argmax(precision)]))"
   ]
  },
  {
   "cell_type": "code",
   "execution_count": 145,
   "id": "fe6d390e",
   "metadata": {},
   "outputs": [],
   "source": [
    "epsilon = epsilon_values[np.argmax(precision)]\n",
    "\n",
    "moy_empirique = np.zeros((10,784))\n",
    "for i in range(len(data_train)):\n",
    "    moy_empirique[y_train[i]] += data_train[i]\n",
    "\n",
    "for k in range(len(moy_empirique)):\n",
    "    moy_empirique[k] = (moy_empirique[k] + epsilon)/(prior[k]*len(data_train))\n",
    "\n",
    "\n",
    "var_empirique = np.zeros((10,784))\n",
    "for i in range(len(data_train)):\n",
    "    var_empirique[y_train[i]] += (data_train[i] - moy_empirique[y_train[i]])**2\n",
    "\n",
    "for k in range(len(moy_empirique)):\n",
    "    var_empirique[k] = var_empirique[k]/(prior[k]*len(data_train))\n",
    "    \n"
   ]
  },
  {
   "cell_type": "code",
   "execution_count": 146,
   "id": "456f09cf",
   "metadata": {},
   "outputs": [],
   "source": [
    "compteur = 0\n",
    "for i in range(len(data_test)):\n",
    "    if classificateur(data_test[i],moy_empirique,var_empirique) == y_test[i]:\n",
    "        compteur += 1\n",
    "compteur = compteur/len(data_test)"
   ]
  },
  {
   "cell_type": "code",
   "execution_count": 147,
   "id": "16fab95d",
   "metadata": {},
   "outputs": [
    {
     "name": "stdout",
     "output_type": "stream",
     "text": [
      "La précision obtenue est de 0.7908\n"
     ]
    }
   ],
   "source": [
    "print(\"La précision obtenue est de {}\".format(compteur))"
   ]
  },
  {
   "cell_type": "code",
   "execution_count": 148,
   "id": "84b70266",
   "metadata": {},
   "outputs": [],
   "source": [
    "pd.DataFrame(prior).to_csv(\"Assignment2_2160371_2_1_b_prior.csv\", sep = ';', index = None, header = None)"
   ]
  },
  {
   "cell_type": "code",
   "execution_count": 149,
   "id": "6fcf012c",
   "metadata": {},
   "outputs": [],
   "source": [
    "pd.DataFrame(moy_empirique).to_csv(\"Assignment2_2160371_2_1_b_moy.csv\", sep = ';', index = None, header = None)"
   ]
  },
  {
   "cell_type": "code",
   "execution_count": 150,
   "id": "01fd65fb",
   "metadata": {},
   "outputs": [],
   "source": [
    "pd.DataFrame(var_empirique).to_csv(\"Assignment2_2160371_2_1_b_var.csv\", sep = ';', index = None, header = None)"
   ]
  },
  {
   "cell_type": "markdown",
   "id": "e9776bdc",
   "metadata": {},
   "source": [
    "#### Question 2.a"
   ]
  },
  {
   "cell_type": "code",
   "execution_count": 153,
   "id": "25a6027a",
   "metadata": {},
   "outputs": [],
   "source": [
    "def neighbors_mnist(x) :\n",
    "    x_copy = x\n",
    "    liste_distances = []\n",
    "    for i in range(len(data_train)):\n",
    "        dist = np.linalg.norm(x_copy - data_train[i])\n",
    "        liste_distances.append((i,dist))\n",
    "    liste_distances.sort(key = lambda x : x[1])\n",
    "    return liste_distances"
   ]
  },
  {
   "cell_type": "code",
   "execution_count": 154,
   "id": "3ede1dd0",
   "metadata": {},
   "outputs": [],
   "source": [
    "k_values = np.arange(1,10001,10)"
   ]
  },
  {
   "cell_type": "code",
   "execution_count": 156,
   "id": "142399a9",
   "metadata": {},
   "outputs": [
    {
     "data": {
      "text/plain": [
       "'resultats_train_mnist = np.zeros((len(k_values), len(data_train)))\\n\\n\\nfor ind_valeur in tqdm(range(len(data_train))):\\n    voisins = neighbors_mnist(data_train[ind_valeur])\\n    est_actuel = np.zeros(10)\\n    est_k = 0\\n    i = 0\\n    while i < 10000 :\\n        indice = voisins[i][0]\\n        est_actuel[y_train[indice]] += 1 \\n        if i%10 == 0:\\n            est_k = np.argmax(est_actuel)\\n            resultats_train_mnist[i//10][ind_valeur] = (est_k != y_train[ind_valeur])\\n        \\n        i += 1\\n\\n    \\nerreur_train_mnist = [resultats_train_mnist[k].sum() / len(data_train) for k in range(len(k_values))] '"
      ]
     },
     "execution_count": 156,
     "metadata": {},
     "output_type": "execute_result"
    }
   ],
   "source": [
    "#Attention, temps d'exécution de 3h30\n",
    "\n",
    "'''resultats_train_mnist = np.zeros((len(k_values), len(data_train)))\n",
    "\n",
    "\n",
    "for ind_valeur in tqdm(range(len(data_train))):\n",
    "    voisins = neighbors_mnist(data_train[ind_valeur])\n",
    "    est_actuel = np.zeros(10)\n",
    "    est_k = 0\n",
    "    i = 0\n",
    "    while i < 10000 :\n",
    "        indice = voisins[i][0]\n",
    "        est_actuel[y_train[indice]] += 1 \n",
    "        if i%10 == 0:\n",
    "            est_k = np.argmax(est_actuel)\n",
    "            resultats_train_mnist[i//10][ind_valeur] = (est_k != y_train[ind_valeur])\n",
    "        \n",
    "        i += 1\n",
    "\n",
    "    \n",
    "erreur_train_mnist = [resultats_train_mnist[k].sum() / len(data_train) for k in range(len(k_values))] '''"
   ]
  },
  {
   "cell_type": "code",
   "execution_count": 317,
   "id": "c4065923",
   "metadata": {},
   "outputs": [
    {
     "data": {
      "application/vnd.jupyter.widget-view+json": {
       "model_id": "8439f73a7e1741a4a63e25e43de11c62",
       "version_major": 2,
       "version_minor": 0
      },
      "text/plain": [
       "  0%|          | 0/10000 [00:00<?, ?it/s]"
      ]
     },
     "metadata": {},
     "output_type": "display_data"
    }
   ],
   "source": [
    "#Attention, temps d'exécution de 45mn\n",
    "\n",
    "\n",
    "resultats_valid_mnist = np.zeros((len(k_values), len(data_valid)))\n",
    "\n",
    "\n",
    "for ind_valeur in tqdm(range(len(data_valid))):\n",
    "    voisins = neighbors_mnist(data_valid[ind_valeur])\n",
    "    est_actuel = np.zeros(10)\n",
    "    est_k = 0\n",
    "    i = 0\n",
    "    while i < 10000 :\n",
    "        indice = voisins[i][0]\n",
    "        est_actuel[y_train[indice]] += 1 \n",
    "        if i%10 == 0:\n",
    "            est_k = np.argmax(est_actuel)\n",
    "            resultats_valid_mnist[i//10][ind_valeur] = (est_k != y_valid[ind_valeur])\n",
    "        \n",
    "        i += 1\n",
    "\n",
    "    \n",
    "erreur_valid_mnist = [resultats_valid_mnist[k].sum() / len(data_valid) for k in range(len(k_values))]"
   ]
  },
  {
   "cell_type": "code",
   "execution_count": 320,
   "id": "9038fa35",
   "metadata": {},
   "outputs": [
    {
     "data": {
      "text/plain": [
       "<matplotlib.legend.Legend at 0x235e7999eb0>"
      ]
     },
     "execution_count": 320,
     "metadata": {},
     "output_type": "execute_result"
    },
    {
     "data": {
      "image/png": "[encoded data removed]",
      "text/plain": [
       "<Figure size 432x288 with 1 Axes>"
      ]
     },
     "metadata": {
      "needs_background": "light"
     },
     "output_type": "display_data"
    }
   ],
   "source": [
    "#plt.plot(k_values, erreur_train_mnist,label = 'Erreur sur l\\'ensemble de training')\n",
    "plt.plot(k_values, erreur_valid_mnist, label = 'Erreur sur l\\'ensemble de validation')\n",
    "\n",
    "plt.xlabel(\"Nombre de voisins $k$\")\n",
    "plt.ylabel(\"% d'erreurs de classification\")\n",
    "\n",
    "plt.legend()"
   ]
  },
  {
   "cell_type": "markdown",
   "id": "0ffa4657",
   "metadata": {},
   "source": [
    "#### Question 2.b"
   ]
  },
  {
   "cell_type": "code",
   "execution_count": 162,
   "id": "47dd8168",
   "metadata": {},
   "outputs": [],
   "source": [
    "#k_opti = 1+ 10*np.argmin(erreur_valid_mnist)\n"
   ]
  },
  {
   "cell_type": "code",
   "execution_count": 160,
   "id": "3db60d55",
   "metadata": {},
   "outputs": [],
   "source": [
    "def classificateur_1nn_mnist(x):\n",
    "    min_dist = 10**10\n",
    "    indmin = 0\n",
    "    for i in range(len(data_train)):\n",
    "        dist = np.linalg.norm(x - data_train[i])\n",
    "        if dist<= min_dist:\n",
    "            indmin = i\n",
    "            min_dist = dist\n",
    "    return y_train[indmin]"
   ]
  },
  {
   "cell_type": "code",
   "execution_count": 161,
   "id": "15a8fcff",
   "metadata": {},
   "outputs": [
    {
     "data": {
      "application/vnd.jupyter.widget-view+json": {
       "model_id": "574399384e51442b930b358cb513385d",
       "version_major": 2,
       "version_minor": 0
      },
      "text/plain": [
       "  0%|          | 0/10000 [00:00<?, ?it/s]"
      ]
     },
     "metadata": {},
     "output_type": "display_data"
    },
    {
     "name": "stdout",
     "output_type": "stream",
     "text": [
      "0.9669\n"
     ]
    }
   ],
   "source": [
    "succes=0\n",
    "\n",
    "for i in tqdm(range(len(data_test))):\n",
    "    succes += (classificateur_1nn_mnist(data_test[i]) == y_test[i])\n",
    "\n",
    "succes = succes/len(data_test)\n",
    "print(succes)"
   ]
  },
  {
   "cell_type": "code",
   "execution_count": 163,
   "id": "87c5ea38",
   "metadata": {},
   "outputs": [
    {
     "name": "stdout",
     "output_type": "stream",
     "text": [
      "Précision obtenue sur l'ensemble de test : 0.9669\n"
     ]
    }
   ],
   "source": [
    "print(\"Précision obtenue sur l'ensemble de test : {}\".format(succes))"
   ]
  },
  {
   "cell_type": "code",
   "execution_count": null,
   "id": "be52e76b",
   "metadata": {},
   "outputs": [],
   "source": []
  }
 ],
 "metadata": {
  "kernelspec": {
   "display_name": "Python 3",
   "language": "python",
   "name": "python3"
  },
  "language_info": {
   "codemirror_mode": {
    "name": "ipython",
    "version": 3
   },
   "file_extension": ".py",
   "mimetype": "text/x-python",
   "name": "python",
   "nbconvert_exporter": "python",
   "pygments_lexer": "ipython3",
   "version": "3.8.8"
  }
 },
 "nbformat": 4,
 "nbformat_minor": 5
}
