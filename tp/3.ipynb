{
 "cells": [
  {
   "cell_type": "markdown",
   "metadata": {},
   "source": [
    "# Questions "
   ]
  },
  {
   "cell_type": "markdown",
   "metadata": {},
   "source": []
  },
  {
   "cell_type": "markdown",
   "metadata": {},
   "source": [
    "# Réponses"
   ]
  },
  {
   "cell_type": "markdown",
   "metadata": {},
   "source": [
    "#### 1.a"
   ]
  },
  {
   "cell_type": "code",
   "execution_count": 22,
   "metadata": {},
   "outputs": [],
   "source": [
    "import pandas as pd\n",
    "import string"
   ]
  },
  {
   "cell_type": "code",
   "execution_count": 23,
   "metadata": {},
   "outputs": [],
   "source": [
    "d = {'col1': ['Great game!', 'It is okay.']}\n",
    "data = pd.DataFrame(data=d)"
   ]
  },
  {
   "cell_type": "code",
   "execution_count": 11,
   "metadata": {},
   "outputs": [
    {
     "data": {
      "text/html": [
       "<div>\n",
       "<style scoped>\n",
       "    .dataframe tbody tr th:only-of-type {\n",
       "        vertical-align: middle;\n",
       "    }\n",
       "\n",
       "    .dataframe tbody tr th {\n",
       "        vertical-align: top;\n",
       "    }\n",
       "\n",
       "    .dataframe thead th {\n",
       "        text-align: right;\n",
       "    }\n",
       "</style>\n",
       "<table border=\"1\" class=\"dataframe\">\n",
       "  <thead>\n",
       "    <tr style=\"text-align: right;\">\n",
       "      <th></th>\n",
       "      <th>col1</th>\n",
       "      <th>col2</th>\n",
       "    </tr>\n",
       "  </thead>\n",
       "  <tbody>\n",
       "    <tr>\n",
       "      <th>0</th>\n",
       "      <td>Great game!</td>\n",
       "      <td>Good game.</td>\n",
       "    </tr>\n",
       "    <tr>\n",
       "      <th>1</th>\n",
       "      <td>It is okay.</td>\n",
       "      <td>It is alright.</td>\n",
       "    </tr>\n",
       "  </tbody>\n",
       "</table>\n",
       "</div>"
      ],
      "text/plain": [
       "          col1            col2\n",
       "0  Great game!      Good game.\n",
       "1  It is okay.  It is alright."
      ]
     },
     "execution_count": 11,
     "metadata": {},
     "output_type": "execute_result"
    }
   ],
   "source": [
    "df"
   ]
  },
  {
   "cell_type": "code",
   "execution_count": 12,
   "metadata": {},
   "outputs": [],
   "source": [
    "for k in range (len(df)):\n",
    "    for j in range (len(df.iloc[k,:])): \n",
    "        df.iloc[k,j]= df.iloc[k,j].lower()"
   ]
  },
  {
   "cell_type": "code",
   "execution_count": 13,
   "metadata": {},
   "outputs": [
    {
     "data": {
      "text/html": [
       "<div>\n",
       "<style scoped>\n",
       "    .dataframe tbody tr th:only-of-type {\n",
       "        vertical-align: middle;\n",
       "    }\n",
       "\n",
       "    .dataframe tbody tr th {\n",
       "        vertical-align: top;\n",
       "    }\n",
       "\n",
       "    .dataframe thead th {\n",
       "        text-align: right;\n",
       "    }\n",
       "</style>\n",
       "<table border=\"1\" class=\"dataframe\">\n",
       "  <thead>\n",
       "    <tr style=\"text-align: right;\">\n",
       "      <th></th>\n",
       "      <th>col1</th>\n",
       "      <th>col2</th>\n",
       "    </tr>\n",
       "  </thead>\n",
       "  <tbody>\n",
       "    <tr>\n",
       "      <th>0</th>\n",
       "      <td>great game!</td>\n",
       "      <td>good game.</td>\n",
       "    </tr>\n",
       "    <tr>\n",
       "      <th>1</th>\n",
       "      <td>it is okay.</td>\n",
       "      <td>it is alright.</td>\n",
       "    </tr>\n",
       "  </tbody>\n",
       "</table>\n",
       "</div>"
      ],
      "text/plain": [
       "          col1            col2\n",
       "0  great game!      good game.\n",
       "1  it is okay.  it is alright."
      ]
     },
     "execution_count": 13,
     "metadata": {},
     "output_type": "execute_result"
    }
   ],
   "source": [
    "df"
   ]
  },
  {
   "cell_type": "code",
   "execution_count": 16,
   "metadata": {},
   "outputs": [],
   "source": [
    "for k in range (len(df)):\n",
    "    for j in range (len(df.iloc[k,:])): \n",
    "\n",
    "\n",
    "        df.iloc[k,j] = df.iloc[k,j].translate(str.maketrans('', '', string.punctuation))"
   ]
  },
  {
   "cell_type": "code",
   "execution_count": 17,
   "metadata": {},
   "outputs": [
    {
     "data": {
      "text/html": [
       "<div>\n",
       "<style scoped>\n",
       "    .dataframe tbody tr th:only-of-type {\n",
       "        vertical-align: middle;\n",
       "    }\n",
       "\n",
       "    .dataframe tbody tr th {\n",
       "        vertical-align: top;\n",
       "    }\n",
       "\n",
       "    .dataframe thead th {\n",
       "        text-align: right;\n",
       "    }\n",
       "</style>\n",
       "<table border=\"1\" class=\"dataframe\">\n",
       "  <thead>\n",
       "    <tr style=\"text-align: right;\">\n",
       "      <th></th>\n",
       "      <th>col1</th>\n",
       "      <th>col2</th>\n",
       "    </tr>\n",
       "  </thead>\n",
       "  <tbody>\n",
       "    <tr>\n",
       "      <th>0</th>\n",
       "      <td>great game</td>\n",
       "      <td>good game</td>\n",
       "    </tr>\n",
       "    <tr>\n",
       "      <th>1</th>\n",
       "      <td>it is okay</td>\n",
       "      <td>it is alright</td>\n",
       "    </tr>\n",
       "  </tbody>\n",
       "</table>\n",
       "</div>"
      ],
      "text/plain": [
       "         col1           col2\n",
       "0  great game      good game\n",
       "1  it is okay  it is alright"
      ]
     },
     "execution_count": 17,
     "metadata": {},
     "output_type": "execute_result"
    }
   ],
   "source": [
    "df"
   ]
  },
  {
   "cell_type": "code",
   "execution_count": 24,
   "metadata": {},
   "outputs": [],
   "source": [
    "def remove_punctuation(data) :\n",
    "    \"\"\" Removes punctation marks from data.\n",
    "\n",
    "    Args:\n",
    "        data (pandas.Series): a Pandas Series containing the original data\n",
    "\n",
    "    Returns:\n",
    "        data_punctuation_free (pandas.Series):a Pandas Series containing the original data withuout punctuation marks\n",
    "    \"\"\"\n",
    "    for k in range (len(data)):\n",
    "        data.iloc[k] =data.iloc[k].translate(str.maketrans('', '', string.punctuation))\n",
    "    return data\n",
    "\n",
    "def set_to_lower_case(data):\n",
    "    \"\"\" Sets all characters in data to lower-case.\n",
    "\n",
    "    Args:\n",
    "        data (pandas.Series): a Pandas Series containing the original data\n",
    "\n",
    "    Returns:\n",
    "        data_lower_cased (pandas.Series): a Pandas Series containing the original data lower-cased\n",
    "    \"\"\"\n",
    "    for k in range (len(data)):\n",
    "          data.iloc[k]= data.iloc[k].lower()\n",
    "    return data"
   ]
  },
  {
   "cell_type": "code",
   "execution_count": 25,
   "metadata": {},
   "outputs": [
    {
     "ename": "AttributeError",
     "evalue": "'Series' object has no attribute 'translate'",
     "output_type": "error",
     "traceback": [
      "\u001b[1;31m---------------------------------------------------------------------------\u001b[0m",
      "\u001b[1;31mAttributeError\u001b[0m                            Traceback (most recent call last)",
      "\u001b[1;32mc:\\Users\\loulo\\OneDrive\\Bureau\\cours\\INF8245E\\tp\\3.ipynb Cellule 13\u001b[0m in \u001b[0;36m<cell line: 1>\u001b[1;34m()\u001b[0m\n\u001b[1;32m----> <a href='vscode-notebook-cell:/c%3A/Users/loulo/OneDrive/Bureau/cours/INF8245E/tp/3.ipynb#X16sZmlsZQ%3D%3D?line=0'>1</a>\u001b[0m \u001b[39mprint\u001b[39m(remove_punctuation(data))\n",
      "\u001b[1;32mc:\\Users\\loulo\\OneDrive\\Bureau\\cours\\INF8245E\\tp\\3.ipynb Cellule 13\u001b[0m in \u001b[0;36mremove_punctuation\u001b[1;34m(data)\u001b[0m\n\u001b[0;32m      <a href='vscode-notebook-cell:/c%3A/Users/loulo/OneDrive/Bureau/cours/INF8245E/tp/3.ipynb#X16sZmlsZQ%3D%3D?line=1'>2</a>\u001b[0m \u001b[39m\"\"\" Removes punctation marks from data.\u001b[39;00m\n\u001b[0;32m      <a href='vscode-notebook-cell:/c%3A/Users/loulo/OneDrive/Bureau/cours/INF8245E/tp/3.ipynb#X16sZmlsZQ%3D%3D?line=2'>3</a>\u001b[0m \n\u001b[0;32m      <a href='vscode-notebook-cell:/c%3A/Users/loulo/OneDrive/Bureau/cours/INF8245E/tp/3.ipynb#X16sZmlsZQ%3D%3D?line=3'>4</a>\u001b[0m \u001b[39mArgs:\u001b[39;00m\n\u001b[1;32m   (...)\u001b[0m\n\u001b[0;32m      <a href='vscode-notebook-cell:/c%3A/Users/loulo/OneDrive/Bureau/cours/INF8245E/tp/3.ipynb#X16sZmlsZQ%3D%3D?line=7'>8</a>\u001b[0m \u001b[39m    data_punctuation_free (pandas.Series):a Pandas Series containing the original data withuout punctuation marks\u001b[39;00m\n\u001b[0;32m      <a href='vscode-notebook-cell:/c%3A/Users/loulo/OneDrive/Bureau/cours/INF8245E/tp/3.ipynb#X16sZmlsZQ%3D%3D?line=8'>9</a>\u001b[0m \u001b[39m\"\"\"\u001b[39;00m\n\u001b[0;32m     <a href='vscode-notebook-cell:/c%3A/Users/loulo/OneDrive/Bureau/cours/INF8245E/tp/3.ipynb#X16sZmlsZQ%3D%3D?line=9'>10</a>\u001b[0m \u001b[39mfor\u001b[39;00m k \u001b[39min\u001b[39;00m \u001b[39mrange\u001b[39m (\u001b[39mlen\u001b[39m(data)):\n\u001b[1;32m---> <a href='vscode-notebook-cell:/c%3A/Users/loulo/OneDrive/Bureau/cours/INF8245E/tp/3.ipynb#X16sZmlsZQ%3D%3D?line=10'>11</a>\u001b[0m     data\u001b[39m.\u001b[39miloc[k] \u001b[39m=\u001b[39mdata\u001b[39m.\u001b[39;49miloc[k]\u001b[39m.\u001b[39;49mtranslate(\u001b[39mstr\u001b[39m\u001b[39m.\u001b[39mmaketrans(\u001b[39m'\u001b[39m\u001b[39m'\u001b[39m, \u001b[39m'\u001b[39m\u001b[39m'\u001b[39m, string\u001b[39m.\u001b[39mpunctuation))\n\u001b[0;32m     <a href='vscode-notebook-cell:/c%3A/Users/loulo/OneDrive/Bureau/cours/INF8245E/tp/3.ipynb#X16sZmlsZQ%3D%3D?line=11'>12</a>\u001b[0m \u001b[39mreturn\u001b[39;00m data\n",
      "File \u001b[1;32mc:\\Users\\loulo\\programme\\conda\\envs\\projet\\lib\\site-packages\\pandas\\core\\generic.py:5575\u001b[0m, in \u001b[0;36mNDFrame.__getattr__\u001b[1;34m(self, name)\u001b[0m\n\u001b[0;32m   5568\u001b[0m \u001b[39mif\u001b[39;00m (\n\u001b[0;32m   5569\u001b[0m     name \u001b[39mnot\u001b[39;00m \u001b[39min\u001b[39;00m \u001b[39mself\u001b[39m\u001b[39m.\u001b[39m_internal_names_set\n\u001b[0;32m   5570\u001b[0m     \u001b[39mand\u001b[39;00m name \u001b[39mnot\u001b[39;00m \u001b[39min\u001b[39;00m \u001b[39mself\u001b[39m\u001b[39m.\u001b[39m_metadata\n\u001b[0;32m   5571\u001b[0m     \u001b[39mand\u001b[39;00m name \u001b[39mnot\u001b[39;00m \u001b[39min\u001b[39;00m \u001b[39mself\u001b[39m\u001b[39m.\u001b[39m_accessors\n\u001b[0;32m   5572\u001b[0m     \u001b[39mand\u001b[39;00m \u001b[39mself\u001b[39m\u001b[39m.\u001b[39m_info_axis\u001b[39m.\u001b[39m_can_hold_identifiers_and_holds_name(name)\n\u001b[0;32m   5573\u001b[0m ):\n\u001b[0;32m   5574\u001b[0m     \u001b[39mreturn\u001b[39;00m \u001b[39mself\u001b[39m[name]\n\u001b[1;32m-> 5575\u001b[0m \u001b[39mreturn\u001b[39;00m \u001b[39mobject\u001b[39;49m\u001b[39m.\u001b[39;49m\u001b[39m__getattribute__\u001b[39;49m(\u001b[39mself\u001b[39;49m, name)\n",
      "\u001b[1;31mAttributeError\u001b[0m: 'Series' object has no attribute 'translate'"
     ]
    }
   ],
   "source": [
    "print(remove_punctuation(data))"
   ]
  },
  {
   "cell_type": "markdown",
   "metadata": {},
   "source": [
    "#### 1.b"
   ]
  },
  {
   "cell_type": "code",
   "execution_count": 86,
   "metadata": {},
   "outputs": [],
   "source": [
    "d = {'col1': ['Great great great game!', 'It okay.','sooo bad', 'It is okay.','Great game!', 'It is okay.','good game', 'bad','Great great great game!', 'It okay.','sooo bad', 'It is okay.','Great game!', 'It is okay.','good game', 'bad','Great great great game!', 'It okay.','sooo bad', 'It is okay.','Great game!', 'It is okay.','good game', 'bad','Great great great game!', 'It okay.','sooo bad', 'It is okay.','Great game!', 'It is okay.','good game', 'bad'],'col2': ['Great great great game!', 'It okay.','sooo bad', 'It is okay.','Great game!', 'It is okay.','good game', 'bad','Great great great game!', 'It okay.','sooo bad', 'It is okay.','Great game!', 'It is okay.','good game', 'bad','Great great great game!', 'It okay.','sooo bad', 'It is okay.','Great game!', 'It is okay.','good game', 'bad','Great great great game!', 'It okay.','sooo bad', 'It is okay.','Great game!', 'It is okay.','good game', 'bad']}\n",
    "data = pd.DataFrame(data=d)"
   ]
  },
  {
   "cell_type": "code",
   "execution_count": 87,
   "metadata": {},
   "outputs": [],
   "source": [
    "data.col1 =remove_punctuation(data.col1)\n",
    "data.col1 =set_to_lower_case(data.col1)"
   ]
  },
  {
   "cell_type": "code",
   "execution_count": 88,
   "metadata": {},
   "outputs": [
    {
     "data": {
      "text/plain": [
       "0     great great great game\n",
       "1                    it okay\n",
       "2                   sooo bad\n",
       "3                 it is okay\n",
       "4                 great game\n",
       "5                 it is okay\n",
       "6                  good game\n",
       "7                        bad\n",
       "8     great great great game\n",
       "9                    it okay\n",
       "10                  sooo bad\n",
       "11                it is okay\n",
       "12                great game\n",
       "13                it is okay\n",
       "14                 good game\n",
       "15                       bad\n",
       "16    great great great game\n",
       "17                   it okay\n",
       "18                  sooo bad\n",
       "19                it is okay\n",
       "20                great game\n",
       "21                it is okay\n",
       "22                 good game\n",
       "23                       bad\n",
       "24    great great great game\n",
       "25                   it okay\n",
       "26                  sooo bad\n",
       "27                it is okay\n",
       "28                great game\n",
       "29                it is okay\n",
       "30                 good game\n",
       "31                       bad\n",
       "Name: col1, dtype: object"
      ]
     },
     "execution_count": 88,
     "metadata": {},
     "output_type": "execute_result"
    }
   ],
   "source": [
    "data.col1"
   ]
  },
  {
   "cell_type": "markdown",
   "metadata": {},
   "source": [
    "#### 1.b"
   ]
  },
  {
   "cell_type": "code",
   "execution_count": 140,
   "metadata": {},
   "outputs": [],
   "source": [
    "def pick_most_frequent_words(data, vocab_size: int):\n",
    "    \"\"\" Sorts the words in data by frequency in descending order and picks the top vocab_size most frequent words\n",
    "\n",
    "    Args:\n",
    "        data (pandas.Series): a Pandas Series containing the original data\n",
    "        vocab_size (int): the number of top words to pick\n",
    "\n",
    "    Returns:\n",
    "        most_frequent_words (list): a list with the top vocab_size most frequent words (in descending order of frequency)\n",
    "    \"\"\"\n",
    "    tous_les_avis=[]\n",
    "    for k in range (len(data)): \n",
    "      tous_les_avis+=data.iloc[k].split()\n",
    "\n",
    "    unique_words = list(set(tous_les_avis))\n",
    "\n",
    "    frequency = []\n",
    "    for words in unique_words :\n",
    "        frequency.append(tous_les_avis.count(words))\n",
    "    print(frequency)\n",
    "    print(unique_words)\n",
    "    most_frequent_words =[]\n",
    "\n",
    "    for l in range (vocab_size): \n",
    "        most_frequent_words.append(unique_words[frequency.index(max(frequency))])\n",
    "        frequency[frequency.index(max(frequency))] = 0\n",
    "    return most_frequent_words\n",
    "\n"
   ]
  },
  {
   "cell_type": "code",
   "execution_count": 178,
   "metadata": {},
   "outputs": [],
   "source": [
    "import pandas \n",
    "import numpy\n",
    "def pick_most_frequent_words(data: pandas.Series, vocab_size: int) -> list:\n",
    "    \"\"\" Sorts the words in data by frequency in descending order and picks the top vocab_size most frequent words\n",
    "\n",
    "    Args:\n",
    "        data (pandas.Series): a Pandas Series containing the original data\n",
    "        vocab_size (int): the number of top words to pick\n",
    "\n",
    "    Returns:\n",
    "        most_frequent_words (list): a list with the top vocab_size most frequent words (in descending order of frequency)\n",
    "    \"\"\"\n",
    "#version 3\n",
    "    #we create a list of all the worlds\n",
    "    tous_les_avis=[]\n",
    "    for k in range (len(data)): \n",
    "      tous_les_avis+=data.iloc[k].split()\n",
    "\n",
    "    #We create a dictionnary using the unique words \n",
    "\n",
    "\n",
    "    unique_words = list(set(tous_les_avis))\n",
    "    b = len(unique_words)\n",
    "    indices = [k for k in range(b)]\n",
    "    dict_mots = dict(zip(unique_words, indices))\n",
    "\n",
    "    compteur = numpy.zeros((b))\n",
    "\n",
    "    #We update the value in the dict \n",
    "    for k in range(len(tous_les_avis)): \n",
    "      a = dict_mots[tous_les_avis[k]]\n",
    "      print(tous_les_avis[k])\n",
    "      print(a)\n",
    "      compteur[a] +=1\n",
    "    print(compteur)\n",
    "    print(dict_mots)\n",
    "    val = numpy.quantile(compteur,(b-vocab_size)/b)\n",
    "    most_frequent_words=[]\n",
    "    for k in range (b): \n",
    "      if compteur[k]>val: \n",
    "        most_frequent_words.append(unique_words[k])\n",
    "\n",
    "    print('ici')\n",
    "\n",
    "    return most_frequent_words"
   ]
  },
  {
   "cell_type": "code",
   "execution_count": 179,
   "metadata": {},
   "outputs": [
    {
     "name": "stdout",
     "output_type": "stream",
     "text": [
      "great\n",
      "5\n",
      "great\n",
      "5\n",
      "great\n",
      "5\n",
      "game\n",
      "7\n",
      "it\n",
      "0\n",
      "okay\n",
      "3\n",
      "sooo\n",
      "4\n",
      "bad\n",
      "6\n",
      "it\n",
      "0\n",
      "is\n",
      "1\n",
      "okay\n",
      "3\n",
      "great\n",
      "5\n",
      "game\n",
      "7\n",
      "it\n",
      "0\n",
      "is\n",
      "1\n",
      "okay\n",
      "3\n",
      "good\n",
      "2\n",
      "game\n",
      "7\n",
      "bad\n",
      "6\n",
      "great\n",
      "5\n",
      "great\n",
      "5\n",
      "great\n",
      "5\n",
      "game\n",
      "7\n",
      "it\n",
      "0\n",
      "okay\n",
      "3\n",
      "sooo\n",
      "4\n",
      "bad\n",
      "6\n",
      "it\n",
      "0\n",
      "is\n",
      "1\n",
      "okay\n",
      "3\n",
      "great\n",
      "5\n",
      "game\n",
      "7\n",
      "it\n",
      "0\n",
      "is\n",
      "1\n",
      "okay\n",
      "3\n",
      "good\n",
      "2\n",
      "game\n",
      "7\n",
      "bad\n",
      "6\n",
      "great\n",
      "5\n",
      "great\n",
      "5\n",
      "great\n",
      "5\n",
      "game\n",
      "7\n",
      "it\n",
      "0\n",
      "okay\n",
      "3\n",
      "sooo\n",
      "4\n",
      "bad\n",
      "6\n",
      "it\n",
      "0\n",
      "is\n",
      "1\n",
      "okay\n",
      "3\n",
      "great\n",
      "5\n",
      "game\n",
      "7\n",
      "it\n",
      "0\n",
      "is\n",
      "1\n",
      "okay\n",
      "3\n",
      "good\n",
      "2\n",
      "game\n",
      "7\n",
      "bad\n",
      "6\n",
      "great\n",
      "5\n",
      "great\n",
      "5\n",
      "great\n",
      "5\n",
      "game\n",
      "7\n",
      "it\n",
      "0\n",
      "okay\n",
      "3\n",
      "sooo\n",
      "4\n",
      "bad\n",
      "6\n",
      "it\n",
      "0\n",
      "is\n",
      "1\n",
      "okay\n",
      "3\n",
      "great\n",
      "5\n",
      "game\n",
      "7\n",
      "it\n",
      "0\n",
      "is\n",
      "1\n",
      "okay\n",
      "3\n",
      "good\n",
      "2\n",
      "game\n",
      "7\n",
      "bad\n",
      "6\n",
      "[12.  8.  4. 12.  4. 16.  8. 12.]\n",
      "{'it': 0, 'is': 1, 'good': 2, 'okay': 3, 'sooo': 4, 'great': 5, 'bad': 6, 'game': 7}\n",
      "ici\n"
     ]
    }
   ],
   "source": [
    "vocab = pick_most_frequent_words(data.col1,6)"
   ]
  },
  {
   "cell_type": "code",
   "execution_count": 180,
   "metadata": {},
   "outputs": [
    {
     "data": {
      "text/plain": [
       "['it', 'is', 'okay', 'great', 'bad', 'game']"
      ]
     },
     "execution_count": 180,
     "metadata": {},
     "output_type": "execute_result"
    }
   ],
   "source": [
    "vocab"
   ]
  },
  {
   "cell_type": "code",
   "execution_count": 92,
   "metadata": {},
   "outputs": [
    {
     "name": "stdout",
     "output_type": "stream",
     "text": [
      "['great', 'great', 'great', 'game']\n",
      "['great', 'great', 'great', 'game']\n",
      "['great', 'great', 'great', 'game']\n",
      "['great', 'great', 'great', 'game']\n",
      "['great', 'great', 'great', 'game']\n",
      "['great', 'great', 'great', 'game']\n",
      "['great', 'great', 'great', 'game']\n",
      "['great', 'great', 'great', 'game']\n",
      "['great', 'great', 'great', 'game']\n",
      "['great', 'great', 'great', 'game']\n",
      "['great', 'great', 'great', 'game']\n",
      "['great', 'great', 'great', 'game']\n",
      "['great', 'great', 'great', 'game']\n",
      "['great', 'great', 'great', 'game']\n",
      "['great', 'great', 'great', 'game']\n",
      "['great', 'great', 'great', 'game']\n",
      "['great', 'great', 'great', 'game']\n",
      "['great', 'great', 'great', 'game']\n",
      "['great', 'great', 'great', 'game']\n",
      "['great', 'great', 'great', 'game']\n",
      "['great', 'great', 'great', 'game']\n",
      "['great', 'great', 'great', 'game']\n",
      "['great', 'great', 'great', 'game']\n",
      "['great', 'great', 'great', 'game']\n",
      "['great', 'great', 'great', 'game']\n",
      "['great', 'great', 'great', 'game']\n",
      "['great', 'great', 'great', 'game']\n",
      "['great', 'great', 'great', 'game']\n",
      "['great', 'great', 'great', 'game']\n",
      "['great', 'great', 'great', 'game']\n",
      "['great', 'great', 'great', 'game']\n",
      "['great', 'great', 'great', 'game']\n"
     ]
    }
   ],
   "source": [
    "for k in range (len(data)): \n",
    "    print(data.col1.iloc[0].split())"
   ]
  },
  {
   "cell_type": "code",
   "execution_count": 80,
   "metadata": {},
   "outputs": [
    {
     "data": {
      "text/plain": [
       "0    Great great great game!\n",
       "1                   It okay.\n",
       "2                   sooo bad\n",
       "3                It is okay.\n",
       "4                Great game!\n",
       "5                It is okay.\n",
       "6                  good game\n",
       "7                        bad\n",
       "Name: col1, dtype: object"
      ]
     },
     "execution_count": 80,
     "metadata": {},
     "output_type": "execute_result"
    }
   ],
   "source": [
    "data.col1"
   ]
  },
  {
   "cell_type": "markdown",
   "metadata": {},
   "source": [
    "#### 1.c"
   ]
  },
  {
   "cell_type": "code",
   "execution_count": 142,
   "metadata": {},
   "outputs": [
    {
     "data": {
      "text/plain": [
       "0     great great great game\n",
       "1                    it okay\n",
       "2                   sooo bad\n",
       "3                 it is okay\n",
       "4                 great game\n",
       "5                 it is okay\n",
       "6                  good game\n",
       "7                        bad\n",
       "8     great great great game\n",
       "9                    it okay\n",
       "10                  sooo bad\n",
       "11                it is okay\n",
       "12                great game\n",
       "13                it is okay\n",
       "14                 good game\n",
       "15                       bad\n",
       "16    great great great game\n",
       "17                   it okay\n",
       "18                  sooo bad\n",
       "19                it is okay\n",
       "20                great game\n",
       "21                it is okay\n",
       "22                 good game\n",
       "23                       bad\n",
       "24    great great great game\n",
       "25                   it okay\n",
       "26                  sooo bad\n",
       "27                it is okay\n",
       "28                great game\n",
       "29                it is okay\n",
       "30                 good game\n",
       "31                       bad\n",
       "Name: col1, dtype: object"
      ]
     },
     "execution_count": 142,
     "metadata": {},
     "output_type": "execute_result"
    }
   ],
   "source": [
    "data.col1"
   ]
  },
  {
   "cell_type": "code",
   "execution_count": 143,
   "metadata": {},
   "outputs": [],
   "source": [
    "import numpy\n",
    "def binary_bow(data, vocab):\n",
    "\n",
    "    \"\"\" Generates a binary vector for each example in data of the size of your vocabulary. Each vector represents which words in the vocabulary are present in each example.\n",
    "\n",
    "    Args:\n",
    "        data (numpy.ndarray): the samples to vectorize\n",
    "        vocab (list): the vocabulary of words\n",
    "\n",
    "    Returns:\n",
    "        binary bag-of-words representations (numpy.ndarray): the vectorized samples\n",
    "    \"\"\"\n",
    "    ...\n",
    "    shape_output= (len(data), len(vocab))\n",
    "    bag_of_words=numpy.ndarray(shape_output)\n",
    "\n",
    "    for k in range (len(data)):\n",
    "\n",
    "        for l in range (len(vocab)):\n",
    "\n",
    "            if vocab[l] in data.iloc[k]:\n",
    "\n",
    "                \n",
    "                bag_of_words[k, l]=1\n",
    "    return bag_of_words"
   ]
  },
  {
   "cell_type": "code",
   "execution_count": 144,
   "metadata": {},
   "outputs": [
    {
     "data": {
      "text/plain": [
       "array([[1.00000000e+000, 6.95205063e-310, 7.11454530e-321,\n",
       "        1.00000000e+000, 1.26249627e-311, 0.00000000e+000],\n",
       "       [8.94213159e+130, 1.00000000e+000, 1.00000000e+000,\n",
       "        1.39804329e-076, 1.39803697e-076, 8.61260270e-067],\n",
       "       [7.11326544e-067, 6.01346953e-154, 1.31238422e-047,\n",
       "        5.20364288e-090, 1.30354289e-076, 1.00000000e+000],\n",
       "       [5.05218184e-086, 1.00000000e+000, 1.00000000e+000,\n",
       "        8.94213159e+130, 1.00000000e+000, 9.45332851e-096],\n",
       "       [1.00000000e+000, 1.39803697e-076, 4.18585465e-062,\n",
       "        1.00000000e+000, 6.01346953e-154, 6.37258526e-067],\n",
       "       [5.20653425e-090, 1.00000000e+000, 1.00000000e+000,\n",
       "        5.05218184e-086, 1.00000000e+000, 1.15298109e-259],\n",
       "       [8.94213159e+130, 1.45136156e-047, 9.45515729e-096,\n",
       "        1.00000000e+000, 1.39803697e-076, 4.18585465e-062],\n",
       "       [7.11326533e-067, 6.01346953e-154, 1.31238422e-047,\n",
       "        5.20364288e-090, 1.30354289e-076, 1.00000000e+000],\n",
       "       [1.00000000e+000, 1.65690031e-047, 1.15298047e-259,\n",
       "        1.00000000e+000, 4.08221627e-033, 8.51882202e-096],\n",
       "       [1.39804329e-076, 1.00000000e+000, 1.00000000e+000,\n",
       "        7.11326541e-067, 6.01346953e-154, 4.01148292e-057],\n",
       "       [5.20651928e-090, 1.30354289e-076, 2.62395837e+179,\n",
       "        3.44357010e-086, 1.65690031e-047, 1.00000000e+000],\n",
       "       [8.94213159e+130, 1.00000000e+000, 1.00000000e+000,\n",
       "        1.39804329e-076, 1.00000000e+000, 4.27931718e-033],\n",
       "       [1.00000000e+000, 6.01346953e-154, 1.10711067e-047,\n",
       "        1.00000000e+000, 1.30354289e-076, 2.62395837e+179],\n",
       "       [3.44357010e-086, 1.00000000e+000, 1.00000000e+000,\n",
       "        8.94213159e+130, 1.00000000e+000, 8.51882202e-096],\n",
       "       [1.39804329e-076, 1.39803697e-076, 4.27931718e-033,\n",
       "        1.00000000e+000, 6.01346953e-154, 6.37260790e-067],\n",
       "       [5.20171024e-090, 1.30354289e-076, 2.62395837e+179,\n",
       "        3.44357010e-086, 7.49405113e-067, 1.00000000e+000],\n",
       "       [1.00000000e+000, 1.13105601e-042, 8.98516088e-096,\n",
       "        1.00000000e+000, 1.39803697e-076, 4.27931718e-033],\n",
       "       [7.11326533e-067, 1.00000000e+000, 1.00000000e+000,\n",
       "        5.20363533e-090, 1.30354289e-076, 2.62395837e+179],\n",
       "       [3.44357010e-086, 7.49405113e-067, 1.15298047e-259,\n",
       "        8.94213159e+130, 3.53542430e-057, 1.00000000e+000],\n",
       "       [1.39804329e-076, 1.00000000e+000, 1.00000000e+000,\n",
       "        7.11326533e-067, 1.00000000e+000, 8.96904654e-067],\n",
       "       [1.00000000e+000, 1.30354289e-076, 2.62395837e+179,\n",
       "        1.00000000e+000, 7.49405113e-067, 1.15298047e-259],\n",
       "       [8.94213159e+130, 1.00000000e+000, 1.00000000e+000,\n",
       "        1.45029871e-047, 1.00000000e+000, 4.27931718e-033],\n",
       "       [7.11326533e-067, 6.01346953e-154, 1.39736881e-076,\n",
       "        1.00000000e+000, 1.30354289e-076, 2.62395837e+179],\n",
       "       [3.24249363e-086, 1.39804329e-076, 1.15297922e-259,\n",
       "        8.94213159e+130, 1.39804329e-076, 1.00000000e+000],\n",
       "       [1.00000000e+000, 1.39803697e-076, 1.39804328e-076,\n",
       "        1.00000000e+000, 6.01346953e-154, 1.39736881e-076],\n",
       "       [1.21089429e-099, 1.00000000e+000, 1.00000000e+000,\n",
       "        3.24249363e-086, 1.39804329e-076, 1.15297922e-259],\n",
       "       [8.94213159e+130, 1.39804329e-076, 7.57880771e-096,\n",
       "        1.39804329e-076, 1.39803697e-076, 1.00000000e+000],\n",
       "       [1.39642638e-076, 1.00000000e+000, 1.00000000e+000,\n",
       "        1.21089429e-099, 1.00000000e+000, 2.62395837e+179],\n",
       "       [1.00000000e+000, 1.39804329e-076, 1.15297922e-259,\n",
       "        1.00000000e+000, 1.39804329e-076, 7.57880771e-096],\n",
       "       [1.39804329e-076, 1.00000000e+000, 1.00000000e+000,\n",
       "        1.39642638e-076, 1.00000000e+000, 1.39736881e-076],\n",
       "       [1.21089429e-099, 1.30354289e-076, 2.62395837e+179,\n",
       "        1.00000000e+000, 1.39804329e-076, 1.15297922e-259],\n",
       "       [1.05980651e-153, 6.01334521e-154, 1.81667905e-152,\n",
       "        1.01248295e+267, 9.56492679e-315, 1.00000000e+000]])"
      ]
     },
     "execution_count": 144,
     "metadata": {},
     "output_type": "execute_result"
    }
   ],
   "source": [
    "binary_bow(data.col1, vocab)"
   ]
  },
  {
   "cell_type": "markdown",
   "metadata": {},
   "source": [
    "### 2.1"
   ]
  },
  {
   "cell_type": "markdown",
   "metadata": {},
   "source": [
    "**Question 2.1 (3 points):** Construct the frequency bag-of-words representations for each example in your dataset. To achieve this, start by summing the occurrences of words in a review into a histogram. Then, divide by the sum of occurrences of all 1,000 words so that the vector for each example sums to 1."
   ]
  },
  {
   "cell_type": "code",
   "execution_count": 234,
   "metadata": {},
   "outputs": [],
   "source": [
    "\n",
    "def frequency_bow(data: numpy.ndarray, vocab: list) -> numpy.ndarray:\n",
    "    shape_output= (len(data), len(vocab))\n",
    "    f_bag_of_words=numpy.zeros(shape_output, dtype = int)\n",
    "    new_array=numpy.array(shape_output, dtype = int)\n",
    "    Liste_de_ta_mere =[]\n",
    "    for k in range (len(data)):\n",
    "        a = data[k]\n",
    "\n",
    "        a = str(a)\n",
    "        for l in range (len(vocab)):\n",
    "          if vocab[l] in a.split():  \n",
    "\n",
    "                #print(a.split().count(vocab[l]))\n",
    "                f_bag_of_words[k, l]=a.split().count(vocab[l])\n",
    "                #print(f_bag_of_words[k, l])\n",
    "                #print(f_bag_of_words)\n",
    "        nbr_occurences = numpy.sum(f_bag_of_words[k,:])\n",
    "        print(nbr_occurences)\n",
    "        if nbr_occurences != 0 : \n",
    "            Liste_de_ta_mere.append(list(f_bag_of_words[k] / nbr_occurences))\n",
    "            print(Liste_de_ta_mere)\n",
    "            #f_bag_of_words = new_array\n",
    "            print(f_bag_of_words[k])\n",
    "        if nbr_occurences ==0 : \n",
    "            Liste_de_ta_mere.append(list(f_bag_of_words[k]))\n",
    "\n",
    "    new_array=numpy.array(Liste_de_ta_mere)\n",
    "    return new_array      \n",
    "                \n",
    "\n"
   ]
  },
  {
   "cell_type": "code",
   "execution_count": 187,
   "metadata": {},
   "outputs": [],
   "source": [
    "d = {'col1': ['Great great great game!', 'It okay.','sooo bad', 'It is okay.','Great game!', 'It is okay.','good game', 'bad','Great great great game!', \n",
    "'It okay.','sooo bad', 'It is okay.','Great game!', 'It is okay.','good game', 'bad','Great great great game!', 'It okay.'],\n",
    "'col2': ['Great great great game!', 'It okay.','sooo bad', 'It is okay.','Great game!', 'It is okay.','good game', 'bad','Great great great game!', 'It okay.',\n",
    "'sooo bad', 'It is okay.','Great game!', 'It is okay.','good game', 'bad','Great great great game!', 'It okay.']}\n",
    "data = pd.DataFrame(data=d)"
   ]
  },
  {
   "cell_type": "code",
   "execution_count": 190,
   "metadata": {},
   "outputs": [],
   "source": [
    "data.col1 = remove_punctuation(data.col1)\n",
    "data.col1 = set_to_lower_case(data.col1)"
   ]
  },
  {
   "cell_type": "code",
   "execution_count": 191,
   "metadata": {},
   "outputs": [
    {
     "data": {
      "text/plain": [
       "0     great great great game\n",
       "1                    it okay\n",
       "2                   sooo bad\n",
       "3                 it is okay\n",
       "4                 great game\n",
       "5                 it is okay\n",
       "6                  good game\n",
       "7                        bad\n",
       "8     great great great game\n",
       "9                    it okay\n",
       "10                  sooo bad\n",
       "11                it is okay\n",
       "12                great game\n",
       "13                it is okay\n",
       "14                 good game\n",
       "15                       bad\n",
       "16    great great great game\n",
       "17                   it okay\n",
       "Name: col1, dtype: object"
      ]
     },
     "execution_count": 191,
     "metadata": {},
     "output_type": "execute_result"
    }
   ],
   "source": [
    "data.col1"
   ]
  },
  {
   "cell_type": "code",
   "execution_count": 235,
   "metadata": {},
   "outputs": [
    {
     "name": "stdout",
     "output_type": "stream",
     "text": [
      "4\n",
      "[[0.0, 0.0, 0.0, 0.75, 0.0, 0.25]]\n",
      "[0 0 0 3 0 1]\n",
      "2\n",
      "[[0.0, 0.0, 0.0, 0.75, 0.0, 0.25], [0.5, 0.0, 0.5, 0.0, 0.0, 0.0]]\n",
      "[1 0 1 0 0 0]\n",
      "1\n",
      "[[0.0, 0.0, 0.0, 0.75, 0.0, 0.25], [0.5, 0.0, 0.5, 0.0, 0.0, 0.0], [0.0, 0.0, 0.0, 0.0, 1.0, 0.0]]\n",
      "[0 0 0 0 1 0]\n",
      "3\n",
      "[[0.0, 0.0, 0.0, 0.75, 0.0, 0.25], [0.5, 0.0, 0.5, 0.0, 0.0, 0.0], [0.0, 0.0, 0.0, 0.0, 1.0, 0.0], [0.3333333333333333, 0.3333333333333333, 0.3333333333333333, 0.0, 0.0, 0.0]]\n",
      "[1 1 1 0 0 0]\n",
      "2\n",
      "[[0.0, 0.0, 0.0, 0.75, 0.0, 0.25], [0.5, 0.0, 0.5, 0.0, 0.0, 0.0], [0.0, 0.0, 0.0, 0.0, 1.0, 0.0], [0.3333333333333333, 0.3333333333333333, 0.3333333333333333, 0.0, 0.0, 0.0], [0.0, 0.0, 0.0, 0.5, 0.0, 0.5]]\n",
      "[0 0 0 1 0 1]\n",
      "3\n",
      "[[0.0, 0.0, 0.0, 0.75, 0.0, 0.25], [0.5, 0.0, 0.5, 0.0, 0.0, 0.0], [0.0, 0.0, 0.0, 0.0, 1.0, 0.0], [0.3333333333333333, 0.3333333333333333, 0.3333333333333333, 0.0, 0.0, 0.0], [0.0, 0.0, 0.0, 0.5, 0.0, 0.5], [0.3333333333333333, 0.3333333333333333, 0.3333333333333333, 0.0, 0.0, 0.0]]\n",
      "[1 1 1 0 0 0]\n",
      "1\n",
      "[[0.0, 0.0, 0.0, 0.75, 0.0, 0.25], [0.5, 0.0, 0.5, 0.0, 0.0, 0.0], [0.0, 0.0, 0.0, 0.0, 1.0, 0.0], [0.3333333333333333, 0.3333333333333333, 0.3333333333333333, 0.0, 0.0, 0.0], [0.0, 0.0, 0.0, 0.5, 0.0, 0.5], [0.3333333333333333, 0.3333333333333333, 0.3333333333333333, 0.0, 0.0, 0.0], [0.0, 0.0, 0.0, 0.0, 0.0, 1.0]]\n",
      "[0 0 0 0 0 1]\n",
      "1\n",
      "[[0.0, 0.0, 0.0, 0.75, 0.0, 0.25], [0.5, 0.0, 0.5, 0.0, 0.0, 0.0], [0.0, 0.0, 0.0, 0.0, 1.0, 0.0], [0.3333333333333333, 0.3333333333333333, 0.3333333333333333, 0.0, 0.0, 0.0], [0.0, 0.0, 0.0, 0.5, 0.0, 0.5], [0.3333333333333333, 0.3333333333333333, 0.3333333333333333, 0.0, 0.0, 0.0], [0.0, 0.0, 0.0, 0.0, 0.0, 1.0], [0.0, 0.0, 0.0, 0.0, 1.0, 0.0]]\n",
      "[0 0 0 0 1 0]\n",
      "4\n",
      "[[0.0, 0.0, 0.0, 0.75, 0.0, 0.25], [0.5, 0.0, 0.5, 0.0, 0.0, 0.0], [0.0, 0.0, 0.0, 0.0, 1.0, 0.0], [0.3333333333333333, 0.3333333333333333, 0.3333333333333333, 0.0, 0.0, 0.0], [0.0, 0.0, 0.0, 0.5, 0.0, 0.5], [0.3333333333333333, 0.3333333333333333, 0.3333333333333333, 0.0, 0.0, 0.0], [0.0, 0.0, 0.0, 0.0, 0.0, 1.0], [0.0, 0.0, 0.0, 0.0, 1.0, 0.0], [0.0, 0.0, 0.0, 0.75, 0.0, 0.25]]\n",
      "[0 0 0 3 0 1]\n",
      "2\n",
      "[[0.0, 0.0, 0.0, 0.75, 0.0, 0.25], [0.5, 0.0, 0.5, 0.0, 0.0, 0.0], [0.0, 0.0, 0.0, 0.0, 1.0, 0.0], [0.3333333333333333, 0.3333333333333333, 0.3333333333333333, 0.0, 0.0, 0.0], [0.0, 0.0, 0.0, 0.5, 0.0, 0.5], [0.3333333333333333, 0.3333333333333333, 0.3333333333333333, 0.0, 0.0, 0.0], [0.0, 0.0, 0.0, 0.0, 0.0, 1.0], [0.0, 0.0, 0.0, 0.0, 1.0, 0.0], [0.0, 0.0, 0.0, 0.75, 0.0, 0.25], [0.5, 0.0, 0.5, 0.0, 0.0, 0.0]]\n",
      "[1 0 1 0 0 0]\n",
      "1\n",
      "[[0.0, 0.0, 0.0, 0.75, 0.0, 0.25], [0.5, 0.0, 0.5, 0.0, 0.0, 0.0], [0.0, 0.0, 0.0, 0.0, 1.0, 0.0], [0.3333333333333333, 0.3333333333333333, 0.3333333333333333, 0.0, 0.0, 0.0], [0.0, 0.0, 0.0, 0.5, 0.0, 0.5], [0.3333333333333333, 0.3333333333333333, 0.3333333333333333, 0.0, 0.0, 0.0], [0.0, 0.0, 0.0, 0.0, 0.0, 1.0], [0.0, 0.0, 0.0, 0.0, 1.0, 0.0], [0.0, 0.0, 0.0, 0.75, 0.0, 0.25], [0.5, 0.0, 0.5, 0.0, 0.0, 0.0], [0.0, 0.0, 0.0, 0.0, 1.0, 0.0]]\n",
      "[0 0 0 0 1 0]\n",
      "3\n",
      "[[0.0, 0.0, 0.0, 0.75, 0.0, 0.25], [0.5, 0.0, 0.5, 0.0, 0.0, 0.0], [0.0, 0.0, 0.0, 0.0, 1.0, 0.0], [0.3333333333333333, 0.3333333333333333, 0.3333333333333333, 0.0, 0.0, 0.0], [0.0, 0.0, 0.0, 0.5, 0.0, 0.5], [0.3333333333333333, 0.3333333333333333, 0.3333333333333333, 0.0, 0.0, 0.0], [0.0, 0.0, 0.0, 0.0, 0.0, 1.0], [0.0, 0.0, 0.0, 0.0, 1.0, 0.0], [0.0, 0.0, 0.0, 0.75, 0.0, 0.25], [0.5, 0.0, 0.5, 0.0, 0.0, 0.0], [0.0, 0.0, 0.0, 0.0, 1.0, 0.0], [0.3333333333333333, 0.3333333333333333, 0.3333333333333333, 0.0, 0.0, 0.0]]\n",
      "[1 1 1 0 0 0]\n",
      "2\n",
      "[[0.0, 0.0, 0.0, 0.75, 0.0, 0.25], [0.5, 0.0, 0.5, 0.0, 0.0, 0.0], [0.0, 0.0, 0.0, 0.0, 1.0, 0.0], [0.3333333333333333, 0.3333333333333333, 0.3333333333333333, 0.0, 0.0, 0.0], [0.0, 0.0, 0.0, 0.5, 0.0, 0.5], [0.3333333333333333, 0.3333333333333333, 0.3333333333333333, 0.0, 0.0, 0.0], [0.0, 0.0, 0.0, 0.0, 0.0, 1.0], [0.0, 0.0, 0.0, 0.0, 1.0, 0.0], [0.0, 0.0, 0.0, 0.75, 0.0, 0.25], [0.5, 0.0, 0.5, 0.0, 0.0, 0.0], [0.0, 0.0, 0.0, 0.0, 1.0, 0.0], [0.3333333333333333, 0.3333333333333333, 0.3333333333333333, 0.0, 0.0, 0.0], [0.0, 0.0, 0.0, 0.5, 0.0, 0.5]]\n",
      "[0 0 0 1 0 1]\n",
      "3\n",
      "[[0.0, 0.0, 0.0, 0.75, 0.0, 0.25], [0.5, 0.0, 0.5, 0.0, 0.0, 0.0], [0.0, 0.0, 0.0, 0.0, 1.0, 0.0], [0.3333333333333333, 0.3333333333333333, 0.3333333333333333, 0.0, 0.0, 0.0], [0.0, 0.0, 0.0, 0.5, 0.0, 0.5], [0.3333333333333333, 0.3333333333333333, 0.3333333333333333, 0.0, 0.0, 0.0], [0.0, 0.0, 0.0, 0.0, 0.0, 1.0], [0.0, 0.0, 0.0, 0.0, 1.0, 0.0], [0.0, 0.0, 0.0, 0.75, 0.0, 0.25], [0.5, 0.0, 0.5, 0.0, 0.0, 0.0], [0.0, 0.0, 0.0, 0.0, 1.0, 0.0], [0.3333333333333333, 0.3333333333333333, 0.3333333333333333, 0.0, 0.0, 0.0], [0.0, 0.0, 0.0, 0.5, 0.0, 0.5], [0.3333333333333333, 0.3333333333333333, 0.3333333333333333, 0.0, 0.0, 0.0]]\n",
      "[1 1 1 0 0 0]\n",
      "1\n",
      "[[0.0, 0.0, 0.0, 0.75, 0.0, 0.25], [0.5, 0.0, 0.5, 0.0, 0.0, 0.0], [0.0, 0.0, 0.0, 0.0, 1.0, 0.0], [0.3333333333333333, 0.3333333333333333, 0.3333333333333333, 0.0, 0.0, 0.0], [0.0, 0.0, 0.0, 0.5, 0.0, 0.5], [0.3333333333333333, 0.3333333333333333, 0.3333333333333333, 0.0, 0.0, 0.0], [0.0, 0.0, 0.0, 0.0, 0.0, 1.0], [0.0, 0.0, 0.0, 0.0, 1.0, 0.0], [0.0, 0.0, 0.0, 0.75, 0.0, 0.25], [0.5, 0.0, 0.5, 0.0, 0.0, 0.0], [0.0, 0.0, 0.0, 0.0, 1.0, 0.0], [0.3333333333333333, 0.3333333333333333, 0.3333333333333333, 0.0, 0.0, 0.0], [0.0, 0.0, 0.0, 0.5, 0.0, 0.5], [0.3333333333333333, 0.3333333333333333, 0.3333333333333333, 0.0, 0.0, 0.0], [0.0, 0.0, 0.0, 0.0, 0.0, 1.0]]\n",
      "[0 0 0 0 0 1]\n",
      "1\n",
      "[[0.0, 0.0, 0.0, 0.75, 0.0, 0.25], [0.5, 0.0, 0.5, 0.0, 0.0, 0.0], [0.0, 0.0, 0.0, 0.0, 1.0, 0.0], [0.3333333333333333, 0.3333333333333333, 0.3333333333333333, 0.0, 0.0, 0.0], [0.0, 0.0, 0.0, 0.5, 0.0, 0.5], [0.3333333333333333, 0.3333333333333333, 0.3333333333333333, 0.0, 0.0, 0.0], [0.0, 0.0, 0.0, 0.0, 0.0, 1.0], [0.0, 0.0, 0.0, 0.0, 1.0, 0.0], [0.0, 0.0, 0.0, 0.75, 0.0, 0.25], [0.5, 0.0, 0.5, 0.0, 0.0, 0.0], [0.0, 0.0, 0.0, 0.0, 1.0, 0.0], [0.3333333333333333, 0.3333333333333333, 0.3333333333333333, 0.0, 0.0, 0.0], [0.0, 0.0, 0.0, 0.5, 0.0, 0.5], [0.3333333333333333, 0.3333333333333333, 0.3333333333333333, 0.0, 0.0, 0.0], [0.0, 0.0, 0.0, 0.0, 0.0, 1.0], [0.0, 0.0, 0.0, 0.0, 1.0, 0.0]]\n",
      "[0 0 0 0 1 0]\n",
      "4\n",
      "[[0.0, 0.0, 0.0, 0.75, 0.0, 0.25], [0.5, 0.0, 0.5, 0.0, 0.0, 0.0], [0.0, 0.0, 0.0, 0.0, 1.0, 0.0], [0.3333333333333333, 0.3333333333333333, 0.3333333333333333, 0.0, 0.0, 0.0], [0.0, 0.0, 0.0, 0.5, 0.0, 0.5], [0.3333333333333333, 0.3333333333333333, 0.3333333333333333, 0.0, 0.0, 0.0], [0.0, 0.0, 0.0, 0.0, 0.0, 1.0], [0.0, 0.0, 0.0, 0.0, 1.0, 0.0], [0.0, 0.0, 0.0, 0.75, 0.0, 0.25], [0.5, 0.0, 0.5, 0.0, 0.0, 0.0], [0.0, 0.0, 0.0, 0.0, 1.0, 0.0], [0.3333333333333333, 0.3333333333333333, 0.3333333333333333, 0.0, 0.0, 0.0], [0.0, 0.0, 0.0, 0.5, 0.0, 0.5], [0.3333333333333333, 0.3333333333333333, 0.3333333333333333, 0.0, 0.0, 0.0], [0.0, 0.0, 0.0, 0.0, 0.0, 1.0], [0.0, 0.0, 0.0, 0.0, 1.0, 0.0], [0.0, 0.0, 0.0, 0.75, 0.0, 0.25]]\n",
      "[0 0 0 3 0 1]\n",
      "2\n",
      "[[0.0, 0.0, 0.0, 0.75, 0.0, 0.25], [0.5, 0.0, 0.5, 0.0, 0.0, 0.0], [0.0, 0.0, 0.0, 0.0, 1.0, 0.0], [0.3333333333333333, 0.3333333333333333, 0.3333333333333333, 0.0, 0.0, 0.0], [0.0, 0.0, 0.0, 0.5, 0.0, 0.5], [0.3333333333333333, 0.3333333333333333, 0.3333333333333333, 0.0, 0.0, 0.0], [0.0, 0.0, 0.0, 0.0, 0.0, 1.0], [0.0, 0.0, 0.0, 0.0, 1.0, 0.0], [0.0, 0.0, 0.0, 0.75, 0.0, 0.25], [0.5, 0.0, 0.5, 0.0, 0.0, 0.0], [0.0, 0.0, 0.0, 0.0, 1.0, 0.0], [0.3333333333333333, 0.3333333333333333, 0.3333333333333333, 0.0, 0.0, 0.0], [0.0, 0.0, 0.0, 0.5, 0.0, 0.5], [0.3333333333333333, 0.3333333333333333, 0.3333333333333333, 0.0, 0.0, 0.0], [0.0, 0.0, 0.0, 0.0, 0.0, 1.0], [0.0, 0.0, 0.0, 0.0, 1.0, 0.0], [0.0, 0.0, 0.0, 0.75, 0.0, 0.25], [0.5, 0.0, 0.5, 0.0, 0.0, 0.0]]\n",
      "[1 0 1 0 0 0]\n"
     ]
    },
    {
     "data": {
      "text/plain": [
       "array([[0.        , 0.        , 0.        , 0.75      , 0.        ,\n",
       "        0.25      ],\n",
       "       [0.5       , 0.        , 0.5       , 0.        , 0.        ,\n",
       "        0.        ],\n",
       "       [0.        , 0.        , 0.        , 0.        , 1.        ,\n",
       "        0.        ],\n",
       "       [0.33333333, 0.33333333, 0.33333333, 0.        , 0.        ,\n",
       "        0.        ],\n",
       "       [0.        , 0.        , 0.        , 0.5       , 0.        ,\n",
       "        0.5       ],\n",
       "       [0.33333333, 0.33333333, 0.33333333, 0.        , 0.        ,\n",
       "        0.        ],\n",
       "       [0.        , 0.        , 0.        , 0.        , 0.        ,\n",
       "        1.        ],\n",
       "       [0.        , 0.        , 0.        , 0.        , 1.        ,\n",
       "        0.        ],\n",
       "       [0.        , 0.        , 0.        , 0.75      , 0.        ,\n",
       "        0.25      ],\n",
       "       [0.5       , 0.        , 0.5       , 0.        , 0.        ,\n",
       "        0.        ],\n",
       "       [0.        , 0.        , 0.        , 0.        , 1.        ,\n",
       "        0.        ],\n",
       "       [0.33333333, 0.33333333, 0.33333333, 0.        , 0.        ,\n",
       "        0.        ],\n",
       "       [0.        , 0.        , 0.        , 0.5       , 0.        ,\n",
       "        0.5       ],\n",
       "       [0.33333333, 0.33333333, 0.33333333, 0.        , 0.        ,\n",
       "        0.        ],\n",
       "       [0.        , 0.        , 0.        , 0.        , 0.        ,\n",
       "        1.        ],\n",
       "       [0.        , 0.        , 0.        , 0.        , 1.        ,\n",
       "        0.        ],\n",
       "       [0.        , 0.        , 0.        , 0.75      , 0.        ,\n",
       "        0.25      ],\n",
       "       [0.5       , 0.        , 0.5       , 0.        , 0.        ,\n",
       "        0.        ]])"
      ]
     },
     "execution_count": 235,
     "metadata": {},
     "output_type": "execute_result"
    }
   ],
   "source": [
    "frequency_bow(data.col1, vocab)"
   ]
  },
  {
   "cell_type": "code",
   "execution_count": 197,
   "metadata": {},
   "outputs": [
    {
     "data": {
      "text/plain": [
       "['it', 'is', 'okay', 'great', 'bad', 'game']"
      ]
     },
     "execution_count": 197,
     "metadata": {},
     "output_type": "execute_result"
    }
   ],
   "source": [
    "vocab"
   ]
  }
 ],
 "metadata": {
  "kernelspec": {
   "display_name": "Python 3.10.4 64-bit ('projet')",
   "language": "python",
   "name": "python3"
  },
  "language_info": {
   "codemirror_mode": {
    "name": "ipython",
    "version": 3
   },
   "file_extension": ".py",
   "mimetype": "text/x-python",
   "name": "python",
   "nbconvert_exporter": "python",
   "pygments_lexer": "ipython3",
   "version": "3.10.4"
  },
  "orig_nbformat": 4,
  "vscode": {
   "interpreter": {
    "hash": "0decea462c7e04bd273e0479c9aa899d267abce0f76ee1a441bf09f7d1a4783f"
   }
  }
 },
 "nbformat": 4,
 "nbformat_minor": 2
}
